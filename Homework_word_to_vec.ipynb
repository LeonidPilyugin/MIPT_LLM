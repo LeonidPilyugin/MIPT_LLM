{
 "cells": [
  {
   "cell_type": "markdown",
   "metadata": {},
   "source": [
    "# Практика: word2vec для кристаллов\n",
    "\n",
    "Как вы уже могли заметить, идея, лежащая в основе [word2vec](https://arxiv.org/pdf/1310.4546), достаточно общая. В данном задании вы реализуете его самостоятельно.\n",
    "\n",
    "P.s. GPU в этом задании нам не потребуется :)"
   ]
  },
  {
   "cell_type": "markdown",
   "metadata": {},
   "source": [
    "Многие функции из этого ноутбука лежат в файле `skipgram_model_functions.py`. Это сделано специально, чтобы подсветить важные моменты и не отвлекаться на большое количество кода. Мы рекомендуем ничего не менять в функциях, исключением могут быть функции для визуализации данных."
   ]
  },
  {
   "cell_type": "code",
   "execution_count": 1,
   "metadata": {},
   "outputs": [
    {
     "name": "stderr",
     "output_type": "stream",
     "text": [
      "/home/u7c/miniconda3/lib/python3.10/site-packages/tqdm/auto.py:22: TqdmWarning: IProgress not found. Please update jupyter and ipywidgets. See https://ipywidgets.readthedocs.io/en/stable/user_install.html\n",
      "  from .autonotebook import tqdm as notebook_tqdm\n"
     ]
    }
   ],
   "source": [
    "import numpy as np\n",
    "import pandas as pd\n",
    "import torch\n",
    "import torch.nn as nn\n",
    "import umap\n",
    "from nltk.tokenize import WhitespaceTokenizer\n",
    "from nltk.tokenize import PunktSentenceTokenizer\n",
    "from torch.optim.lr_scheduler import ReduceLROnPlateau, StepLR\n",
    "\n",
    "from skipgram_model_functions import *"
   ]
  },
  {
   "cell_type": "markdown",
   "metadata": {},
   "source": [
    "## Что мы хотим сделать?"
   ]
  },
  {
   "cell_type": "markdown",
   "metadata": {},
   "source": [
    "Это задание нужно для того, чтобы своими руками написать модель, которая является отправной точкой для современных LLM. Прежде чем углубляться в более сложные архитектуры и изучать то, как LLM на лету генерирует текст (а иногда и не текст, а что-то другой модальности), что можно считать работой с последовательностями динамической длины, мы хотим разобраться с построением контекстуального эмбеддинга для токена - атомарной единицы языка. Мы будем решать задачу предсказания вероятности одного токена оказаться (или не оказаться) в одном контексте с другим. Из этого знания мы можем получить представление о том, какие токены схожи и различны. Опираясь на эту информацию можно не только приступать к генерации последовательностей, но и решать другие задачи. Например, в кристаллохимии можно предсказывать физикохимические свойства соединений, зная их векторное представление, или эмбеддинг."
   ]
  },
  {
   "cell_type": "markdown",
   "metadata": {},
   "source": [
    "## Небольшой рассказ о данных"
   ]
  },
  {
   "cell_type": "markdown",
   "metadata": {},
   "source": [
    "Мы будем работать с базой данных `Materials Project`. Для задачи были отобраны стабильные экспериментальные кристаллические структуры, для которых было сгенерировано текстовое описние при помощи `Robocrystallographer`. Все текстовые описания были токенизированы (в нашем случае токен = 1 слово). В `корпус` попали те структуры, описание которых не превышало 70 токенов. \n",
    "<p>Папка содержит 2 файла с данными:\n",
    "\n",
    "`robocrys_exp_stable_70_tokens.txt` - основной файл, с которым мы будем работать. Содержит строки с текстовым описанием кристаллических структур.\n",
    "<p>\n",
    "\n",
    "`robocrys_exp_stable_70_tokens.csv` - файл, содержащий дополнительную информацию о кристаллических структурах, которая пригодится при визуализации эмбеддингов, которые мы посчитаем"
   ]
  },
  {
   "cell_type": "code",
   "execution_count": 2,
   "metadata": {},
   "outputs": [],
   "source": [
    "data = list(open(\"robocrys_exp_stable_70_tokens.txt\", encoding=\"utf-8\"))"
   ]
  },
  {
   "cell_type": "markdown",
   "metadata": {},
   "source": [
    "## Предобработка данных. Токенизация"
   ]
  },
  {
   "cell_type": "markdown",
   "metadata": {},
   "source": [
    "Токенизация – первый шаг.\n",
    "Тексты, с которыми мы работаем, включают в себя пунктуацию и прочие нестандартные токены, так что простой `str.split` иногда может не подходить под конкретную задачу. В данном случае в качестве токена мы будем использовать каждое слово, число и символ пространнственной группы. Можно было бы для каждой строки `i` в `data` выполнить `data[i].strip().split()`, но мы используем `WhitespaceTokenizer`, выполняющий аналогичную функцию.\n",
    "\n",
    "Обратимся к `nltk` - библиотеке, которая нашла широкое применение в области NLP."
   ]
  },
  {
   "cell_type": "code",
   "execution_count": 3,
   "metadata": {},
   "outputs": [],
   "source": [
    "tokenizer = WhitespaceTokenizer()"
   ]
  },
  {
   "cell_type": "markdown",
   "metadata": {},
   "source": [
    "Посмотрим, как выглядит типичное описание одного кристалла:"
   ]
  },
  {
   "cell_type": "code",
   "execution_count": 4,
   "metadata": {},
   "outputs": [
    {
     "name": "stdout",
     "output_type": "stream",
     "text": [
      "Hf is Magnesium structured and crystallizes in the hexagonal P63/mmc space group. Hf is bonded to twelve equivalent Hf atoms to form a mixture of edge, face, and corner-sharing HfHf12 cuboctahedra. There are six shorter (3.12 Å) and six longer (3.19 Å) Hf-Hf bond lengths.\n",
      "\n"
     ]
    }
   ],
   "source": [
    "test_description = data[0]\n",
    "\n",
    "print(test_description)"
   ]
  },
  {
   "cell_type": "markdown",
   "metadata": {},
   "source": [
    "Можно заметить, что описание содержит переносы строки, запятые и точки, которые необходимо удалить перед применением `WhitespaceTokenizer`. Все точки удалять нельзя, потому что некоторые из них являются частью чисел с плавающей точкой (например, 3.26 Å). Также нельзя удалять и использовать в качестве разделителей для токенизации некоторые специальные символы: /, -."
   ]
  },
  {
   "cell_type": "markdown",
   "metadata": {},
   "source": [
    "Сначала заменим все запятые в описаниях кристаллов на пробелы:"
   ]
  },
  {
   "cell_type": "code",
   "execution_count": 5,
   "metadata": {},
   "outputs": [
    {
     "name": "stdout",
     "output_type": "stream",
     "text": [
      "Hf is Magnesium structured and crystallizes in the hexagonal P63/mmc space group. Hf is bonded to twelve equivalent Hf atoms to form a mixture of edge face and corner-sharing HfHf12 cuboctahedra. There are six shorter (3.12 Å) and six longer (3.19 Å) Hf-Hf bond lengths.\n",
      "\n"
     ]
    }
   ],
   "source": [
    "test_description = test_description.replace(\",\", \"\")\n",
    "\n",
    "print(test_description)"
   ]
  },
  {
   "cell_type": "markdown",
   "metadata": {},
   "source": [
    "Теперь необходимо избавиться от символов переноса строки и точек в конце каждого предложения. Для этого используем `PunktSentenceTokenizer`. Он разобьёт описания на предложения, а затем мы удалим точку в конце каждого из них."
   ]
  },
  {
   "cell_type": "code",
   "execution_count": 6,
   "metadata": {},
   "outputs": [],
   "source": [
    "sentence_tokenizer = PunktSentenceTokenizer()"
   ]
  },
  {
   "cell_type": "code",
   "execution_count": 7,
   "metadata": {},
   "outputs": [
    {
     "name": "stdout",
     "output_type": "stream",
     "text": [
      "Test sentences in description look like:\n",
      "['Hf is Magnesium structured and crystallizes in the hexagonal P63/mmc space group.', 'Hf is bonded to twelve equivalent Hf atoms to form a mixture of edge face and corner-sharing HfHf12 cuboctahedra.', 'There are six shorter (3.12 Å) and six longer (3.19 Å) Hf-Hf bond lengths.']\n",
      "Test tokens of description look like:\n",
      "['Hf', 'is', 'Magnesium', 'structured', 'and', 'crystallizes', 'in', 'the', 'hexagonal', 'P63/mmc', 'space', 'group', 'Hf', 'is', 'bonded', 'to', 'twelve', 'equivalent', 'Hf', 'atoms', 'to', 'form', 'a', 'mixture', 'of', 'edge', 'face', 'and', 'corner-sharing', 'HfHf12', 'cuboctahedra', 'There', 'are', 'six', 'shorter', '(3.12', 'Å)', 'and', 'six', 'longer', '(3.19', 'Å)', 'Hf-Hf', 'bond', 'lengths']\n"
     ]
    }
   ],
   "source": [
    "test_sentences = sentence_tokenizer.tokenize(test_description)\n",
    "\n",
    "print(f'Test sentences in description look like:\\n{test_sentences}')\n",
    "\n",
    "\n",
    "# Вот теперь используем WhiteSpaceTokenizer\n",
    "sentences_modified = [s.rstrip('.') for s in test_sentences]\n",
    "test_tokens = sum([tokenizer.tokenize(sentence) for sentence in sentences_modified], [])\n",
    "\n",
    "print(f'Test tokens of description look like:\\n{test_tokens}')"
   ]
  },
  {
   "cell_type": "markdown",
   "metadata": {},
   "source": [
    "Теперь токенизируем все описания кристаллов в нашем корпусе:"
   ]
  },
  {
   "cell_type": "code",
   "execution_count": 8,
   "metadata": {},
   "outputs": [
    {
     "name": "stdout",
     "output_type": "stream",
     "text": [
      "Количество описаний кристаллов в корпусе:\n",
      "1798\n",
      "\n",
      "Суммарное количество токенов в корпусе:\n",
      "104398\n"
     ]
    }
   ],
   "source": [
    "data_tokenized = []\n",
    "\n",
    "for description in data:\n",
    "    description = description.replace(\",\", \"\")\n",
    "    sentences = sentence_tokenizer.tokenize(description)\n",
    "    sentences_modified = [s.rstrip('.') for s in sentences]\n",
    "    tokens = sum([tokenizer.tokenize(s) for s in sentences_modified], [])\n",
    "    data_tokenized.append(tokens)\n",
    "\n",
    "\n",
    "print(f\"Количество описаний кристаллов в корпусе:\\n{len(data_tokenized)}\\n\")\n",
    "\n",
    "n_tokens = sum(len(description) for description in data_tokenized)\n",
    "print(f\"Суммарное количество токенов в корпусе:\\n{n_tokens}\")"
   ]
  },
  {
   "cell_type": "markdown",
   "metadata": {},
   "source": [
    "## Частота встречаемости слов и уникальные слова"
   ]
  },
  {
   "cell_type": "markdown",
   "metadata": {},
   "source": [
    "Для расчета вероятностей нахождения одного слова в контексте другого нам необходимо получить частоту встречаемости каждого токена и список уникальных токенов. Сначала подсчитаем частоту встречаемости слов в корпусе:"
   ]
  },
  {
   "cell_type": "code",
   "execution_count": 9,
   "metadata": {},
   "outputs": [
    {
     "name": "stdout",
     "output_type": "stream",
     "text": [
      "Частота встречаемости каждого токена в корпусе:\n",
      "{'Hf': 49, 'is': 5182, 'Magnesium': 20, 'structured': 1095, 'and': 3336, 'crystallizes': 1798, 'in': 4524, 'the': 1798, 'hexagonal': 236, 'P63/mmc': 76, 'space': 1798, 'group': 1798, 'bonded': 3931, 'to': 5136, 'twelve': 388, 'equivalent': 4605, 'atoms': 3759, 'form': 1205, 'a': 4117, 'mixture': 1017, 'of': 1436, 'edge': 536, 'face': 223, 'corner-sharing': 1055, 'HfHf12': 1, 'cuboctahedra': 352, 'There': 677, 'are': 3016, 'six': 1202, 'shorter': 305, '(3.12': 4, 'Å)': 610, 'longer': 305, '(3.19': 5, 'Hf-Hf': 1, 'bond': 2679, 'lengths': 2204, 'Sb': 9, 'alpha': 26, 'As': 17, 'trigonal': 172, 'R̅3m': 22, 'distorted': 475, 'corner': 470, 'edge-sharing': 460, 'SbSb6': 1, 'octahedra': 901, 'The': 600, 'octahedral': 107, 'tilt': 96, 'angles': 96, '12°': 1, 'three': 373, '(2.93': 6, '(3.43': 6, 'Sb-Sb': 5, 'Y': 78, 'face-sharing': 172, 'YY12': 1, '(3.61': 1, '(3.64': 3, 'Y-Y': 1, 'Tc': 10, 'TcTc12': 1, '(2.71': 2, '(2.74': 5, 'Tc-Tc': 2, 'Zr': 57, 'ZrZr12': 1, '(3.24': 8, 'Zr-Zr': 3, 'Ho': 78, 'HoHo12': 1, '(3.47': 2, '(3.62': 3, 'Ho-Ho': 1, 'Mg': 65, 'MgMg12': 1, '(3.16': 1, '(3.17': 4, 'Mg-Mg': 1, 'N2': 3, 'Cubic': 104, 'cubic': 1697, 'P2_13': 22, 'structure': 79, 'zero-dimensional': 34, 'consists': 47, 'four': 1181, 'clusters': 35, 'N': 10, 'single-bond': 78, 'geometry': 2726, 'one': 289, 'atom': 172, 'N-N': 4, 'length': 103, '1.11': 1, 'Å': 409, 'Gd': 69, 'GdGd12': 1, 'Gd-Gd': 1, 'F2': 2, 'N2-like': 3, 'monoclinic': 19, 'C2/c': 9, 'F': 6, 'F-F': 1, '1.41': 2, 'O2': 2, 'oxygen': 1, 'C2/m': 4, 'two': 528, 'O': 20, 'O-O': 8, '1.22': 2, 'Pa': 3, 'Protactinium': 2, 'tetragonal': 301, 'I4/mmm': 135, 'q6': 38, 'ten': 53, 'eight': 930, '(3.20': 2, 'Pa-Pa': 1, 'Sc': 75, 'ScSc12': 1, '(3.27': 7, '(3.29': 2, 'Sc-Sc': 1, 'H2': 2, 'orthorhombic': 323, 'P2_12_121': 1, 'H': 37, 'H-H': 1, '0.74': 1, 'Be': 16, 'BeBe12': 1, '(2.21': 2, '(2.26': 3, 'Be-Be': 2, 'Na': 19, 'NaNa12': 1, '(3.69': 1, '(3.79': 2, 'Na-Na': 1, 'Sn': 66, 'diamond': 3, 'Fd̅3m': 115, 'SnSn4': 1, 'tetrahedra': 289, 'All': 1696, 'Sn-Sn': 6, '2.84': 25, 'Ba': 37, 'Tungsten': 16, 'Cmcm': 111, 'body-centered': 780, 'spread': 372, 'Ba-Ba': 1, 'distances': 372, 'ranging': 372, 'from': 395, '4.37-4.41': 1, 'Mo': 25, 'Im̅3m': 10, 'Mo-Mo': 7, '2.74': 13, 'Sr': 47, 'SrSr12': 1, '(4.30': 1, '(4.31': 1, 'Sr-Sr': 1, 'Tm': 69, 'TmTm12': 1, '(3.56': 3, 'Tm-Tm': 1, 'V': 75, 'V-V': 18, '2.58': 23, 'Si': 62, 'SiSi4': 1, 'Si-Si': 34, '2.36': 20, 'Tb': 63, 'TbTb12': 1, '(3.51': 3, '(3.67': 2, 'Tb-Tb': 1, 'Eu': 57, 'EuEu12': 1, 'Eu-Eu': 1, '3.90-4.01': 1, 'Ge': 48, 'GeGe4': 1, 'Ge-Ge': 21, '2.46': 16, 'Ru': 42, 'RuRu12': 1, '(2.65': 2, 'Ru-Ru': 3, 'Os': 9, 'OsOs12': 1, '(2.68': 5, '(2.75': 5, 'Os-Os': 2, 'Nb': 33, 'Nb-Nb': 7, '2.87': 14, 'Zn': 118, 'ZnZn12': 1, '(2.61': 5, '(2.87': 5, 'Zn-Zn': 21, 'Tl': 47, 'TlTl12': 1, '(3.50': 2, 'Tl-Tl': 2, 'Dy': 80, 'DyDy12': 1, '(3.49': 2, 'Dy-Dy': 1, 'Cr': 8, 'Cr-Cr': 2, '2.57': 10, 'Cd': 74, 'CdCd12': 1, '(2.96': 10, '(3.40': 4, 'Cd-Cd': 8, 'Ir': 102, 'Copper': 21, 'Fm̅3m': 352, 'IrIr12': 1, 'Ir-Ir': 18, '2.73': 15, 'Co': 95, 'CoCo12': 1, 'Co-Co': 16, '2.48': 27, 'Cs': 11, 'CsCs12': 1, 'Cs-Cs': 1, '5.58': 1, 'Ne': 3, '1-coordinate': 11, 'Pt': 106, 'PtPt12': 1, 'Pt-Pt': 27, '2.79': 16, 'Fe': 55, 'Fe-Fe': 10, 'Al': 139, 'AlAl12': 1, 'Al-Al': 13, '2.86': 18, 'Ga': 163, 'Cmce': 4, '7-coordinate': 243, 'seven': 334, 'Ga-Ga': 42, '2.49-2.75': 1, 'Pd': 174, 'PdPd12': 1, 'Pd-Pd': 8, '2.77': 18, 'Pb': 65, 'PbPb12': 1, 'Pb-Pb': 5, '3.53': 3, 'Cl2': 2, 'Cl': 2, 'Cl-Cl': 1, '2.00': 3, 'Ni': 121, 'NiNi12': 1, 'Ni-Ni': 30, 'Ar': 3, 'He': 3, 'Ce': 59, 'CeCe12': 1, 'Ce-Ce': 1, '3.30': 8, 'Cu': 106, 'CuCu12': 1, 'Cu-Cu': 22, '2.53': 15, 'Th': 71, 'ThTh12': 1, 'Th-Th': 2, '3.57': 3, 'Ca': 55, 'CaCa12': 1, 'Ca-Ca': 1, '3.94': 2, 'Rh': 176, 'RhRh12': 1, 'Rh-Rh': 23, '2.69': 18, 'Au': 158, 'AuAu12': 1, 'Au-Au': 19, '2.95': 15, 'In': 100, 'InIn12': 1, '(3.32': 2, '(3.39': 7, 'In-In': 8, 'W': 13, 'W-W': 3, '2.75': 19, 'TaP': 1, 'Niobium': 4, 'phosphide': 4, 'I41md': 4, 'Ta3+': 12, 'P3-': 135, 'TaP6': 1, 'pentagonal': 34, 'pyramids': 40, '(2.53': 1, '(2.54': 4, 'Ta-P': 1, 'PTa6': 1, 'TaAs': 1, 'As3-': 112, 'TaAs6': 1, '(2.62': 4, 'Ta-As': 1, 'AsTa6': 1, 'NbAs': 1, 'Nb3+': 10, 'NbAs6': 1, '(2.63': 7, '(2.64': 10, 'Nb-As': 1, 'AsNb6': 1, 'Pd4Se': 1, 'P̅421c': 2, 'bent': 25, '150': 13, 'degrees': 25, 'Se': 18, '(2.47': 3, '(2.51': 1, 'Pd-Se': 3, '8-coordinate': 177, 'NbP': 1, 'NbP6': 1, 'Nb-P': 1, '2.55': 7, 'Å.': 1965, 'PNb6': 1, 'RhHg2': 1, 'P4/mmm': 33, 'Hg': 106, 'Rh-Hg': 1, '2.76': 23, '4-coordinate': 164, 'IrNb': 1, 'Tetraauricupride': 214, 'NbIr8': 1, 'Nb-Ir': 2, '2.81': 21, 'IrNb8': 1, 'RuTa': 1, 'Ta': 21, 'Ta-Ru': 1, 'PdZn': 1, 'Pd-Zn': 2, '2.64': 20, 'PdCd': 1, 'Pd-Cd': 1, '2.83': 15, 'NbRh': 1, 'NbRh8': 1, 'Nb-Rh': 2, '2.80': 15, 'RhNb8': 1, 'CaPb': 1, 'Ca-Pb': 2, '3.42': 7, 'FePt': 1, 'Fe2+': 26, 'Pt2-': 96, 'Fe-Pt': 1, 'PtFe8Pt4': 1, 'LiBi': 1, 'Li': 43, 'Bi': 45, 'Li-Bi': 1, '3.19': 19, 'ZnCl2': 1, 'I̅42d': 5, 'Zn2+': 24, 'Cl1-': 64, 'ZnCl4': 1, 'Zn-Cl': 1, '2.28': 9, 'water-like': 10, 'NaBi': 1, 'NaBi8': 1, 'Na-Bi': 1, 'BiNa8': 1, 'PtV': 1, 'V2+': 10, 'V-Pt': 2, '2.72': 16, 'PtV8Pt4': 1, 'PdHg': 1, 'PdHg8': 1, 'Pd-Hg': 1, 'HgPd8': 1, 'NbRu': 1, 'Nb-Ru': 2, 'AuCu': 1, 'Au1-': 44, 'Cu1+': 48, 'Au-Cu': 1, '2.70': 19, 'ErTl': 1, 'Er': 83, 'Er-Tl': 1, '3.24': 12, 'CuGa2': 1, 'Cu-Ga': 1, '9-coordinate': 213, 'five': 128, '(2.50': 2, '(2.80': 4, 'PtCd': 1, 'Cd2+': 20, 'Pt-Cd': 2, 'IrTi': 1, 'Ti': 58, 'Ti-Ir': 2, 'PtMn': 1, 'Mn2+': 36, 'Mn-Pt': 1, '2.71': 17, 'GdIn': 1, 'Gd-In': 1, '3.29': 8, 'EuPb': 1, 'Eu-Pb': 2, '3.48': 4, 'ZrHg': 1, 'ZrHg8': 1, 'Zr-Hg': 2, '3.09': 11, 'HgZr8': 1, 'SmTl': 1, 'Sm': 52, 'Sm-Tl': 1, '3.34': 6, 'TiRh': 1, 'Ti-Rh': 1, 'NiZn': 1, 'Ni-Zn': 1, 'PtZn': 1, 'Pt-Zn': 2, '2.67': 21, 'PtNi': 1, 'Ni2+': 26, 'PtNi8': 1, 'Pt-Ni': 1, '2.62': 26, 'CoPt': 1, 'Co2+': 34, 'Co-Pt': 1, '2.66': 30, 'PtCo8Pt4': 1, '2.68': 23, 'PtPb4': 1, 'P4/nbm': 1, 'Pt-Pb': 1, '2.92': 18, '3.31-3.52': 1, 'AuHf': 1, 'gamma': 3, 'CuTi': 3, 'P4/nmm': 3, 'Hf-Au': 2, '2.84-3.29': 1, '10-coordinate': 108, 'AgZr': 1, '5-coordinate': 69, 'Ag': 99, 'Zr-Ag': 1, '2.94-3.50': 1, 'Ag-Ag': 13, '2.88': 20, 'SZr': 1, 'Zr2+': 16, '6-coordinate': 191, 'S2-': 118, 'Zr-S': 1, '2.62-2.88': 1, 'PdO': 1, 'P42/mmc': 4, 'Pd2+': 36, 'square': 131, 'co-planar': 131, 'O2-': 268, 'Pd-O': 5, '2.03': 2, 'OPd4': 1, 'PtS': 1, 'Pt2+': 20, 'Pt-S': 3, '2.32': 11, 'SPt4': 1, 'TiH': 1, 'Ti-H': 2, '1.86': 3, 'HTi4': 2, 'ZrH': 1, 'Zr1+': 4, 'H1-': 52, 'Zr-H': 2, '2.04': 5, 'HZr4': 2, 'MgF2': 1, 'Rutile': 12, 'P42/mnm': 19, 'Mg2+': 22, 'F1-': 149, 'MgF6': 1, '50°': 8, '(1.98': 3, '(1.99': 4, 'Mg-F': 1, 'planar': 93, 'CrO2': 1, 'Cr4+': 4, 'CrO6': 3, '(1.89': 1, '(1.91': 5, 'Cr-O': 3, 'WO2': 1, 'P21/c': 4, 'W4+': 6, 'WO6': 1, 'range': 23, '49-50°': 2, 'W-O': 1, '2.04-2.13': 1, 'IrO2': 1, 'Hydrophilite': 6, 'Ir4+': 4, 'IrO6': 1, '52°': 11, '(1.97': 3, '(2.00': 4, 'Ir-O': 1, 'GeO2': 1, 'Ge4+': 10, 'GeO6': 1, '(1.88': 2, 'Ge-O': 2, 'MoO2': 1, 'Hydrophilite-like': 5, 'Mo4+': 4, 'MoO6': 1, '51°': 8, '(2.05': 2, 'Mo-O': 2, 'VF2': 1, 'VF6': 1, '(2.07': 3, '(2.09': 1, 'V-F': 1, 'FeF2': 1, 'FeF6': 1, '(2.12': 1, 'Fe-F': 1, 'NiF2': 1, 'NiF6': 1, '(2.01': 5, 'Ni-F': 1, 'RuO2': 1, 'Ru4+': 6, 'RuO6': 1, '(1.94': 3, 'Ru-O': 1, 'Ti2N': 1, 'T-shaped': 6, 'Ti-N': 2, '2.08': 3, 'NTi6': 2, '47°': 3, 'OsO2': 1, 'Os4+': 8, 'OsO6': 1, '53°': 3, '(1.95': 3, 'Os-O': 1, 'BeTa2': 1, 'Khatyrkite': 27, 'I4/mcm': 52, 'Both': 235, '2.45': 26, 'Be-Ta': 1, 'Ta-Ta': 3, 'Th2Au': 1, 'Th-Au': 4, '3.00': 13, 'Th2Ge': 1, 'Th-Ge': 2, '3.16': 10, 'Th2Al': 1, 'Th-Al': 2, '3.23': 7, 'Ta2Ni': 1, 'Ta-Ni': 1, '2.63': 18, '2.42': 8, 'Th2In': 1, 'Th-In': 1, '3.01': 17, 'Ni2B': 1, 'Ni1+': 16, 'B2-': 30, 'Ni-B': 1, '2.11': 9, 'B-B': 54, 'Ta2Si': 1, 'Ta2+': 6, 'Si4-': 126, 'Ta-Si': 2, '2.52': 9, 'Th2Ga': 1, 'Th-Ga': 1, '3.20': 16, '2.91': 16, 'Zr2Ga': 1, 'Zr-Ga': 3, 'PdTl2': 1, '(2.92': 6, '(2.94': 4, 'Pd-Tl': 1, 'Hf2Si': 1, 'Hf2+': 6, 'Hf-Si': 2, 'PdO2': 1, 'Pd4+': 4, 'PdO6': 1, 'ZnF2': 1, 'ZnF6': 1, '(2.02': 2, '(2.04': 2, 'Zn-F': 1, 'PbO2': 1, 'Pb4+': 2, 'PbO6': 1, '(2.17': 1, '(2.18': 3, 'Pb-O': 3, 'MgH2': 1, 'MgH6': 1, '(1.93': 1, 'Mg-H': 1, 'Th2Hg': 1, 'Th-Hg': 3, 'Hg-Hg': 15, '2.93': 24, 'Zr2Ni': 1, 'Zr-Ni': 3, 'CoF2': 1, 'CoF6': 1, 'Co-F': 1, 'MnF2': 1, 'MnF6': 1, '(2.10': 2, '(2.13': 2, 'Mn-F': 1, 'RhO2': 1, 'Rh4+': 4, 'RhO6': 2, 'Rh-O': 2, 'SnO2': 1, 'Sn4+': 8, 'SnO6': 1, '(2.06': 3, 'Sn-O': 2, 'Hf2Ge': 1, 'Hf-Ge': 1, '2.82': 14, '2.65': 23, 'CrB': 1, 'delta': 5, 'Molybdenum': 11, 'Boride': 4, 'I41/amd': 11, 'Cr3+': 16, 'B3-': 99, 'Cr-B': 1, '2.14-2.26': 1, '1.77': 3, 'MoB': 1, 'Mo3+': 9, 'Mo-B': 1, '2.31-2.51': 1, '1.87': 4, 'NpCl4': 1, 'Np4+': 4, '(2.90': 7, 'Np-Cl': 2, 'PaCl4': 1, 'Pa4+': 8, 'Pa-Cl': 1, 'ZrGa': 1, '2.82-3.00': 1, 'TiO2': 1, 'beta': 4, 'Vanadium': 3, 'nitride-like': 3, 'Ti4+': 16, 'TiO6': 1, '25°': 1, 'Ti-O': 1, 'V2H': 1, 'Calaverite-like': 1, '3-coordinate': 38, '(1.79': 10, 'V-H': 2, 'HV6': 1, 'BW1': 1, 'W3+': 4, 'W-B': 2, '2.32-2.48': 1, '1.89': 5, 'UCl4': 1, 'U4+': 20, 'U-Cl': 1, 'PaBr4': 1, 'Br1-': 46, '(2.83': 2, '(3.11': 2, 'Pa-Br': 1, 'Hf2Ga': 1, 'Hf-Ga': 1, '2.85': 15, 'Eu4Ir': 1, '(2.86': 6, 'Eu-Ir': 2, 'W2B': 1, 'B': 91, '2.38': 19, 'Zr2Si': 1, 'Zr-Si': 2, 'Mg2Pt': 1, 'Mg-Pt': 3, 'Fe2B': 1, 'Fe1+': 4, 'Fe-B': 4, '2.17': 4, '2.12': 6, 'AgIn2': 1, 'Ag-In': 1, '2.97': 11, '3.04': 14, 'Th2Zn': 1, 'Th-Zn': 2, '2.78': 24, 'TiSb2': 1, 'Sb2-': 17, 'Ti-Sb': 3, 'PtTl2': 1, 'Tl1+': 30, 'Pt-Tl': 1, '2.96': 21, 'Na2Au': 1, 'Na-Au': 3, 'BaTe2': 1, 'Ba2+': 62, 'Te1-': 20, 'Ba-Te': 2, '3.62': 3, 'Te-Te': 7, 'AuTl2': 1, 'Au-Tl': 1, '3.12': 10, 'Pb2Rh': 1, '2.94': 17, 'Rh-Pb': 1, '3.15': 13, 'Ta2Co': 1, 'Ta-Co': 2, '2.60': 19, 'Au2Dy': 1, 'Dy-Au': 3, '3.02': 12, 'WSi2': 1, 'W-Si': 1, '2.61': 17, '(2.57': 5, 'HgI': 1, 'Hg1+': 9, 'I1-': 32, 'HgHgI5': 1, '16°': 1, 'Hg-I': 1, 'XeF2': 2, 'Cyanogen': 2, 'Chloride-derived': 2, 'Xe': 4, 'linear': 55, 'Xe-F': 2, '2.06': 11, 'Ag2Er': 1, 'Titanium': 14, 'Disilicide-like': 11, '(3.01': 3, '(3.02': 6, 'Er-Ag': 2, 'CaN2': 1, 'Ca2+': 43, 'q4': 8, 'N1-': 9, '(2.36': 4, 'Ca-N': 5, '1.25': 2, 'Ti2Zn': 1, '12-coordinate': 159, '(2.81': 6, 'Ti-Ti': 7, 'Ti-Zn': 1, 'Ag2Sc': 1, '(2.91': 7, '(2.98': 9, 'Sc-Ag': 3, 'GdAg2': 1, '(3.06': 6, '(3.10': 4, 'Gd-Ag': 2, 'ZrH2': 1, 'Fluorite-like': 3, 'UC2': 1, 'C2-': 30, '(2.33': 2, '(2.60': 3, 'U-C': 3, 'C-C': 11, '1.36': 1, 'HfH2': 1, 'Hf-H': 1, 'HHf4': 1, 'TmAg2': 1, 'Tm-Ag': 2, 'TbAu2': 1, '(3.03': 7, 'Tb-Au': 3, 'Au2Y': 1, 'Y-Au': 3, 'Ag2Lu': 1, 'Lu': 64, '(2.99': 8, '(3.00': 6, 'Lu-Ag': 1, 'Au2Sc': 1, 'Sc2+': 16, '(2.89': 4, 'Sc-Au': 4, 'Au2Lu': 1, 'Lu-Au': 3, 'BaO2': 1, 'O1-': 15, '(2.70': 2, 'Ba-O': 7, '1.49': 1, 'HgCl': 1, '(2.45': 4, 'Hg-Cl': 3, 'OsAl2': 1, 'Os-Al': 1, '(2.67': 2, 'Au2Ti': 1, 'Ti2+': 12, '(2.88': 3, 'Ti-Au': 3, 'ScCu2': 1, '(2.72': 2, '(2.73': 2, 'Sc-Cu': 3, 'Au2Hf': 1, '2.90': 21, 'Tc2Al': 1, '2.59': 22, 'Tc-Al': 2, 'AlRe2': 1, 'Re': 7, 'Re-Re': 1, 'Re-Al': 2, 'Pt2Si': 1, 'Fluorite': 71, 'Si4+': 20, 'PtSi4': 1, 'Pt-Si': 4, '2.47': 24, 'Ag2Ho': 1, '(3.04': 6, 'Ho-Ag': 2, 'ThH2': 1, 'Th-H': 1, 'HTh4': 1, 'TiH2': 1, '1.91': 5, 'SrO2': 1, 'Sr2+': 58, '(2.59': 2, 'Sr-O': 5, '1.50': 1, 'Au2Zr': 1, 'Zr-Au': 2, 'Au2Mn': 1, '(2.78': 5, '(2.97': 9, 'Mn-Au': 4, 'KO2': 1, 'K': 14, 'K-O': 7, '1.34': 2, 'HgBr': 1, '(2.58': 6, 'Hg-Br': 1, 'LaC2': 1, 'La2+': 24, 'C1-': 3, 'La-C': 2, '1.29': 1, 'MoSi2': 1, 'Protactinium-derived': 1, 'Mo-Si': 2, 'TmAu2': 1, 'Tm-Au': 3, 'HoAu2': 1, 'Ho-Au': 4, 'Ag2Y': 1, 'Y-Ag': 2, 'SrN2': 1, '(2.52': 2, '(2.77': 7, 'Sr-N': 3, 'GdAu2': 1, 'Gd-Au': 3, 'RbO2': 1, 'Rb': 8, 'Rb-O': 6, 'Au2Er': 1, 'Er-Au': 4, 'Ag2Dy': 1, '(3.05': 4, 'Dy-Ag': 2, 'Ag2Tb': 1, '(3.07': 6, 'Tb-Ag': 2, 'CuF2': 1, 'Cu2+': 10, 'CuF6': 1, '50-53°': 1, 'Cu-F': 4, '1.91-2.28': 1, 'CrF2': 1, 'Cr2+': 8, 'CrF6': 2, '49-57°': 1, 'Cr-F': 3, '1.98-2.46': 1, 'XeF4': 2, '2.02': 6, 'BaN2': 1, 'Ba-N': 3, '2.67-3.06': 1, '1.23': 6, 'ReCl6': 2, 'R̅3': 6, 'Re6+': 6, 'an': 11, 'Re-Cl': 1, '2.29': 8, 'SiI3': 2, 'Ammonia-like': 1, 'Si3+': 2, 'non-coplanar': 28, 'Si-I': 2, 'WBr6': 2, 'W6+': 4, 'W-Br': 1, 'WCl6': 2, 'W-Cl': 1, 'SiO2': 1, 'quartz': 1, '(alpha)': 1, 'P3_121': 2, 'SiO4': 1, '(1.61': 1, '(1.62': 2, 'Si-O': 2, 'HgSe': 1, 'Cinnabar': 1, 'P3_221': 1, 'Hg2+': 24, 'Se2-': 112, 'HgSe6': 1, '17-23°': 1, 'Hg-Se': 2, '2.51-3.46': 1, 'BaS2': 1, 'S1-': 6, 'BaS8': 1, 'bipyramids': 9, 'Ba-S': 2, '3.18-3.27': 1, 'S-S': 2, 'BaSe2': 1, 'Se1-': 6, 'BaSe8': 1, 'Ba-Se': 2, '3.30-3.41': 1, '(2.42': 5, '(3.15': 4, 'Se-Se': 4, 'PdP2': 1, 'P2-': 3, 'Pd-P': 1, '2.35': 14, 'PP2Pd2': 1, '(2.22': 2, 'P-P': 2, 'HI1': 2, 'carbon': 4, 'monoxide-like': 4, 'triclinic': 1, 'P1': 1, 'H1+': 32, 'H-I': 1, '1.64': 2, 'ThC2': 1, 'Th4+': 26, 'Th-C': 3, '2.44-2.97': 1, '1.32': 4, 'PdF3': 1, 'Upper': 8, 'Bainite-like': 6, 'R̅3c': 16, 'Pd3+': 2, 'PdF6': 1, '45°': 2, 'Pd-F': 5, 'RhF3': 1, 'Rh3+': 10, 'RhF6': 1, '49°': 3, 'Rh-F': 1, '1.98': 14, '120': 12, 'AlH3': 1, 'Al3+': 32, 'AlH6': 1, '40°': 1, 'Al-H': 2, '1.71': 4, 'IrF3': 1, 'Ir3+': 4, 'IrF6': 1, 'Ir-F': 1, 'MoF3': 1, 'MoF6': 1, '43°': 2, 'Mo-F': 1, 'CrF3': 1, '39°': 1, 'GaF3': 1, 'Ga3+': 14, 'GaF6': 1, '38°': 1, 'Ga-F': 1, '1.90': 12, 'InF3': 1, 'In3+': 16, 'InF6': 1, 'In-F': 1, 'In(Hg)': 1, 'Carbide-like': 3, 'Hg-In': 1, '3.06': 9, 'PtCu': 1, 'PtCu6Pt6': 1, 'Pt-Cu': 3, 'SnP3': 1, 'Sn3+': 2, 'P1-': 3, 'SnP6': 1, '18°': 1, 'Sn-P': 1, 'rectangular': 7, 'see-saw-like': 8, '2.21': 4, 'ScF3': 1, 'Rhenium': 4, 'trioxide-like': 1, 'Sc3+': 14, 'ScF6': 1, '8°': 1, 'Sc-F': 1, 'Zr3O': 1, 'Zr-O': 1, '2.27': 4, 'OZr6': 1, 'PuCl3': 1, 'P63/m': 20, 'Pu3+': 10, 'nine': 25, 'Pu-Cl': 1, 'NpBr3': 1, 'P63': 2, 'Np3+': 14, 'Np-Br': 1, '3.04-3.16': 2, 'NdCl3': 1, 'Nd3+': 19, '(2.95': 6, 'Nd-Cl': 1, 'BCl3': 2, 'Indium-like': 4, 'B3+': 18, 'B-Cl': 1, '1.74': 4, 'BI3': 2, 'B-I': 1, 'LaBr3': 1, 'La3+': 25, 'La-Br': 1, 'PI3': 2, 'Bainite': 2, 'P3+': 2, 'P-I': 1, 'TmCl3': 1, 'Tm3+': 12, 'TmCl6': 1, '46°': 1, 'Tm-Cl': 1, 'AlF3': 1, 'AlF6': 1, '27°': 1, 'Al-F': 1, '1.80': 2, 'CeBr3': 1, 'Ce3+': 23, '(3.21': 6, 'Ce-Br': 1, 'CeCl3': 1, 'Ce-Cl': 1, 'VSi2': 1, 'P6_222': 2, 'V-Si': 2, '2.49-2.65': 1, '2.46-2.65': 1, 'TaSi2': 1, 'P6_422': 1, '2.60-2.83': 1, '2.55-2.83': 1, 'Fe3N': 1, 'P6_322': 1, 'N3-': 114, 'Fe-N': 2, '1.92': 4, 'NFe6': 1, 'LaCl3': 1, 'La-Cl': 1, 'PrCl3': 1, 'Pr3+': 25, 'Pr-Cl': 1, 'PrBr3': 1, '(3.18': 3, 'Pr-Br': 1, 'BBr3': 2, 'B-Br': 1, 'GdCl3': 1, 'Gd3+': 27, '(2.82': 3, 'Gd-Cl': 1, 'NpCl3': 1, 'AcCl3': 1, 'Ac3+': 4, 'Ac-Cl': 1, 'AcBr3': 1, '(3.23': 4, 'Ac-Br': 1, 'NbGe2': 1, 'Nb-Ge': 1, '2.69-2.91': 1, '2.66-2.91': 1, 'ThAu2': 1, 'P6/mmm': 62, 'ThAu12': 1, '3.25': 14, 'TiB2': 1, 'omega': 34, 'TiB12': 1, 'Ti-B': 2, '1.75': 2, 'ZrB2': 1, 'Zr4+': 6, 'ZrB12': 1, 'Zr-B': 1, '1.83': 2, 'UB2': 1, 'UB12': 2, 'U-B': 3, '1.78': 2, 'SrGa2': 1, 'SrGa12': 1, 'Sr-Ga': 1, '3.46': 11, '2.49': 17, 'ErGa2': 1, 'ErGa12': 1, 'Er-Ga': 2, '3.14': 16, '2.39': 16, 'NdGa2': 1, 'Nd': 53, 'NdGa12': 1, 'Nd-Ga': 2, '3.27': 7, 'CeHg2': 1, 'CeHg12': 2, 'Ce-Hg': 3, '3.38': 6, 'YHg2': 1, 'YHg12': 1, 'Y-Hg': 2, '3.32': 3, 'PrGa2': 1, 'Pr': 54, 'PrGa12': 1, 'Pr-Ga': 2, 'ThSi2': 1, 'Si2-': 21, 'ThSi12': 1, 'Th-Si': 3, '2.37': 13, 'TiS': 1, 'Carbide': 11, 'P̅6m2': 12, 'TiS6': 1, 'Ti-S': 1, 'STi6': 1, 'LuB2': 1, 'LuB12': 2, 'Lu-B': 3, 'CaHg2': 1, 'CaHg12': 1, 'Ca-Hg': 2, '3.37': 10, 'LiPt': 1, 'Li-Pt': 2, 'ThCd2': 1, '14-coordinate': 3, '3.39': 6, 'Th-Cd': 1, '11-coordinate': 11, 'HoGa2': 1, 'HoGa12': 1, 'Ho-Ga': 2, '2.40': 10, 'ZrTe': 1, 'Te2-': 112, 'ZrTe6': 1, 'Zr-Te': 1, 'TeZr6': 1, 'ErB2': 1, 'ErB12': 2, 'Er-B': 4, 'WC1': 1, 'C4-': 29, 'WC6': 1, 'W-C': 1, '2.20': 4, 'CW6': 1, 'DyGa2': 1, 'DyGa12': 1, 'Dy-Ga': 2, '3.17': 12, '2.41': 9, 'EuHg2': 1, 'EuHg12': 1, 'Eu-Hg': 2, '3.44': 7, 'MoP': 1, 'MoP6': 1, 'Mo-P': 1, 'PMo6': 1, 'ScB2': 1, 'ScB12': 2, 'Sc-B': 3, '1.82': 6, 'HoB2': 1, 'HoB12': 2, 'Ho-B': 4, 'PdLi': 1, 'alpha-derived': 26, 'Li-Pd': 1, 'LiIr': 1, 'LiIr6': 1, 'Li-Ir': 1, 'IrLi6': 1, 'BaAu2': 1, 'BaAu12': 1, 'Ba-Au': 2, '3.51': 2, 'LiRh': 1, 'LiRh6': 1, 'Li-Rh': 1, 'RhLi6': 1, 'MgSe': 1, 'Wurtzite': 4, 'P63mc': 4, 'MgSe4': 1, 'Mg-Se': 1, 'SeMg4': 1, 'NbN': 1, 'NbN6': 1, 'Nb-N': 1, '2.25': 5, 'NNb6': 1, 'LiI': 1, 'Li1+': 40, 'LiI4': 1, '(2.76': 5, 'Li-I': 1, 'ILi4': 1, 'AlN': 1, 'AlN4': 1, '(1.90': 1, 'Al-N': 1, 'NAl4': 1, 'GaN': 1, 'GaN4': 1, '(1.96': 2, 'Ga-N': 1, 'NGa4': 1, 'ErCd2': 1, 'ErCd12': 1, 'Er-Cd': 2, '(3.44': 1, 'UAu2': 1, 'U': 19, 'UAu12': 1, 'U-Au': 1, 'U2Ti': 1, '(2.79': 1, 'U-U': 2, 'U-Ti': 1, '3.08': 9, 'GdGa2': 1, 'GdGa12': 1, 'Gd-Ga': 2, 'PuGa2': 1, 'Pu': 28, 'PuGa12': 2, 'Pu-Ga': 2, 'Li2Pt': 1, 'Li-Li': 1, 'PtLi12Pt2': 1, 'TbGa2': 1, 'TbGa12': 1, 'Tb-Ga': 2, '3.18': 14, 'USi2': 1, 'USi12': 2, 'U-Si': 3, '3.03': 12, '2.34': 9, 'DyHg2': 1, 'DyHg12': 2, 'Dy-Hg': 3, '3.31': 5, 'BaGa2': 1, 'BaGa12': 1, 'Ba-Ga': 1, '3.63': 1, '2.54': 18, 'ThCu2': 1, 'structure-like': 2, 'ThCu12': 1, 'Th-Cu': 1, '2.51': 18, 'VB2': 1, 'V4+': 4, 'VB12': 1, 'V-B': 2, '1.72': 3, 'YB2': 1, 'Y2+': 2, 'B1-': 9, 'YB12': 2, 'Y-B': 4, 'YGa2': 1, 'YGa12': 1, 'Y-Ga': 2, 'LaGa2': 1, 'La': 60, 'LaGa12': 1, 'La-Ga': 2, 'LaCu2': 1, 'LaCu12': 1, 'La-Cu': 2, 'DyB2': 1, 'DyB12': 2, 'Dy-B': 4, 'Cd2Gd': 1, 'GdCd12': 1, 'Gd-Cd': 2, '3.35': 7, '(3.48': 2, 'ThNi2': 1, 'ThNi12': 1, 'Th-Ni': 1, 'ThAl2': 1, 'ThAl12': 1, 'ThZn2': 1, 'ThZn12': 1, 'PuSi2': 1, 'PuSi12': 1, 'Pu-Si': 3, '3.07': 11, '2.33': 14, 'TaB2': 1, 'Ta4+': 6, 'TaB12': 1, 'Ta-B': 2, '2.43': 9, '1.79': 2, 'NbAu2': 1, 'Nb2+': 10, 'NbAu12': 1, 'Nb-Au': 1, 'EuGa2': 1, 'EuGa12': 1, 'Eu-Ga': 1, '3.36': 6, 'MgB2': 1, 'MgB12': 1, 'Mg-B': 1, '2.50': 12, 'TbB2': 1, 'Tb4+': 6, 'TbB12': 2, 'Tb-B': 5, 'PtGa': 1, 'Ga2+': 2, 'Pt-Ga': 3, '2.60-2.67': 1, 'MnGe': 1, 'Ge2-': 39, 'Mn-Ge': 1, '2.41-2.65': 1, 'TcSi': 1, 'Tc4+': 2, 'Tc-Si': 1, '2.38-2.67': 1, 'PtAl': 1, 'Pt-Al': 3, '2.60-2.63': 1, 'RuSi': 1, 'Ru-Si': 18, '2.38-2.70': 1, 'AuBe': 1, 'Be-Au': 1, '2.49-2.52': 1, 'RhSn': 1, 'Rh-Sn': 3, '2.70-2.84': 1, 'PdAl': 1, 'Pd-Al': 8, '2.56-2.65': 1, 'CoSi': 1, 'Co4+': 6, 'Co-Si': 3, '2.30-2.40': 1, 'PdGa': 1, 'Pd-Ga': 2, '2.55-2.71': 1, 'UCo': 1, 'I2_13': 3, 'U-Co': 1, '2.58-2.85': 1, 'Al12Mn': 1, 'Im̅3': 6, 'Mn': 36, 'cuboctahedral': 3, 'Mn-Al': 2, '2.74-2.89': 1, 'IrSb3': 1, 'Skutterudite': 2, 'Sb1-': 7, 'IrSb6': 1, '56°': 2, 'Ir-Sb': 1, 'MgPt': 1, '2.64-2.75': 1, 'Al12Re': 1, '2.74-2.87': 2, 'OsSi': 1, 'Os-Si': 2, '2.37-2.78': 1, 'NO2': 2, '2-coordinate': 8, 'N-O': 5, '1.20': 6, 'NH3': 2, 'Ammonia': 1, 'N-H': 3, '1.02': 1, 'FeSi': 1, 'Fe-Si': 1, '2.25-2.47': 1, 'CoSb3': 1, 'Co3+': 12, 'CoSb6': 1, 'Co-Sb': 2, 'TcAl12': 1, 'CO2': 2, 'Pa̅3': 17, 'C4+': 14, 'C-O': 1, '1.17': 1, 'TiSb': 1, 'MAX': 6, 'Phase-like': 6, 'Ti3+': 10, 'Sb3-': 106, 'TiSb6': 1, 'MnTe2': 1, 'Pyrite': 7, 'MnTe6': 1, '65°': 3, 'Mn-Te': 3, 'OsSe2': 1, 'Pyrite-like': 1, 'OsSe6': 1, '63°': 4, 'Os-Se': 1, 'MgTe2': 1, 'MgTe6': 1, 'Mg-Te': 1, 'EuTl2': 1, '(3.36': 3, 'Eu-Tl': 1, '(3.26': 4, 'PtSb2': 1, 'Sb1+': 4, 'PtSb6': 1, 'Pt-Sb': 1, 'CrAs': 1, 'CrAs6': 1, '48°': 2, 'Cr-As': 1, 'AsCr6': 1, 'PtP2': 1, 'P1+': 12, 'PtP6': 1, 'Pt-P': 1, 'RuSe2': 1, 'RuSe6': 1, '64°': 2, 'Ru-Se': 1, 'NiSe2': 1, 'Pbca': 4, 'NiSe6': 1, '64-65°': 1, 'Ni-Se': 1, 'OsTe2': 1, 'OsTe6': 1, 'Os-Te': 1, 'PtAs2': 1, 'pyrite': 1, 'As1+': 4, 'PtAs6': 1, 'Pt-As': 1, 'TiBr4': 2, 'Iron': 3, 'carbide-like': 4, 'tetrahedral': 30, '(2.32': 1, 'Ti-Br': 1, 'SiBr4': 2, '(2.19': 3, '(2.20': 1, 'Si-Br': 1, 'SiI4': 2, '2.44': 11, 'AuSb2': 1, 'Sb+0.50+': 2, 'AuSb6': 1, 'Au-Sb': 1, 'ScTe': 1, 'ScTe6': 1, 'Sc-Te': 1, 'TeSc6': 1, 'VP1': 1, 'V3+': 8, 'VP6': 1, 'V-P': 1, 'PV6': 1, 'PtSn': 1, 'Sn2+': 6, 'Pt-Sn': 2, 'PuGa3': 1, 'ScHg3': 1, 'Cu3Ti-like': 1, 'ScHg12': 1, '(3.22': 4, 'Sc-Hg': 2, 'TmHg3': 1, 'TmHg12': 1, 'Tm-Hg': 2, 'CaIn2': 1, 'Ca-In': 1, '(3.13': 4, 'MnSb': 1, 'Mn3+': 8, 'MnSb6': 1, 'Mn-Sb': 2, 'CeHg3': 1, '(3.42': 2, 'DyHg3': 1, '(3.30': 4, 'TbHg3': 1, 'TbHg12': 1, '(3.14': 3, '(3.31': 4, 'Tb-Hg': 2, 'SrIn2': 1, '(3.35': 5, '(3.78': 2, 'Sr-In': 1, 'LiB': 1, 'Li-B': 1, 'BLi3B2': 1, '1.55': 1, 'TmTe': 1, 'Tm2+': 12, 'TmTe6': 1, 'Tm-Te': 1, '3.05': 9, 'TeTm6': 1, 'ReB2': 1, '(2.23': 2, 'Re-B': 1, 'ThHg2': 1, '(3.59': 1, 'TcB2': 1, 'Tc6+': 2, '(2.25': 2, 'Tc-B': 1, '1.81': 2, 'PtBi': 1, 'Bi2+': 4, 'Pt-Bi': 1, 'PdSb': 1, 'PdSb6': 1, 'Pd-Sb': 1, 'AuSn': 1, 'Au-Sn': 1, 'EuIn2': 1, '(3.70': 1, 'Eu-In': 1, 'GdHg3': 1, 'GdHg12': 1, '(3.33': 4, 'Gd-Hg': 2, 'LiHg3': 1, 'LiHg12': 1, 'Li-Hg': 2, 'CaGa2': 1, 'Ca-Ga': 2, 'LaHg3': 1, 'LaHg12': 1, '(3.46': 4, 'La-Hg': 2, 'Nd3Al': 1, 'Nd-Nd': 1, '3.30-3.83': 1, '(3.28': 5, '(3.57': 2, 'Nd-Al': 1, 'AlNd12': 1, 'ThHg3': 1, 'ThHg12': 1, '(3.41': 2, 'PtBa': 1, 'Ba-Pt': 2, 'RhB': 1, 'Rh-B': 1, '2.05': 6, 'NiSb': 1, 'Ni3+': 2, 'NiSb6': 1, 'Ni-Sb': 6, 'NiBi': 1, 'Ni-Bi': 3, 'V3Al': 1, 'Pm̅3n': 37, '(2.39': 1, 'V-Al': 1, 'AlV12': 1, 'Nb3Ir': 1, '2.89': 16, 'IrNb12': 1, 'BeSe': 1, 'Zincblende': 21, 'Sphalerite': 21, 'F̅43m': 27, 'Be2+': 14, 'BeSe4': 1, 'Be-Se': 1, '2.24': 7, 'SeBe4': 1, 'V3Sb': 1, 'V-Sb': 1, 'SbV12': 1, 'Pt3O4': 1, 'Pt+2.67+': 2, 'Pt-O': 3, 'V3Pd': 1, '(2.69': 1, 'V-Pd': 1, 'PdV12': 1, 'Nb3Os': 1, 'Nb-Os': 1, 'OsNb12': 1, 'ZnTe': 1, 'ZnTe4': 2, 'Zn-Te': 2, 'TeZn4': 1, 'V3Pt': 1, 'PtV12': 1, 'Ti3Pt': 1, 'Ti-Pt': 2, 'PtTi12': 1, 'HgTi3': 1, 'Ti-Hg': 1, 'HgTi12': 1, 'Nb3Pt': 1, 'Nb-Pt': 1, 'PtNb12': 1, 'HgTe': 1, 'HgTe4': 1, 'Hg-Te': 1, 'TeHg4': 1, 'Ti3Ir': 1, 'IrTi12': 1, 'AuTa3': 1, 'Ta-Au': 1, 'AuTa12': 1, 'Cr3Si': 1, 'Cr-Si': 1, 'SiCr12': 1, 'V3Au': 1, 'V-Au': 2, 'AuV12': 1, 'SiF4': 2, 'Silicon': 2, 'tetrafluoride': 2, 'I̅43m': 10, 'Si-F': 1, '1.57': 1, 'GaSb': 1, 'GaSb4': 1, 'Ga-Sb': 1, 'SbGa4': 1, 'ZnSe': 1, 'ZnSe4': 1, 'Zn-Se': 1, 'SeZn4': 1, 'InAs': 1, 'InAs4': 1, 'In-As': 1, 'AsIn4': 1, 'BeTe': 1, 'BeTe4': 1, 'Be-Te': 1, 'TeBe4': 1, 'GeF4': 2, 'Ge-F': 1, '1.70': 1, 'HgS': 1, 'HgS4': 1, 'Hg-S': 2, 'SHg4': 1, 'BP': 1, 'BP4': 1, 'B-P': 1, '1.96': 4, 'PB4': 1, 'AlP': 1, 'AlP4': 1, 'Al-P': 1, 'PAl4': 1, 'InSb': 1, 'InSb4': 1, 'In-Sb': 1, 'SbIn4': 1, 'InP': 1, 'InP4': 1, 'In-P': 1, '2.56': 10, 'PIn4': 1, 'AlAs': 1, 'AlAs4': 1, 'Al-As': 1, 'AsAl4': 1, 'CoO': 1, 'R3m': 4, 'CoO4': 1, 'Co-O': 4, 'OCo4': 1, 'CuBr': 1, 'I̅4m2': 1, 'CuBr4': 1, 'Cu-Br': 1, 'BrCu4': 1, 'GaP': 1, 'GaP4': 1, 'Ga-P': 1, 'PGa4': 1, 'GaAs': 1, 'GaAs4': 1, 'Ga-As': 1, 'AsGa4': 1, 'AlSb': 1, 'AlSb4': 1, 'Al-Sb': 1, 'SbAl4': 1, 'CdTe': 1, 'CdTe4': 1, 'Cd-Te': 1, 'TeCd4': 1, 'BeS': 1, 'BeS4': 1, 'Be-S': 1, 'SBe4': 1, 'FeN': 1, 'Fe3+': 16, 'FeN4': 1, 'NFe4': 1, 'La2C3': 1, 'Plutonium': 8, 'carbide': 17, 'I̅43d': 33, '2.71-3.00': 1, 'Ti3Sb': 1, 'SbTi12': 1, 'Sc4C3': 1, 'Sc-C': 1, 'Ce2C3': 1, 'Ce-C': 1, '2.54-2.87': 1, 'CCe6C': 1, '1.37': 1, 'Eu4As3': 1, 'Eu+2.25+': 2, 'EuAs6': 1, '20-48°': 1, 'Eu-As': 4, 'U2C3': 1, 'U3+': 17, 'CU4C': 1, '1.44': 2, 'Mo3Ge': 1, 'Mo-Ge': 1, 'GeMo12': 1, 'Pr4Ge3': 1, 'Ge4-': 15, 'PrGe6': 1, '22-47°': 1, 'Pr-Ge': 2, 'La4Pb3': 1, '(3.60': 1, 'La-Pb': 2, 'Sm4Sn3': 1, 'Sm-Sn': 2, 'Pr2C3': 1, 'Pr-C': 1, '2.66-2.96': 1, 'FeV3': 1, '2.31': 9, 'V-Fe': 2, 'FeV12': 1, 'AuZr3': 1, 'AuZr12': 1, 'V3Ge': 1, 'V-Ge': 2, 'GeV12': 1, 'Mo3Si': 1, 'SiMo12': 1, 'Nb3Sn': 1, 'Nb-Sn': 1, '2.98': 8, 'SnNb12': 1, 'Nb3Rh': 1, 'RhNb12': 1, 'V3Rh': 1, 'V-Rh': 2, 'RhV12': 1, 'V3Co': 1, 'V-Co': 3, 'CoV12': 1, 'Zr3Hg': 1, '3.13': 11, 'HgZr12': 1, 'Ti3Au': 1, 'AuTi12': 1, 'V3Ir': 1, 'V-Ir': 2, 'IrV12': 1, 'Nb3Sb': 1, 'Nb1+': 4, 'NbSb4': 1, 'Nb-Sb': 2, 'SbNb12': 1, 'V3Sn': 1, 'V-Sn': 1, 'SnV12': 1, 'Nb3In': 1, 'Nb-In': 1, 'InNb12': 1, 'V3Ga': 1, 'V-Ga': 1, 'GaV12': 1, 'Mo3Ga': 1, 'Mo-Ga': 1, 'GaMo12': 1, 'V3Si': 1, 'SiV12': 1, 'AlMo3': 1, 'Mo-Al': 1, 'AlMo12': 1, 'V3As': 1, 'V-As': 2, 'AsV12': 1, 'Ta3Sn': 1, 'Ta-Sn': 1, 'SnTa12': 1, 'Ta3Sb': 1, 'Ta1+': 2, 'TaSb4': 1, 'Ta-Sb': 1, 'SbTa12': 1, 'NiV3': 1, 'V-Ni': 1, 'NiV12': 1, 'Eu4Bi3': 1, 'Eu-Bi': 1, 'BiEu8': 1, 'Th2C3': 1, 'Th3+': 8, '2.58-2.92': 1, 'Gd2C3': 1, 'Gd-C': 1, '2.54-2.85': 1, 'CGd6C': 1, '1.33': 2, 'Nd2C3': 1, 'Nd-C': 1, '2.63-2.93': 1, 'Ag2O': 1, 'Cuprite': 2, 'Pn̅3m': 2, 'Ag1+': 38, 'Ag-O': 11, 'OAg4': 1, 'Sm2C3': 1, 'Sm3+': 19, 'Sm-C': 1, '2.58-2.89': 1, 'CSm6C': 1, 'La4Rh3': 1, '(2.85': 2, 'La-Rh': 3, 'Au2S': 1, 'Au1+': 6, 'Au-S': 1, 'SAu4': 1, 'MgTl': 1, 'Pm̅3m': 276, 'Mg-Tl': 1, 'MgRh': 1, 'Mg-Rh': 1, 'HoPb3': 1, 'Uranium': 75, 'Silicide': 75, 'HoPb12': 1, 'Ho-Pb': 1, '3.43': 5, 'Ir3Zr': 1, 'ZrIr12': 1, 'Zr-Ir': 1, 'HoPt3': 1, 'HoPt12': 1, 'Ho-Pt': 2, 'ErCu': 1, 'Er-Cu': 2, 'DyMg': 1, 'Mg-Dy': 1, '3.28': 9, 'FeCo': 1, 'Fe-Co': 2, 'ThPb3': 1, 'ThPb12': 1, 'Th-Pb': 1, 'YIn': 1, 'Y-In': 1, '3.26': 10, 'LiAg': 1, 'Li-Ag': 2, 'DyHg': 1, 'SmSn3': 1, 'SmSn12': 1, 'TmCd': 1, 'Tm-Cd': 1, 'CsAu': 1, 'Cs1+': 46, 'Cs-Au': 1, '3.71': 3, 'ScRu': 1, 'Sc-Ru': 1, 'GdIr3': 1, 'GdIr12': 1, 'Gd-Ir': 1, 'SmB6': 1, 'Calcium': 12, 'hexaboride': 12, '24-coordinate': 23, 'twenty-four': 23, 'Sm-B': 1, '(1.64': 2, '(1.75': 5, 'ErPd': 1, 'Er-Pd': 3, '2.99': 14, 'Rh3Hf': 1, 'HfRh12': 1, 'Hf-Rh': 2, 'AgSc': 1, 'AuSc': 1, 'CaSn3': 1, 'CaSn12': 1, 'Ca-Sn': 2, 'EuHg': 1, 'NiMn': 1, 'Mn-Ni': 2, 'PrPd3': 1, 'PrPd12': 1, 'Pr-Pd': 2, 'ScRh': 1, 'Sc-Rh': 2, 'Ce3Sn': 1, 'Ce-Sn': 2, 'SnCe12': 1, 'Ir3Hf': 1, 'HfIr12': 1, 'Hf-Ir': 1, 'ScCo1': 1, 'Sc-Co': 2, 'SrBi3': 1, 'SrBi12': 1, 'Sr-Bi': 1, 'LuHg': 1, 'Lu-Hg': 1, 'AgMg': 1, 'Mg-Ag': 3, 'PrCd': 1, 'Pr-Cd': 1, 'BaB6': 1, 'Ba-B': 1, '(1.76': 6, '(1.78': 3, 'HfTc': 1, 'Hf-Tc': 1, 'ScNi': 1, 'Sc-Ni': 3, 'ScZn': 1, 'Sc-Zn': 1, 'ReO3': 1, 'trioxide': 3, 'ReO6': 1, 'not': 386, 'tilted': 386, 'Re-O': 4, '1.88': 2, 'SmIn': 1, 'Sm-In': 1, 'LaIn': 1, 'La-In': 2, 'SmZn': 1, 'Sm-Zn': 2, 'ZrCo': 1, 'Zr-Co': 2, 'HgY': 1, '3.21': 13, 'SrB6': 1, 'Sr-B': 1, '(1.70': 2, 'SmAg': 1, 'Sm-Ag': 1, 'PrAg': 1, 'Pr-Ag': 2, 'FeTi': 1, 'Ti-Fe': 2, 'TmTl': 1, 'Tm-Tl': 1, '3.22': 11, 'YPd3': 1, 'YPd12': 1, 'Y-Pd': 4, 'ScRh3': 1, 'ScRh12': 1, 'DyCd': 1, 'Dy-Cd': 1, 'TmCu': 1, 'Tm-Cu': 2, 'LuAu': 1, 'CePt3': 1, 'CePt12': 1, 'Ce-Pt': 3, 'TmIr': 1, 'Tm-Ir': 2, 'ScCu': 1, 'HoTl': 1, 'Ho-Tl': 1, 'LaAg': 1, 'La-Ag': 2, 'PrPb3': 1, 'PrPb12': 1, 'Pr-Pb': 1, 'PuPb3': 1, 'PuPb12': 1, 'Pu-Pb': 1, '3.40': 5, 'LaPb3': 1, 'LaPb12': 1, '3.50': 4, 'LuPd': 1, 'Lu-Pd': 3, 'LuCd': 1, 'Lu-Cd': 1, 'DyRh': 1, 'Dy-Rh': 2, 'PuPt3': 1, 'Pu6+': 4, 'PuPt12': 1, 'Pu-Pt': 2, 'HoAg': 1, '3.11': 12, 'TmPd': 1, 'Tm-Pd': 3, 'SrHg': 1, 'Sr-Hg': 2, 'CoTi': 1, 'Ti-Co': 2, 'PtSc': 1, 'Sc-Pt': 3, 'LiTl': 1, 'Li-Tl': 1, 'UIr3': 1, 'UIr12': 1, 'U-Ir': 1, 'KB6': 1, 'K-B': 1, '(1.68': 3, 'LaTl': 1, 'La-Tl': 1, 'MgHo': 1, 'Mg-Ho': 1, 'AuZn': 1, 'Au-Zn': 1, 'GdRh': 1, 'Gd-Rh': 2, 'NpGe3': 1, 'Np': 18, 'NpGe12': 1, 'Np-Ge': 1, 'EuSn3': 1, 'EuSn12': 1, 'Eu-Sn': 2, 'ErPd3': 1, 'ErPd12': 1, 'AlSc': 1, 'Sc-Al': 1, 'LuRh': 1, 'Lu-Rh': 2, 'RuAl': 1, 'Ru-Al': 4, 'RuTi': 1, 'Ti-Ru': 1, 'TbCd': 1, 'Tb-Cd': 1, 'CuZn': 1, 'Cu-Zn': 2, 'LuPd3': 1, 'LuPd12': 1, 'TbMg': 1, 'Mg-Tb': 1, 'NdB6': 1, 'Nd-B': 2, '(1.65': 2, 'LiHg': 1, 'NaPb3': 1, 'NaPb12': 1, 'Na-Pb': 1, 'Rh3Zr': 1, 'ZrRh12': 1, 'Zr-Rh': 2, 'CsBr': 1, 'Cs-Br': 1, '3.75': 1, 'DyZn': 1, 'Dy-Zn': 2, 'BaBi3': 1, 'BaBi12': 1, 'Ba-Bi': 1, '3.64': 1, 'ThRh3': 1, 'ThRh12': 1, 'Th-Rh': 2, 'VTc': 1, 'Tc3-': 6, 'V-Tc': 1, 'TmAg': 1, 'PrSn3': 1, 'PrSn12': 1, 'Pr-Sn': 1, 'AuMg': 1, 'Mg-Au': 2, 'EuCd': 1, 'Eu-Cd': 2, 'CdY': 1, 'Y-Cd': 1, 'TmPd3': 1, 'TmPd12': 1, 'Hg3Tl': 1, 'Hg-Tl': 1, 'TlHg12': 1, 'TbRh': 1, 'Tb-Rh': 2, 'MgNd': 1, 'Mg-Nd': 1, 'TbPt3': 1, 'TbPt12': 1, 'Tb-Pt': 3, 'TmPb3': 1, 'TmPb12': 1, 'Tm-Pb': 1, 'EuPb3': 1, 'EuPb12': 1, '3.49': 5, 'TmZn': 1, 'Tm-Zn': 2, 'DyCu': 1, 'Dy-Cu': 2, 'ErIr': 1, 'Er-Ir': 2, 'TbTl': 1, 'Tb-Tl': 1, 'SmPd3': 1, 'SmPd12': 1, 'Sm-Pd': 3, 'UO3': 1, 'U6+': 8, 'UO6': 1, 'U-O': 3, '2.07': 5, 'LaSn3': 1, 'LaSn12': 1, 'La-Sn': 2, 'Ni3Si': 1, 'Ni+1.33+': 2, 'Ni-Si': 4, 'SiNi12': 1, 'CaB6': 1, 'Ca-B': 1, '(1.67': 2, 'CdCa': 1, 'Ca-Cd': 2, 'IrGa': 1, 'Ir-Ga': 1, 'LuRu': 1, 'Lu-Ru': 1, 'LuZn': 1, 'Lu-Zn': 2, 'TiTc': 1, 'Ti-Tc': 1, 'MgHg': 1, 'Mg-Hg': 1, 'ThB6': 1, 'Th-B': 1, 'TbCu': 1, 'Tb-Cu': 2, 'RhY': 1, 'Y-Rh': 2, 'HoCu': 1, 'Ho-Cu': 2, 'CeB6': 1, 'Ce-B': 1, 'GdPd3': 1, 'GdPd12': 1, 'Gd-Pd': 4, 'ErRh': 1, 'Er-Rh': 2, 'LaZn': 1, 'La-Zn': 2, 'CaTl': 1, 'Ca-Tl': 1, 'VMn': 1, 'V-Mn': 3, 'PrZn': 1, 'Pr-Zn': 2, 'GdAu': 1, 'RhZn': 1, 'Rh-Zn': 1, 'DyPd3': 1, 'DyPd12': 1, 'Dy-Pd': 3, 'GdCd': 1, 'CoGa': 1, 'Co-Ga': 3, 'OsHf': 1, 'Hf-Os': 1, 'NdHg': 1, 'Nd-Hg': 1, 'PrHg': 1, 'Pr-Hg': 1, '3.33': 10, 'ScHg': 1, 'HoIr': 1, 'Ho-Ir': 2, 'RuV': 1, 'V-Ru': 1, 'PrMg': 1, 'Mg-Pr': 1, 'PuRh3': 1, 'PuRh12': 1, 'Pu-Rh': 2, 'CeSn3': 1, 'CeSn12': 1, 'Pr(In)': 1, 'Pr-In': 1, 'CePb3': 1, 'CePb12': 1, 'Ce-Pb': 2, 'GdPt3': 1, 'GdPt12': 1, 'Gd-Pt': 3, 'EuB6': 1, 'Eu-B': 1, 'CePd3': 1, 'CePd12': 1, 'Ce-Pd': 4, 'TbPb3': 1, 'TbPb12': 1, 'Tb-Pb': 1, 'PbLi': 1, 'Li-Pb': 2, 'TlSr': 1, 'Sr-Tl': 1, '3.52': 3, 'AgCd': 1, 'Ag-Cd': 2, 'CoAl': 1, 'Co-Al': 8, 'SrCd': 1, 'Sr-Cd': 2, 'MnRh': 1, 'Mn-Rh': 3, 'PdCu': 1, 'Pd-Cu': 1, 'NdZn': 1, 'Nd-Zn': 2, 'HoHg': 1, 'Ho-Hg': 1, 'DyTl': 1, 'Dy-Tl': 1, 'GdHg': 1, 'HfRh': 1, 'TmHg': 1, 'URu3': 1, 'URu12': 1, 'U-Ru': 1, 'HoCd': 1, 'Ho-Cd': 1, 'TmIn': 1, 'Tm-In': 1, 'Pb3Sr': 1, 'SrPb12': 1, 'Sr-Pb': 2, '3.54': 5, 'MgLu': 1, 'Mg-Lu': 1, 'DyPd': 1, 'NbO': 1, 'Nb-O': 1, 'RhGa': 1, 'Rh-Ga': 1, 'GdZn': 1, 'Gd-Zn': 2, '3.10': 10, 'USi3': 1, 'Si+1.33-': 2, 'MgPd': 1, 'Mg-Pd': 2, 'LaPd3': 1, 'LaPd12': 1, 'La-Pd': 3, 'TbZn': 1, 'Tb-Zn': 2, 'RhIn': 1, 'Rh-In': 1, 'LiAu3': 1, 'Au+0.33-': 2, 'LiAu12': 1, 'Li-Au': 2, 'BePd': 1, 'Be-Pd': 1, 'MgSc': 1, 'Mg-Sc': 1, 'ScCd': 1, 'Sc-Cd': 1, 'ErZn': 1, 'Er-Zn': 2, 'Pb3Ca': 1, 'CaPb12': 1, 'PuGe3': 1, 'PuGe12': 1, 'Pu-Ge': 1, 'CsCl': 1, 'Cs-Cl': 1, '3.59': 2, 'DyIn': 1, 'Dy-In': 1, 'ErAg': 1, 'LaB6': 1, 'La-B': 2, '(1.66': 3, 'TbPd3': 1, 'TbPd12': 1, 'Tb-Pd': 2, 'SmPt3': 1, 'Sm2+': 16, 'Pt+0.67-': 4, 'SmPt12': 1, 'Sm-Pt': 3, 'BaCd': 1, 'Ba-Cd': 2, '3.68': 1, 'Ce3Pb': 1, 'PbCe12': 1, 'ZnZr': 1, 'Zr-Zn': 1, 'LaHg': 1, 'LaCd': 1, 'La-Cd': 1, '3.41': 1, 'ErCd': 1, 'CaHg': 1, 'ErIn': 1, 'Er-In': 1, 'YTl': 1, 'Y-Tl': 1, 'NdAg': 1, 'Nd-Ag': 2, 'ScIr3': 1, 'ScIr12': 1, 'Sc-Ir': 2, 'MnAu': 1, 'PrB6': 1, 'Pr-B': 2, 'NiAl': 1, 'Ni-Al': 6, 'LuIr': 1, 'Lu-Ir': 2, 'USb': 1, 'U-Sb': 5, 'FeRh': 1, 'Fe-Rh': 1, 'TbHg': 1, 'GdB6': 1, 'Gd-B': 3, '(1.63': 2, 'HoZn': 1, 'Ho-Zn': 2, 'TbAg': 1, 'TmPt3': 1, 'TmPt12': 1, 'Tm-Pt': 1, 'ScPd3': 1, 'ScPd12': 1, 'Sc-Pd': 5, 'HfRu': 1, 'Hf-Ru': 1, 'RbAu': 1, 'Rb1+': 56, 'Rb-Au': 1, '3.55': 2, 'IrY': 1, 'Y-Ir': 2, 'SmCd': 1, 'Sm-Cd': 1, 'NdCd': 1, 'Nd-Cd': 1, 'BeRh': 1, 'Be-Rh': 1, 'OsZr': 1, 'Os2-': 27, 'Zr-Os': 1, 'La3Sn': 1, '3.56': 4, 'SnLa12': 1, 'ErPt3': 1, 'ErPt12': 1, 'Er-Pt': 2, 'ThTe': 1, 'Te': 6, 'Th-Te': 2, 'NdSn3': 1, 'NdSn12': 1, 'Nd-Sn': 1, 'RuZr': 1, 'Zr-Ru': 1, 'MgEr': 1, 'Mg-Er': 1, 'NdPd3': 1, 'NdPd12': 1, 'Nd-Pd': 2, 'Pt3Y': 1, 'YPt12': 1, 'Y-Pt': 3, 'YZn': 1, 'Y-Zn': 1, 'HoIn': 1, 'Ho-In': 1, 'NpRh3': 1, 'NpRh12': 1, 'Np-Rh': 1, 'PrTl': 1, 'Pr-Tl': 1, 'EuZn1': 1, 'Eu-Zn': 2, 'CeRh3': 1, 'CeRh12': 1, 'Ce-Rh': 3, 'IrAl': 1, 'Ir-Al': 1, 'DyPb3': 1, 'DyPb12': 1, 'Dy-Pb': 1, 'PuPd3': 1, 'PuPd12': 1, 'Pu-Pd': 1, 'HoRh': 1, 'Ho-Rh': 2, 'ErHg': 1, 'Er-Hg': 1, 'YAg': 1, 'FeAl': 1, 'Fe-Al': 4, 'BeCo': 1, 'Be-Co': 1, '2.23': 8, 'PdSc': 1, 'TiOs': 1, 'Ti-Os': 1, 'Pt3Sc': 1, 'ScPt12': 1, 'MgY': 1, 'Mg-Y': 1, 'URh3': 1, 'URh12': 1, 'U-Rh': 1, 'HfW2': 1, 'Laves': 100, 'Hf-W': 1, 'WHf6W6': 1, 'TmMg': 1, 'Mg-Tm': 1, 'HoFe2': 1, 'Ho-Fe': 1, 'FeHo6Fe6': 1, 'LiZn': 2, 'Zintl': 7, 'Phase': 7, 'framework': 13, 'LiZn4': 1, 'Li-Zn': 1, 'ZnLi4': 1, 'HfCo': 1, 'Hf-Co': 2, 'HgBa': 1, 'Ba-Hg': 1, 'EuPt2': 1, 'Eu-Pt': 1, 'PtEu6Pt6': 1, 'Bi2Cs': 1, 'Cs-Bi': 1, '4.05': 1, 'BiCs6Bi6': 1, 'Bi-Bi': 3, '3.45': 2, 'SmMg': 1, 'Mg-Sm': 1, 'GdMg': 1, 'Mg-Gd': 1, 'NaAg2': 1, 'Na-Ag': 1, 'AgNa6Ag6': 1, 'DyNi2': 1, 'Dy-Ni': 2, 'NiDy6Ni6': 1, 'SmRh': 1, 'Sm-Rh': 2, 'BaRh2': 1, 'Ba-Rh': 1, 'RhBa6Rh6': 1, 'Au2Bi': 1, 'AuBi6Au6': 1, 'Au-Bi': 1, 'HgCe': 1, 'NiBe': 1, 'Be-Ni': 1, 'GdPb3': 1, 'GdPb12': 1, 'Gd-Pb': 1, 'IrSc': 1, 'TmRh': 1, 'Tm-Rh': 2, 'TcTa': 1, 'Ta-Tc': 1, 'VOs': 1, 'V-Os': 1, 'AgZn': 1, 'Ag-Zn': 2, 'HoPd3': 1, 'HoPd12': 1, 'Ho-Pd': 2, 'GdTl': 1, 'Gd-Tl': 1, 'NdPb3': 1, 'NdPb12': 1, 'Nd-Pb': 1, '3.47': 1, 'DyAg': 1, 'TiRe': 1, 'Ti-Re': 1, 'TiF3': 1, 'TiF6': 1, '1°': 1, 'Ti-F': 2, 'DyPt3': 1, 'DyPt12': 1, 'Dy-Pt': 2, 'AlRh': 1, 'Rh-Al': 2, 'ErPb3': 1, 'ErPb12': 1, 'Er-Pb': 1, 'GdAg': 1, 'NdTl': 1, 'Nd-Tl': 1, 'LuPt3': 1, 'LuPt12': 1, 'Lu-Pt': 2, 'MgCu2': 1, 'Mg-Cu': 1, 'CuMg6Cu6': 1, 'LiGa': 2, 'LiGa4': 1, 'Li-Ga': 1, 'GaLi4': 1, 'SrPt2': 1, 'Sr-Pt': 1, 'PtSr6Pt6': 1, 'DyRh2': 1, 'RhDy6Rh6': 1, 'LuIr2': 1, 'IrLu6Ir6': 1, 'GdRh2': 1, 'RhGd6Rh6': 1, 'NaIn': 2, 'NaIn4': 1, 'Na-In': 1, 'InNa4': 1, 'CePt2': 1, 'Ce4+': 8, 'PtCe6Pt6': 1, 'LiIn': 2, 'LiIn4': 1, 'Li-In': 2, 'InLi4': 1, 'NaPt2': 1, 'Na-Pt': 1, 'PtNa6Pt6': 1, 'NdRh2': 1, 'Nd-Rh': 2, 'RhNd6Rh6': 1, 'HoCo2': 1, 'Ho-Co': 1, 'CoHo6Co6': 1, 'Al2Ca': 1, 'Ca-Al': 1, 'AlCa6Al6': 1, 'PrRh2': 1, 'Pr-Rh': 2, 'RhPr6Rh6': 1, 'TbNi2': 1, 'Tb-Ni': 1, 'NiTb6Ni6': 1, 'CaIr2': 1, 'Ca-Ir': 1, 'IrCa6Ir6': 1, 'ScNi2': 1, 'NiSc6Ni6': 1, 'LiAl': 2, 'LiAl4': 1, 'Li-Al': 1, 'AlLi4': 1, 'SmPt2': 1, 'PtSm6Pt6': 1, 'DyIr2': 1, 'Dy-Ir': 1, 'IrDy6Ir6': 1, 'Pd2Sr': 1, 'Sr-Pd': 2, 'PdSr6Pd6': 1, 'LuRh2': 1, 'RhLu6Rh6': 1, 'PuRh2': 1, 'RhPu6Rh6': 1, 'TbCo2': 1, 'Tb-Co': 1, 'CoTb6Co6': 1, 'ScCo2': 1, 'CoSc6Co6': 1, 'NdPt2': 1, 'Nd-Pt': 2, 'PtNd6Pt6': 1, 'TbIr2': 1, 'Tb-Ir': 1, 'IrTb6Ir6': 1, 'ErCo2': 1, 'Er-Co': 1, 'CoEr6Co6': 1, 'TmFe2': 1, 'Tm-Fe': 1, 'FeTm6Fe6': 1, 'EuRh2': 1, 'Eu-Rh': 1, 'RhEu6Rh6': 1, 'TbAl2': 1, 'Tb-Al': 1, 'AlTb6Al6': 1, 'CaPt2': 1, 'Ca-Pt': 2, 'PtCa6Pt6': 1, 'PuCo2': 1, 'Pu-Co': 1, 'CoPu6Co6': 1, 'HoIr2': 1, 'IrHo6Ir6': 1, 'CeRh2': 1, 'RhCe6Rh6': 1, 'EuIr2': 1, 'IrEu6Ir6': 1, 'PrPt2': 1, 'Pr4+': 2, 'Pr-Pt': 2, 'PtPr6Pt6': 1, 'Ti2C': 1, 'omega-like': 1, 'Ti-C': 5, 'CTi6': 5, 'ThIr2': 1, 'Th-Ir': 2, 'IrTh6Ir6': 1, 'GdPt2': 1, 'PtGd6Pt6': 1, 'LaIr2': 1, 'La-Ir': 1, 'IrLa6Ir6': 1, 'NpNi2': 1, 'Np-Ni': 1, 'NiNp6Ni6': 1, 'NaTl': 2, 'NaTl4': 1, 'Na-Tl': 1, 'TlNa4': 1, 'Pt2Tb': 1, 'PtTb6Pt6': 1, 'LaRh2': 1, 'RhLa6Rh6': 1, 'KBi2': 1, 'K-Bi': 1, 'BiK6Bi6': 1, 'HfMo2': 1, 'Hf-Mo': 1, 'MoHf6Mo6': 1, 'NpCo2': 1, 'Np-Co': 1, 'CoNp6Co6': 1, 'SmCo2': 1, 'Sm-Co': 1, 'CoSm6Co6': 1, 'ZrW2': 1, 'Zr-W': 1, 'WZr6W6': 1, 'BaPt2': 1, 'PtBa6Pt6': 1, 'NdIr2': 1, 'Nd-Ir': 1, 'IrNd6Ir6': 1, 'LaPt2': 1, 'La-Pt': 2, 'PtLa6Pt6': 1, 'YRh2': 1, 'RhY6Rh6': 1, 'YCo2': 1, 'Y-Co': 1, 'CoY6Co6': 1, 'TbRh2': 1, 'RhTb6Rh6': 1, 'SrRh2': 1, 'Sr-Rh': 1, 'RhSr6Rh6': 1, 'ErIr2': 1, 'IrEr6Ir6': 1, 'TmNi2': 1, 'Tm-Ni': 2, 'NiTm6Ni6': 1, 'ErRh2': 1, 'RhEr6Rh6': 1, 'ThOs2': 1, 'Th-Os': 1, 'OsTh6Os6': 1, 'ErNi2': 1, 'Er-Ni': 2, 'NiEr6Ni6': 1, 'CeFe2': 1, 'Ce-Fe': 1, 'FeCe6Fe6': 1, 'NpIr2': 1, 'Np-Ir': 1, 'IrNp6Ir6': 1, 'LuCo2': 1, 'Lu-Co': 1, 'CoLu6Co6': 1, 'CaNi2': 1, 'Ca-Ni': 1, 'NiCa6Ni6': 1, 'LaAl2': 1, 'La-Al': 1, 'AlLa6Al6': 1, 'YIr2': 1, 'IrY6Ir6': 1, 'SrIr2': 1, 'Sr-Ir': 1, 'IrSr6Ir6': 1, 'ErFe2': 1, 'Er-Fe': 1, 'FeEr6Fe6': 1, 'HoRh2': 1, 'RhHo6Rh6': 1, 'CeIr2': 1, 'Ce-Ir': 1, 'IrCe6Ir6': 1, 'CeRu2': 1, 'Ce-Ru': 2, 'RuCe6Ru6': 1, 'HoNi2': 1, 'Ho-Ni': 2, 'NiHo6Ni6': 1, 'CaPd2': 1, 'Ca-Pd': 2, 'PdCa6Pd6': 1, 'MnGa4': 1, 'Mn-Ga': 2, 'CrGa4': 1, 'Cr-Ga': 1, 'Mo2Zr': 1, 'Zr-Mo': 1, 'MoZr6Mo6': 1, 'AgBr': 1, 'Halite': 192, 'Rock': 192, 'Salt': 192, 'AgBr6': 1, 'Ag-Br': 1, 'BrAg6': 1, 'Bi2Rb': 1, 'Rb-Bi': 1, '3.98': 1, 'BiRb6Bi6': 1, 'NdAs': 1, 'NdAs6': 1, 'Nd-As': 1, 'AsNd6': 1, 'HfFe2': 1, 'Hf-Fe': 1, 'FeHf6Fe6': 1, 'GdSe': 1, 'Gd2+': 6, 'GdSe6': 1, 'Gd-Se': 1, 'SeGd6': 1, 'CaRh2': 1, 'Ca-Rh': 1, 'RhCa6Rh6': 1, 'TmCo2': 1, 'Tm-Co': 1, 'CoTm6Co6': 1, 'PtHg4': 1, 'Pt-Hg': 1, 'PrIr2': 1, 'Pr-Ir': 1, 'IrPr6Ir6': 1, 'NaAu2': 1, 'AuNa6Au6': 1, 'CeCo2': 1, 'Ce-Co': 1, 'CoCe6Co6': 1, 'SmNi2': 1, 'Sm-Ni': 2, 'NiSm6Ni6': 1, 'LiCd': 2, 'LiCd4': 1, 'Li-Cd': 3, 'CdLi4': 1, 'YFe2': 1, 'Y-Fe': 1, 'FeY6Fe6': 1, 'CeNi2': 1, 'Ce-Ni': 2, 'NiCe6Ni6': 1, 'BaPd2': 1, 'Ba-Pd': 1, 'PdBa6Pd6': 1, 'DyFe2': 1, 'Dy-Fe': 1, 'FeDy6Fe6': 1, 'EuPd2': 1, 'Eu-Pd': 2, 'PdEu6Pd6': 1, 'LuNi2': 1, 'Lu-Ni': 2, 'NiLu6Ni6': 1, 'LuFe2': 1, 'Lu-Fe': 1, 'FeLu6Fe6': 1, 'DyCo2': 1, 'Dy-Co': 1, 'CoDy6Co6': 1, 'YPt2': 1, 'PtY6Pt6': 1, 'TmIr2': 1, 'IrTm6Ir6': 1, 'TmRh2': 1, 'RhTm6Rh6': 1, 'GdNi2': 1, 'Gd-Ni': 2, 'NiGd6Ni6': 1, 'TbFe2': 1, 'Tb-Fe': 1, 'FeTb6Fe6': 1, 'SmRh2': 1, 'RhSm6Rh6': 1, 'BaF2': 1, 'Ba-F': 2, 'FBa4': 1, 'ThGe': 1, 'ThGe6': 1, 'GeTh6': 1, 'TmB12': 1, 'Tm-B': 2, '(1.71': 5, 'LiF': 1, 'LiF6': 2, 'Li-F': 2, 'FLi6': 1, 'HoS': 1, 'Ho2+': 8, 'HoS6': 1, 'Ho-S': 1, 'SHo6': 1, 'DyN': 1, 'Dy3+': 19, 'DyN6': 1, 'Dy-N': 1, 'NDy6': 1, 'CaSe': 1, 'CaSe6': 1, 'Ca-Se': 1, 'SeCa6': 1, 'TmN': 1, 'TmN6': 1, 'Tm-N': 1, 'NTm6': 1, 'DyTe': 1, 'Dy2+': 10, 'DyTe6': 1, 'Dy-Te': 2, 'TeDy6': 1, 'SmBi': 1, 'SmBi6': 1, 'Sm-Bi': 1, 'BiSm6': 1, 'LiCl': 1, 'LiCl6': 1, 'Li-Cl': 1, 'ClLi6': 1, 'CeBi': 1, 'Bi3-': 29, 'CeBi6': 1, 'Ce-Bi': 2, 'BiCe6': 1, 'RbCl': 1, 'RbCl6': 1, 'Rb-Cl': 1, 'ClRb6': 1, 'LaS': 1, 'LaS6': 1, 'La-S': 1, 'SLa6': 1, 'LaP': 1, 'LaP6': 1, 'La-P': 4, 'PLa6': 1, 'SmH2': 1, 'Sm-H': 1, 'HSm4': 1, 'TaH2': 1, 'Ta-H': 1, 'HTa4': 1, 'PuAs': 1, 'PuAs6': 1, 'Pu-As': 1, 'AsPu6': 1, 'YSe': 1, 'YSe6': 1, 'Y-Se': 1, 'SeY6': 1, 'ZrC': 1, 'ZrC6': 1, 'Zr-C': 1, 'CZr6': 1, 'PbF2': 1, 'Pb2+': 16, 'Pb-F': 2, 'FPb4': 1, 'GdAs': 1, 'GdAs6': 1, 'Gd-As': 1, 'AsGd6': 1, 'GdP': 1, 'GdP6': 1, 'Gd-P': 1, 'PGd6': 1, 'K2S': 1, 'K1+': 82, 'KS4': 1, 'K-S': 4, 'Rb2Se': 1, 'RbSe4': 1, 'Rb-Se': 5, 'BaS': 1, 'BaS6': 1, 'SBa6': 1, 'LuAs': 1, 'Lu3+': 16, 'LuAs6': 1, 'Lu-As': 1, 'AsLu6': 1, 'PEu': 1, 'Eu3+': 4, 'EuP6': 1, 'Eu-P': 3, 'PEu6': 1, 'HoSb': 1, 'Ho3+': 12, 'HoSb6': 1, 'Ho-Sb': 2, 'SbHo6': 1, 'MnS': 1, 'MnS6': 1, 'Mn-S': 4, 'SMn6': 1, 'UAs': 1, 'UAs6': 1, 'U-As': 1, 'AsU6': 1, 'TbN': 1, 'Tb3+': 17, 'TbN6': 1, 'Tb-N': 1, 'NTb6': 1, 'CrN': 1, 'CrN6': 1, 'Cr-N': 2, '2.10': 4, 'NCr6': 1, 'IK1': 1, 'KI6': 1, 'K-I': 1, 'IK6': 1, 'AcH2': 1, 'Ac': 2, 'Ac-H': 1, 'HAc4': 1, 'NdN': 1, 'NdN6': 1, 'Nd-N': 1, 'NNd6': 1, 'TmSe': 1, 'TmSe6': 1, 'Tm-Se': 1, 'SeTm6': 1, 'Rb2Te': 1, 'RbTe4': 1, 'Rb-Te': 6, 'PrP': 1, 'PrP6': 1, 'Pr-P': 2, 'PPr6': 1, 'CsI': 1, 'CsI6': 1, 'Cs-I': 1, '3.91': 1, 'ICs6': 1, 'Na2S': 1, 'Na1+': 50, 'NaS4': 1, 'Na-S': 3, 'AgF': 1, 'AgF6': 2, 'Ag-F': 6, 'FAg6': 1, 'ThN': 1, 'ThN6': 1, 'Th-N': 4, 'NTh6': 1, 'YAs': 1, 'Y3+': 16, 'YAs6': 1, 'Y-As': 1, 'AsY6': 1, 'GdN': 1, 'GdN6': 1, 'Gd-N': 1, 'NGd6': 1, 'NpS': 1, 'S': 12, 'NpS6': 1, 'Np-S': 1, 'SNp6': 1, 'HCs': 1, 'CsH6': 1, 'Cs-H': 2, 'HCs6': 1, 'TbSe': 1, 'Tb2+': 12, 'TbSe6': 1, 'Tb-Se': 1, 'SeTb6': 1, 'PrSe': 1, 'Pr2+': 14, 'PrSe6': 1, 'Pr-Se': 1, 'SePr6': 1, 'ErAs': 1, 'Er3+': 18, 'ErAs6': 1, 'Er-As': 1, 'AsEr6': 1, 'NiO': 1, 'NiO6': 1, 'Ni-O': 2, '2.09': 2, 'ONi6': 1, 'IrSn2': 1, 'Ir-Sn': 1, 'SnIr4': 1, 'NpSb': 1, 'NpSb6': 1, 'Np-Sb': 1, 'SbNp6': 1, 'NpAs': 1, 'NpAs6': 1, 'Np-As': 1, 'AsNp6': 1, 'PuSe': 1, 'PuSe6': 1, 'Pu-Se': 1, 'SePu6': 1, 'BiTb': 1, 'TbBi6': 1, 'Tb-Bi': 1, 'BiTb6': 1, 'Bi(Nd)': 1, 'NdBi6': 1, 'Nd-Bi': 1, 'BiNd6': 1, 'HK1': 1, 'KH6': 1, 'K-H': 2, 'HK6': 1, 'YH2': 1, 'Y-H': 1, 'HY4': 1, 'Na2Te': 1, 'NaTe4': 1, 'Na-Te': 3, 'KF': 1, 'KF6': 1, 'K-F': 8, 'FK6': 1, 'HoSe': 1, 'HoSe6': 1, 'Ho-Se': 1, 'SeHo6': 1, 'GdSb': 1, 'GdSb6': 1, 'Gd-Sb': 2, 'SbGd6': 1, 'PSm': 1, 'SmP6': 1, 'Sm-P': 2, 'PSm6': 1, '(1.69': 2, '(1.77': 1, 'PTh': 1, 'ThP6': 1, 'Th-P': 1, 'PTh6': 1, 'CdO': 1, 'CdO6': 1, 'Cd-O': 1, 'OCd6': 1, 'MgS': 1, 'MgS6': 1, 'Mg-S': 1, 'SMg6': 1, 'NdSe': 1, 'Nd2+': 18, 'NdSe6': 1, 'Nd-Se': 1, 'SeNd6': 1, 'CeTe': 1, 'Ce2+': 14, 'CeTe6': 1, 'Ce-Te': 2, 'TeCe6': 1, 'LaTe': 1, 'LaTe6': 1, 'La-Te': 2, 'TeLa6': 1, 'UO2': 1, 'OU4': 2, 'EuS': 1, 'Eu2+': 39, 'EuS6': 1, 'Eu-S': 1, 'SEu6': 1, 'RbBr': 1, 'RbBr6': 1, 'Rb-Br': 1, 'BrRb6': 1, 'KCl': 1, 'KCl6': 1, 'K-Cl': 1, 'ClK6': 1, 'YBi': 1, 'YBi6': 1, 'Y-Bi': 3, 'BiY6': 1, 'PaO2': 1, 'Pa-O': 1, 'OPa4': 1, 'US': 1, 'U2+': 8, 'US6': 1, 'U-S': 1, 'SU6': 1, 'VH2': 1, 'HV4': 1, 'NpO2': 1, 'Np-O': 1, 'ONp4': 1, 'SrSe': 1, 'SrSe6': 1, 'Sr-Se': 1, 'SeSr6': 1, 'ScN': 1, 'ScN6': 1, 'Sc-N': 1, '2.26': 5, 'NSc6': 1, 'EuF2': 1, 'Eu-F': 1, 'FEu4': 1, 'LuSb': 1, 'LuSb6': 1, 'Lu-Sb': 1, 'SbLu6': 1, 'PaC': 1, 'PaC6': 1, 'Pa-C': 1, 'CPa6': 1, 'SmN': 1, 'SmN6': 1, 'Sm-N': 1, 'NSm6': 1, 'Rb2S': 1, 'RbS4': 1, 'Rb-S': 3, 'PPu': 1, 'PuP6': 1, 'Pu-P': 1, 'PPu6': 1, 'K2O': 1, 'Pnnm': 17, 'KO4': 1, '2.75-2.77': 1, 'DySb': 1, 'DySb6': 1, 'Dy-Sb': 2, 'SbDy6': 1, 'PrAs': 1, 'PrAs6': 1, 'Pr-As': 1, 'AsPr6': 1, 'TaC': 1, 'TaC6': 1, 'Ta-C': 1, 'CTa6': 1, '(1.72': 3, 'ErP': 1, 'ErP6': 1, 'Er-P': 1, 'PEr6': 1, 'CsF': 1, 'CsF6': 1, 'Cs-F': 2, 'FCs6': 1, 'PuO2': 1, 'Pu4+': 4, 'Pu-O': 1, 'OPu4': 1, 'PtSn2': 1, 'SnPt4': 1, 'PuS': 1, 'PuS6': 1, 'Pu-S': 1, 'SPu6': 1, 'HfC': 1, 'Hf4+': 4, 'HfC6': 1, 'Hf-C': 3, 'CHf6': 3, 'CeP': 1, 'CeP6': 1, 'Ce-P': 2, 'PCe6': 1, 'SmSb': 1, 'SmSb6': 1, 'Sm-Sb': 2, 'SbSm6': 1, 'Li2Se': 1, 'LiSe4': 1, 'Li-Se': 1, 'CoSi2': 1, '2.30': 3, 'SiCo4': 1, 'NdH2': 1, 'Nd-H': 1, 'HNd4': 1, 'LuH2': 1, 'Lu-H': 1, '2.16': 2, 'HLu4': 1, 'UC1': 1, 'UC6': 1, 'CU6': 1, 'EuTe': 1, 'EuTe6': 1, 'Eu-Te': 1, 'TeEu6': 1, 'BiLu': 1, 'LuBi6': 1, 'Lu-Bi': 1, 'BiLu6': 1, 'NpSe': 1, 'NpSe6': 1, 'Np-Se': 1, 'SeNp6': 1, 'TiC': 1, 'TiC6': 1, 'LaSb': 1, 'LaSb6': 1, 'La-Sb': 2, 'SbLa6': 1, 'CeO': 1, 'CeO6': 1, 'Ce-O': 3, 'OCe6': 1, 'SrS': 1, 'SrS6': 1, 'Sr-S': 1, 'SSr6': 1, 'LuN': 1, 'LuN6': 1, 'Lu-N': 1, 'NLu6': 1, 'NpB12': 1, 'Np6+': 2, 'B+0.50-': 9, 'Np-B': 1, 'NdSb': 1, 'NdSb6': 1, 'Nd-Sb': 2, 'SbNd6': 1, 'ErS': 1, 'ErS6': 1, 'Er-S': 1, 'SEr6': 1, 'UN1': 1, 'UN6': 1, 'U-N': 4, 'NU6': 1, 'EuO': 1, 'EuO6': 1, 'Eu-O': 3, 'OEu6': 1, 'RbI': 1, 'RbI6': 1, 'Rb-I': 1, '3.69': 3, 'IRb6': 1, 'DyBi': 1, 'DyBi6': 1, 'Dy-Bi': 3, 'BiDy6': 1, 'SrCl2': 1, 'Sr-Cl': 1, 'ClSr4': 1, 'TmBi': 1, 'TmBi6': 1, 'Tm-Bi': 2, 'BiTm6': 1, 'NaH': 1, 'NaH6': 1, 'Na-H': 3, 'HNa6': 1, 'GdH2': 1, 'Gd-H': 1, 'HGd4': 1, 'DyH2': 1, 'Dy-H': 1, 'HDy4': 1, 'NbH2': 1, 'Nb-H': 1, 'HNb4': 1, 'TmSb': 1, 'TmSb6': 1, 'Tm-Sb': 1, 'SbTm6': 1, 'PrTe': 1, 'PrTe6': 1, 'Pr-Te': 2, 'TePr6': 1, 'LaN': 1, 'LaN6': 1, 'La-N': 1, 'NLa6': 1, 'ScP': 1, 'ScP6': 1, 'Sc-P': 1, 'PSc6': 1, 'TbP': 1, 'TbP6': 1, 'Tb-P': 1, 'PTb6': 1, 'HoTe': 1, 'HoTe6': 1, 'Ho-Te': 1, 'TeHo6': 1, 'CeS': 1, 'CeS6': 1, 'Ce-S': 1, 'SCe6': 1, 'TmAs': 1, 'TmAs6': 1, 'Tm-As': 1, 'AsTm6': 1, 'LaSe': 1, 'LaSe6': 1, 'La-Se': 1, 'SeLa6': 1, 'SmSe': 1, 'SmSe6': 1, 'Sm-Se': 1, 'SeSm6': 1, 'Be2C': 1, 'BeC4': 1, 'Be-C': 1, 'PuN': 1, 'PuN6': 1, 'Pu-N': 1, 'NPu6': 1, 'K2Te': 1, 'KTe4': 1, 'K-Te': 5, 'ThSb': 1, 'ThSb6': 1, 'Th-Sb': 2, 'SbTh6': 1, 'SrTe': 1, 'SrTe6': 1, 'Sr-Te': 1, 'TeSr6': 1, 'PbTe': 1, 'PbTe6': 1, 'Pb-Te': 1, 'TePb6': 1, 'EuN': 1, 'EuN6': 1, 'Eu-N': 1, 'NEu6': 1, 'Mg2Pb': 1, 'MgPb4': 1, 'Mg-Pb': 1, 'PbSe': 1, 'PbSe6': 1, 'Pb-Se': 1, 'SePb6': 1, 'PtIn2': 1, 'In1+': 10, 'Pt-In': 2, 'InPt4': 1, 'NaCl': 1, 'NaCl6': 1, 'Na-Cl': 1, 'ClNa6': 1, 'HoBi': 1, 'HoBi6': 1, 'Ho-Bi': 2, 'BiHo6': 1, 'Rh2As': 1, 'RhAs4': 5, 'Rh-As': 5, 'KBr': 1, 'KBr6': 1, 'K-Br': 1, 'BrK6': 1, 'PuH2': 1, 'Pu-H': 1, 'HPu4': 1, 'HfN': 1, 'N2-': 2, 'HfN6': 1, 'Hf-N': 1, 'NHf6': 1, 'P1Y': 1, 'YP6': 1, 'Y-P': 1, 'PY6': 1, 'NpP': 1, 'NpP6': 1, 'Np-P': 1, 'PNp6': 1, 'Na2Se': 1, 'NaSe4': 1, 'Na-Se': 2, 'BaO': 1, 'BaO6': 2, 'OBa6': 1, 'CaTe': 1, 'CaTe6': 1, 'Ca-Te': 1, 'TeCa6': 1, 'TmS': 1, 'TmS6': 1, 'Tm-S': 1, 'STm6': 1, 'SnTe': 1, 'SnTe6': 1, 'Sn-Te': 1, 'TeSn6': 1, 'ErN': 1, 'ErN6': 1, 'Er-N': 1, 'NEr6': 1, 'NiSi2': 1, 'SiSi6Ni4': 1, 'Mg2Sn': 1, 'MgSn4': 1, 'Mg-Sn': 1, 'ScH2': 1, 'Sc-H': 1, 'HSc4': 1, 'NpH2': 1, 'Np-H': 1, 'HNp4': 1, 'TbH2': 1, 'Tb-H': 1, 'HTb4': 1, 'TmH2': 1, 'Tm-H': 1, '2.19': 3, 'HTm4': 1, 'TbAs': 1, 'TbAs6': 1, 'Tb-As': 1, 'AsTb6': 1, 'AuAl2': 1, 'Au-Al': 3, 'AlAu4': 1, 'CeAs': 1, 'CeAs6': 1, 'Ce-As': 2, 'AsCe6': 1, 'NdTe': 1, 'NdTe6': 1, 'Nd-Te': 2, 'TeNd6': 1, 'GdBi': 1, 'GdBi6': 1, 'Gd-Bi': 1, 'BiGd6': 1, 'ThO2': 1, 'Th-O': 1, 'OTh4': 1, 'NaF': 1, 'NaF6': 2, 'Na-F': 5, 'FNa6': 1, 'K2Pt': 1, 'KPt4': 1, 'K-Pt': 1, 'ErTe': 1, 'ErTe6': 1, 'Er-Te': 1, 'TeEr6': 1, 'ScS': 1, 'ScS6': 1, 'Sc-S': 1, 'SSc6': 1, 'PuTe': 1, 'PuTe6': 1, 'Pu-Te': 1, 'TePu6': 1, 'PaAs': 1, 'Pa3+': 4, 'PaAs6': 1, 'Pa-As': 1, 'AsPa6': 1, 'ScSe': 1, 'ScSe6': 1, 'Sc-Se': 1, 'SeSc6': 1, 'UP1': 1, 'UP6': 1, 'U-P': 1, 'PU6': 1, 'YSb': 1, 'YSb6': 1, 'Y-Sb': 1, 'SbY6': 1, 'ThSe': 1, 'ThSe6': 1, 'Th-Se': 1, 'SeTh6': 1, 'AuIn2': 1, 'Au-In': 12, 'InAu4': 1, 'NaBr': 1, 'NaBr6': 1, 'Na-Br': 1, 'BrNa6': 1, 'NaI': 1, 'NaI6': 1, 'Na-I': 1, 'INa6': 1, 'LiH': 1, 'LiH6': 1, 'Li-H': 2, '2.01': 4, 'HLi6': 1, 'PrH2': 1, 'Pr-H': 1, 'HPr4': 1, 'HoH2': 1, 'Ho-H': 1, 'HHo4': 1, 'CaF2': 1, 'Ca-F': 3, 'FCa4': 1, 'AuGa2': 1, 'Au-Ga': 3, 'GaAu4': 1, 'GdS': 1, 'GdS6': 1, 'Gd-S': 1, 'SGd6': 1, 'LaAs': 1, 'LaAs6': 1, 'La-As': 1, 'AsLa6': 1, 'HgF2': 1, 'Hg-F': 2, 'FHg4': 1, 'K2Se': 1, 'KSe4': 1, 'K-Se': 4, 'MoZn6': 1, 'MoZn12': 1, 'Mo-Zn': 1, 'PLu': 1, 'LuP6': 1, 'Lu-P': 1, 'PLu6': 1, 'SmS': 1, 'SmS6': 1, 'Sm-S': 1, 'SSm6': 1, 'SY1': 1, 'YS6': 1, 'Y-S': 1, 'SY6': 1, 'NdS': 1, 'NdS6': 1, 'Nd-S': 1, 'SNd6': 1, 'ThAs': 1, 'ThAs6': 1, 'Th-As': 1, 'AsTh6': 1, 'EuSe': 1, 'EuSe6': 1, 'Eu-Se': 1, 'SeEu6': 1, 'YN': 1, 'YN6': 1, 'Y-N': 1, 'NY6': 1, 'LaBi': 1, 'LaBi6': 1, 'La-Bi': 2, 'BiLa6': 1, 'ErBi': 1, 'ErBi6': 1, 'Er-Bi': 2, 'BiEr6': 1, 'CdF2': 1, 'Cd-F': 3, 'FCd4': 1, 'DyS': 1, 'DyS6': 1, 'Dy-S': 1, 'SDy6': 1, 'NiH': 1, 'NiH6': 1, 'Ni-H': 1, '1.84': 4, 'HNi6': 1, 'RbH': 1, 'RbH6': 1, 'Rb-H': 2, 'HRb6': 1, 'CeN': 1, 'CeN6': 1, 'Ce-N': 1, 'NCe6': 1, 'PrS': 1, 'PrS6': 1, 'Pr-S': 1, 'SPr6': 1, 'Li2Te': 1, 'LiTe4': 1, 'Li-Te': 1, 'CeSe': 1, 'CeSe6': 1, 'Ce-Se': 1, 'SeCe6': 1, 'CaO': 1, 'CaO6': 2, 'Ca-O': 2, 'OCa6': 1, 'TbSb': 1, 'TbSb6': 1, 'Tb-Sb': 2, 'SbTb6': 1, 'PrN': 1, 'PrN6': 1, 'Pr-N': 1, 'NPr6': 1, 'CeSb': 1, 'CeSb6': 1, 'Ce-Sb': 2, 'SbCe6': 1, 'LuSe': 1, 'LuSe6': 1, 'Lu-Se': 1, 'SeLu6': 1, 'LuS': 1, 'LuS6': 1, 'Lu-S': 1, 'SLu6': 1, 'SrF2': 1, 'Sr-F': 4, 'FSr4': 1, 'PaN': 1, 'PaN6': 1, 'Pa-N': 1, 'NPa6': 1, 'PuB12': 1, 'Pu-B': 1, 'BaSe': 1, 'BaSe6': 1, 'SeBa6': 1, 'Mg2Si': 1, 'MgSi4': 1, 'Mg-Si': 1, 'PtAl2': 1, 'AlPt4': 1, 'TbS': 1, 'TbS6': 1, 'Tb-S': 1, 'STb6': 1, 'CaS': 1, 'CaS6': 1, 'Ca-S': 1, 'SCa6': 1, 'UN2': 1, 'NU4': 3, 'Li2O': 1, 'LiO4': 1, 'Li-O': 2, 'DyP': 1, 'DyP6': 1, 'Dy-P': 1, 'PDy6': 1, 'CeO2': 1, 'OCe4': 2, 'ScAs': 1, 'ScAs6': 1, 'Sc-As': 1, 'AsSc6': 1, 'Na2O': 1, 'NaO4': 1, 'Na-O': 1, 'ErH2': 1, 'Er-H': 1, 'HEr4': 1, 'SrO': 1, 'SrO6': 2, 'OSr6': 1, 'DyAs': 1, 'DyAs6': 1, 'Dy-As': 1, 'AsDy6': 1, 'Rh2P': 1, 'P': 13, 'RhP4': 4, 'Rh-P': 4, 'NdP': 1, 'NdP6': 1, 'Nd-P': 2, 'PNd6': 1, 'HoAs': 1, 'HoAs6': 1, 'Ho-As': 1, 'AsHo6': 1, 'Mg2Ge': 1, 'MgGe4': 1, 'Mg-Ge': 1, 'TiN': 1, 'TiN6': 1, 'BaCl2': 1, 'Ba-Cl': 1, 'ClBa4': 1, 'HoP': 1, 'HoP6': 1, 'Ho-P': 1, 'PHo6': 1, 'DySe': 1, 'DySe6': 1, 'Dy-Se': 1, 'SeDy6': 1, 'BaTe': 1, 'BaTe6': 1, 'TeBa6': 1, 'Li2S': 1, 'LiS4': 1, 'Li-S': 1, 'ThC': 1, 'ThC6': 1, 'CTh6': 1, 'MgO': 1, 'MgO6': 1, 'Mg-O': 1, 'OMg6': 1, 'ZrN': 1, 'Zr3+': 2, 'ZrN6': 1, 'Zr-N': 1, 'NZr6': 1, 'AsSm': 1, 'SmAs6': 1, 'Sm-As': 1, 'AsSm6': 1, 'PrSb': 1, 'PrSb6': 1, 'Pr-Sb': 2, 'SbPr6': 1, 'Ir2P': 1, 'IrP4Ir6': 1, 'Ir-P': 1, 'USe': 1, 'USe6': 1, 'U-Se': 1, 'SeU6': 1, 'ErSb': 1, 'ErSb6': 1, 'Er-Sb': 2, 'SbEr6': 1, 'PtGa2': 1, 'GaPt4': 1, 'AgCl': 1, 'AgCl6': 1, 'Ag-Cl': 1, 'ClAg6': 1, 'PrBi': 1, 'PrBi6': 1, 'Pr-Bi': 1, 'BiPr6': 1, 'LaH2': 1, 'La-H': 1, 'HLa4': 1, 'ErSe': 1, 'ErSe6': 1, 'Er-Se': 1, 'SeEr6': 1, 'NpN': 1, 'NpN6': 1, 'Np-N': 1, 'NNp6': 1, 'SmTe': 1, 'SmTe6': 1, 'Sm-Te': 2, 'TeSm6': 1, 'ThS': 1, 'ThS6': 1, 'Th-S': 1, 'STh6': 1, 'ScSb': 1, 'ScSb6': 1, 'Sc-Sb': 1, 'SbSc6': 1, 'ScBi': 1, 'ScBi6': 1, 'Sc-Bi': 1, 'BiSc6': 1, 'SO2': 2, 'Aea2': 2, 'S4+': 2, 'S-O': 2, 'SBr': 2, 'S1+': 4, 'S-Br': 1, 'HCl': 2, 'Cmc21': 1, 'H-Cl': 1, '1.30': 1, 'SCl': 2, 'Fdd2': 1, 'thirty-two': 1, 'S-Cl': 1, 'MgCd': 1, 'beta-prime': 2, 'cadmium': 2, 'gold': 2, 'Pmma': 2, 'MgCd8': 1, 'Mg-Cd': 1, '3.04-3.09': 1, 'CdMg8': 1, 'RbTe': 1, 'Pbam': 2, '3.70-3.99': 1, 'PtTi': 1, '2.74-2.84': 1, 'H2S': 2, 'Pbcm': 1, 'H-S': 1, '1.35': 1, 'L-shaped': 4, 'CsTe': 1, 'Cs-Te': 1, '3.88-4.19': 1, 'PtO2': 1, 'Pt4+': 4, 'PtO6': 1, '55°': 3, 'FeTe2': 1, 'Marcasite': 5, 'FeTe6': 1, '(2.55': 1, '(2.56': 1, 'Fe-Te': 1, 'FeP2': 1, 'zeta': 10, 'iron': 10, 'Fe6+': 4, 'FeP6': 2, 'Fe-P': 8, 'FeSb2': 1, 'FeSb6': 1, 'Fe-Sb': 2, 'CoSe2': 1, 'CoSe6': 1, '59°': 1, '(2.43': 1, 'Co-Se': 1, 'RuSb2': 1, 'Ru6+': 4, 'RuSb6': 1, '(2.66': 1, 'Ru-Sb': 1, 'OsAs2': 1, 'OsAs6': 1, '(2.46': 3, '(2.49': 2, 'Os-As': 1, 'OsSb2': 1, 'OsSb6': 1, 'Os-Sb': 1, 'CoTe2': 1, 'CoTe6': 1, '57°': 2, 'Co-Te': 1, 'RuB2': 1, 'Pmmn': 2, 'Ru-B': 1, '2.16-2.27': 1, '(1.82': 2, 'CdSb': 1, 'SC16': 2, 'CuCl': 2, 'stable': 2, 'at': 2, '5GPa': 2, 'CdSb4': 1, 'Cd-Sb': 1, '2.84-3.14': 1, 'OsB2': 1, 'Os6+': 2, 'Os-B': 4, '2.17-2.30': 1, 'FeS2': 1, 'S+1.50-': 2, 'FeS6': 1, '60°': 1, 'Fe-S': 1, 'FeAs2': 1, 'FeAs6': 1, 'Fe-As': 2, 'CrSb2': 1, 'CrSb6': 1, '54°': 1, 'Cr-Sb': 1, 'CaBr2': 1, 'CaBr6': 1, 'Ca-Br': 1, 'OsP2': 1, 'OsP6': 1, '(2.38': 2, 'Os-P': 4, 'Pd2B': 1, '(2.11': 1, '(2.14': 1, 'Pd-B': 1, 'BPd6': 1, 'FeSe2': 1, 'Se+1.50-': 2, 'FeSe6': 1, '58°': 1, 'Fe-Se': 1, 'YAl': 1, 'Boride-like': 1, 'Y-Al': 1, '3.09-3.25': 1, 'K2O2': 1, 'boron-derived': 4, '2.67-2.70': 1, '1.52': 2, 'Mo2C': 1, 'Pbcn': 4, 'Mo2+': 2, 'Mo-C': 1, 'CMo6': 1, 'V2C': 1, 'V-C': 2, 'CV6': 2, '50-51°': 1, 'AgF2': 1, 'Ag2+': 2, '49-69°': 1, '2.09-2.58': 1, 'CaCl2': 1, 'CaCl6': 1, '52-53°': 1, 'Ca-Cl': 1, '2.74-2.77': 1, 'ZnSb': 1, 'ZnSb4': 1, 'Zn-Sb': 1, '2.67-2.88': 1, 'Mn2N': 1, 'Mn-N': 1, '1.95-1.98': 1, 'NMn6': 1, 'Ga(La)': 1, '3.24-3.36': 1, 'TmAu': 1, '2.93-3.06': 1, 'TaB': 1, '2.40-2.56': 1, 'PrNi': 1, 'Pr-Ni': 1, '2.92-3.13': 1, 'ThRu': 1, 'Th-Ru': 1, '2.81-3.30': 1, 'EuGe': 1, 'Eu-Ge': 1, '3.18-3.32': 1, 'SrPb': 1, '3.46-3.68': 1, 'SiEu': 1, '(3.25': 4, 'Eu-Si': 5, 'SrSi': 1, 'Sr-Si': 4, '3.27-3.37': 1, 'GdNi': 1, '2.87-3.00': 1, 'NdGe': 1, 'Nd-Ge': 1, '3.09-3.30': 1, 'BaSn': 1, 'Ba-Sn': 1, '3.66-3.77': 1, 'AuLa': 1, 'La-Au': 2, '3.17-3.25': 1, 'ThIr': 1, '2.90-3.32': 1, 'ZrPd': 1, 'Zr-Pd': 2, '2.80-2.93': 1, 'GdGe': 1, 'Gd-Ge': 1, '3.01-3.22': 1, 'CaGe': 1, 'Ca-Ge': 1, 'UPt': 1, 'U-Pt': 1, '2.89-3.18': 1, 'NdPd': 1, '(3.08': 2, 'LuSi': 1, 'Lu-Si': 2, '2.87-3.06': 1, 'YAu': 1, '3.00-3.10': 1, 'GaY': 1, '3.05-3.17': 1, 'TbGe1': 1, 'Tb-Ge': 1, 'SrGe': 1, 'Sr-Ge': 2, '3.29-3.37': 1, 'NbB': 1, 'Nb-B': 1, '2.42-2.61': 1, 'DyGa': 1, '3.04-3.17': 1, 'SmNi': 1, '2.85-2.98': 2, 'PrRh': 1, '2.96-3.20': 1, 'NdAu': 1, 'Nd-Au': 2, '3.12-3.19': 1, 'LaPt': 1, '3.05-3.22': 2, 'PtHf': 1, 'Hf-Pt': 1, '2.73-2.96': 1, 'CeRh': 1, '2.79-3.30': 1, 'PuPt': 1, '2.82-3.10': 1, 'ErAu': 1, '2.94-3.07': 1, 'CaAu': 1, 'Ca-Au': 2, '3.10-3.17': 1, 'PtTh': 1, 'Th-Pt': 1, '3.00-3.28': 1, 'HoGe': 1, 'Ho-Ge': 1, 'ErGe': 1, 'Er-Ge': 1, '2.92-3.17': 2, 'ThCo': 1, 'Th-Co': 1, '2.74-3.11': 1, 'CaGa': 1, '3.16-3.29': 1, 'YGe': 1, 'Y-Ge': 2, 'PrPd': 1, '3.03-3.11': 1, 'HoGa': 1, '3.02-3.15': 1, 'LaNi': 1, 'La-Ni': 1, '2.95-3.20': 1, 'ScGe': 1, 'Sc-Ge': 2, '2.76-3.04': 1, 'SrPd': 1, '3.19-3.29': 1, 'GaSm': 1, 'Sm-Ga': 1, '3.12-3.23': 1, 'TmGa': 1, 'Tm-Ga': 2, '2.99-3.13': 1, 'ScGa': 1, 'Sc-Ga': 2, '2.86-3.01': 1, 'CeNi': 1, '2.83-3.12': 1, 'CePt': 1, '2.99-3.22': 1, 'BaSi': 1, 'Ba-Si': 1, '3.43-3.67': 1, 'SmPd': 1, 'ZrNi': 1, '2.65-2.80': 1, 'EuSn': 1, '3.36-3.55': 1, 'NdRh': 1, '2.95-3.17': 1, 'CePd': 1, 'EuPd': 1, '3.08-3.16': 1, 'ThAu': 1, '3.12-3.28': 1, 'CeGa': 1, 'Ce-Ga': 1, '3.17-3.27': 2, 'ThRh': 1, '2.86-3.36': 1, 'GaNd': 1, '3.16-3.28': 1, 'Pt2Ta': 1, 'Ta-Pt': 1, '2.72-2.85': 1, 'YSi': 1, 'Y-Si': 3, '2.96-3.13': 2, 'VB1': 1, '2.23-2.32': 1, 'TmGe': 1, 'Tm-Ge': 1, '2.90-3.16': 1, 'AuTb': 1, '3.00-3.11': 1, 'PrAu': 1, 'Pr-Au': 3, '3.14-3.21': 1, 'LuGa': 1, 'Lu-Ga': 2, '2.96-3.11': 1, 'LaRh': 1, '2.93-3.28': 1, 'LaPd': 1, '3.06-3.16': 1, 'HoAu': 1, 'P21/m': 2, '2.96-3.09': 1, 'FeB': 1, '2.15-2.18': 2, 'AuDy': 1, '2.98-3.10': 1, 'HfNi': 1, 'Hf-Ni': 2, 'ErGa': 1, '3.01-3.14': 1, 'ZrPt': 1, 'Zr-Pt': 1, '2.77-2.98': 2, 'PdY': 1, '2.92-3.00': 1, 'ZrSi': 1, '2.74-2.91': 1, 'PrGa': 1, '3.19-3.31': 1, 'GdPd': 1, '2.95-3.05': 1, 'CaSi': 1, 'Ca-Si': 2, '3.09-3.18': 1, 'SrSn': 1, 'Sr-Sn': 1, '3.46-3.62': 1, 'DyGe': 1, 'Dy-Ge': 1, 'GdGa': 1, '3.08-3.18': 1, 'ScSi': 1, 'Sc-Si': 1, '2.77-2.95': 1, 'RuGa2': 1, 'Disilicide': 3, 'Fddd': 9, 'Ru-Ga': 1, '2.56-2.74': 1, '2.58-2.77': 1, 'RuAl2': 1, '2.57-2.72': 1, '2.60-2.73': 1, 'PtNp': 1, 'Np-Pt': 1, 'TmSi': 1, 'Tm-Si': 2, '2.90-3.08': 2, 'TbGa': 1, '3.06-3.18': 1, 'BaGe': 1, 'Ba-Ge': 1, '3.46-3.63': 1, 'BaPb1': 1, '(3.71': 1, '(3.80': 1, 'Ba-Pb': 1, 'CaSn': 1, '3.25-3.48': 1, 'CaZn': 1, 'Ca-Zn': 2, '3.12-3.29': 1, 'AgCa': 1, 'Ca-Ag': 2, 'TlBr': 1, 'Tl-Br': 1, '3.14-3.79': 1, 'SmGe': 1, 'Sm-Ge': 1, '3.04-3.27': 1, 'AuSm': 1, 'Sm-Au': 2, '3.07-3.15': 1, 'NdNi': 1, 'Nd-Ni': 1, '2.88-3.04': 2, 'IrV': 1, 'iridium': 2, 'vanadium': 2, 'Cmmm': 2, 'ZrSn2': 1, 'Zr-Sn': 1, '2.97-3.29': 1, '2.99-3.27': 1, 'RhV': 1, 'Pt2W': 1, 'Immm': 19, 'W-Pt': 1, 'PtPt7W5': 1, '2.71-2.82': 1, 'SCs': 1, 'Cs-S': 2, 'TaPd2': 1, 'TaPd10': 1, 'Ta-Pd': 1, 'PdTa5': 1, 'Pt2Mo': 1, 'Mo-Pt': 1, 'PtMo5Pt7': 1, '2.72-2.81': 1, 'PrCu': 1, 'Pnma': 69, 'Pr-Cu': 2, '2.93-3.19': 1, 'HoPd': 1, '2.86-2.98': 1, 'ZnSr': 1, 'Sr-Zn': 2, '3.30-3.51': 1, 'CoB': 1, 'Co-B': 19, '2.07-2.13': 1, 'ThSi': 1, 'RhGe': 1, 'Modderite': 20, 'Rh-Ge': 1, '2.47-2.56': 1, 'LuCu2': 1, 'Imma': 52, 'Lu-Cu': 1, '2.87-3.04': 1, '2.44-2.59': 1, 'DyCu2': 1, '2.93-3.07': 1, '2.47-2.69': 1, 'Ag2Pr': 1, '3.22-3.39': 1, 'SmCu2': 1, 'Sm-Cu': 2, '2.97-3.14': 1, '2.49-2.76': 1, 'GdCu2': 1, 'Gd-Cu': 1, '2.48-2.70': 1, 'ScGa2': 1, 'ScGa12': 1, '2.95-3.03': 1, 'Ag2Ca': 1, '3.23-3.47': 1, 'EuAg2': 1, 'Eu-Ag': 2, '3.28-3.46': 1, '2.78-2.94': 1, 'BaZn2': 1, 'Ba-Zn': 1, '3.30-3.82': 1, '2.70-2.92': 1, 'SrAu2': 1, 'Sr-Au': 1, '3.29-3.51': 1, '2.77-3.16': 1, 'LaZn2': 1, '3.14-3.45': 1, '2.63-2.85': 1, 'TmZn2': 1, '3.00-3.15': 1, '2.53-2.86': 1, 'Rb2O2': 1, 'Cs2O2': 1, 'Cs-O': 6, 'OCs6O': 1, '1.51': 1, 'RbHg2': 1, 'Rb-Hg': 1, '3.72-3.92': 1, '3.13-3.21': 1, 'ErCu2': 1, '2.90-3.05': 1, '2.46-2.62': 1, 'LaAg2': 1, '3.27-3.42': 1, '2.78-3.05': 1, 'EuCu2': 1, 'Eu-Cu': 2, '3.00-3.23': 1, '2.52-2.71': 1, 'Ag2Nd': 1, '3.20-3.38': 1, 'PrZn2': 1, '3.12-3.40': 1, '2.60-2.86': 2, 'TmCu2': 1, 'LuGa2': 1, '3.02-3.05': 1, '2.54-2.72': 1, 'In2La': 1, '3.48-3.99': 1, '2.91-3.06': 1, 'SrAl2': 1, 'Sr-Al': 1, '3.26-3.59': 1, '2.76-2.88': 1, 'TbZn2': 1, '3.03-3.23': 1, '2.56-2.90': 1, 'CeCu2': 1, 'Ce-Cu': 1, '2.97-3.07': 1, '2.52-2.87': 1, 'SrAg2': 1, 'Sr-Ag': 1, '3.31-3.53': 1, '2.79-3.03': 1, 'HoCu2': 1, '2.92-3.06': 1, '2.46-2.67': 1, 'KHg2': 1, 'K-Hg': 1, '3.57-3.86': 1, '3.07-3.12': 1, 'SrHg2': 1, 'SrHg12': 1, '3.48-3.54': 1, 'DyZn2': 1, '3.03-3.21': 1, '2.55-2.88': 1, 'SrCd2': 1, '3.48-3.68': 1, '2.93-3.12': 1, 'EuZn2': 1, '3.15-3.42': 1, '2.64-2.77': 1, 'LuZn2': 1, '2.98-3.12': 1, '2.52-2.85': 1, 'ErZn2': 1, '3.01-3.17': 1, '2.54-2.86': 1, 'EuAu2': 1, 'Eu-Au': 2, '3.25-3.46': 1, 'PrCu2': 1, '3.01-3.19': 1, '2.49-3.01': 1, 'LaAu2': 1, 'LaAu12': 1, '3.29-3.38': 1, 'GdZn2': 1, '3.06-3.23': 1, '2.58-2.91': 1, 'BaCd2': 1, '3.59-3.86': 1, '3.03-3.14': 1, 'NdCu2': 1, 'Nd-Cu': 2, '2.99-3.17': 1, '2.49-2.90': 1, 'CaCd2': 1, '3.34-3.52': 1, 'TbCu2': 1, '2.94-3.09': 2, '2.48-2.68': 3, 'CaZn2': 1, '3.10-3.34': 1, 'TmGa2': 1, '3.04-3.07': 1, '2.54-2.73': 1, 'HoZn2': 1, '3.02-3.19': 1, '2.55-2.89': 1, 'BaIn2': 1, 'Ba-In': 1, '3.57-3.94': 1, '3.01-3.13': 1, 'YCu2': 1, 'Y-Cu': 1, '2.95-3.10': 1, 'PrAu2': 1, '3.23-3.55': 1, '2.74-3.17': 1, 'EuCd2': 1, '3.42-3.61': 1, 'NdZn2': 1, '3.10-3.37': 1, 'CaAu2': 1, '3.21-3.51': 1, '2.72-2.99': 1, 'SrZn2': 1, '3.22-3.52': 1, '2.71-2.80': 1, 'CsHg2': 1, 'Cs-Hg': 1, '3.84-4.10': 1, 'SmZn2': 1, '3.07-3.31': 1, 'FeP': 1, '43-57°': 1, '2.23-2.33': 1, 'PtEr': 1, '2.83-2.98': 1, 'PtY': 1, '2.87-3.02': 1, 'LuNi': 1, '2.80-2.86': 1, 'ThPd': 1, 'Th-Pd': 1, '3.03-3.18': 1, 'PtGe': 1, 'Ge2+': 2, 'Pt-Ge': 1, 'PtSi': 1, 'PtSi6': 1, '2.42-2.67': 1, 'TiSi': 1, 'Ti-Si': 1, '2.56-2.76': 1, 'NdPt': 1, '2.95-3.13': 1, 'GdPt': 1, 'BaAg': 1, 'Ba-Ag': 1, '3.47-3.69': 1, 'HoSi': 1, 'Ho-Si': 2, '2.92-3.14': 1, 'HoNi': 1, '2.82-2.91': 1, 'NiSi': 1, 'Ni4+': 2, 'NiSi6': 1, '2.27-2.39': 1, 'LuPt': 1, '2.80-2.96': 1, 'EuAu': 1, '3.17-3.24': 1, 'NdCu': 1, '2.91-3.16': 1, 'IrGe': 1, 'IrGe6': 1, '46-56°': 1, 'Ir-Ge': 1, '2.48-2.60': 1, 'WP': 1, 'WP6': 1, 'W-P': 1, '2.46-2.56': 1, 'DyNi': 1, '2.80-2.90': 1, 'AgEu': 1, '3.25-3.32': 1, 'NdSi': 1, 'Nd-Si': 2, '3.08-3.26': 1, 'HoPt': 1, '2.84-3.00': 1, 'ErSi': 1, 'Er-Si': 2, '2.91-3.12': 1, 'CeGe': 1, 'Ce-Ge': 1, '3.12-3.32': 1, 'NiY': 1, 'Y-Ni': 1, 'ErNi': 1, '2.81-2.90': 2, 'DySi': 1, 'Dy-Si': 2, '2.94-3.15': 1, 'MnAs': 1, 'MnAs6': 1, '44-59°': 2, 'Mn-As': 1, '2.36-2.59': 1, 'MnB': 1, 'Mn-B': 1, '2.16-2.22': 1, 'ZrGe': 1, 'Zr-Ge': 1, '2.75-3.05': 1, 'SmSi': 1, 'Sm-Si': 2, '3.03-3.22': 1, 'TbPd': 1, '2.88-3.01': 1, 'RhSi': 1, 'RhSi6': 1, '42-63°': 1, 'Rh-Si': 3, '2.41-2.51': 1, 'SmPt': 1, '2.92-3.09': 1, 'LaCu': 1, '2.94-3.24': 1, 'TbPt': 1, '2.87-3.03': 1, 'CuEu': 1, '3.06-3.33': 1, 'PdSn': 1, 'Pd-Sn': 2, '2.66-2.82': 1, 'ZrRh': 1, '2.61-2.90': 1, 'SmCu': 1, '2.88-3.10': 1, 'DyPt': 1, '2.85-3.01': 1, 'PdGe': 1, 'PdGe6': 1, '45-59°': 1, 'Pd-Ge': 1, '2.50-2.65': 1, 'CrP': 1, 'CrP6': 1, 'Cr-P': 1, '2.29-2.41': 1, 'CoP': 1, 'CoP6': 1, '47-58°': 1, 'Co-P': 4, '2.18-2.34': 1, 'PrSi': 1, 'Pr-Si': 1, '3.11-3.28': 1, 'NiGe': 1, 'NiGe6': 1, '47-61°': 1, 'Ni-Ge': 2, '2.32-2.49': 1, 'HgO': 1, 'HgO6': 1, '19-25°': 1, 'Hg-O': 4, '2.05-2.94': 1, 'RhSb': 1, 'RhSb6': 1, '46-60°': 1, 'Rh-Sb': 2, '2.60-2.78': 1, 'PuSi': 1, '3.00-3.18': 1, 'PrGe': 1, '3.12-3.35': 1, 'CeSi': 1, 'Ce-Si': 2, '3.09-3.23': 1, 'MnP': 1, 'MnP6': 1, '45-57°': 1, 'Mn-P': 2, '2.25-2.39': 1, 'Ru(P)': 1, 'Ru3+': 4, 'RuP6': 1, 'Ru-P': 5, '2.33-2.55': 1, 'TbSi': 1, 'Tb-Si': 2, '2.96-3.16': 1, 'AsV': 1, 'VAs6': 1, '2.42-2.69': 1, 'BaAu': 1, '3.42-3.49': 1, 'TiB': 1, '2.35-2.55': 1, 'HfSi': 1, '2.70-2.88': 1, 'IrSi': 1, 'IrSi6': 1, '43-60°': 1, 'Ir-Si': 1, '2.41-2.56': 1, 'AuGa': 1, '2.61-2.78': 1, 'PrPt': 1, '2.97-3.16': 1, 'TmNi': 1, 'TmAu4': 1, 'I4/m': 10, 'TmAu12': 1, 'AuTm3': 1, 'VAu4': 1, 'VAu12': 1, 'AuV3': 1, 'ErAu4': 1, 'ErAu12': 1, 'AuEr3': 1, 'Au4Cr': 1, 'Au+0.50-': 6, 'CrAu12': 1, 'Cr-Au': 1, 'AuCr3': 1, 'Au4Mn': 1, 'MnAu12': 1, 'TiAu4': 1, 'TiAu12': 1, '(2.84': 4, 'Ga2Te5': 1, 'GaTe4': 1, 'Ga-Te': 1, 'HoAu4': 1, 'HoAu12': 1, 'AuHo3': 1, 'CdAs2': 1, 'I4_122': 1, 'As1-': 3, 'CdAs4': 1, 'Cd-As': 1, 'As-As': 1, 'Au4Sc': 1, 'ScAu12': 1, 'ThCl4': 1, 'I41/a': 15, 'Th-Cl': 1, 'ThBr4': 1, 'Th-Br': 1, 'MgGa': 1, 'Mg-Ga': 1, '2.80-3.30': 1, 'Ge(Li)': 1, 'Li-Ge': 1, '2.66-3.15': 1, 'LuAu4': 1, 'LuAu12': 1, 'AuLu3': 1, 'RbNH2': 2, 'Rb-N': 1, '1.03': 2, 'AgClO4': 1, 'I̅42m': 1, 'Cl7+': 4, 'O-Cl': 2, '1.45': 2, 'LiBO2': 1, 'Chalcopyrite': 1, '1.94': 7, 'BO4': 1, 'B-O': 3, '1.48': 2, 'Cd(AuF4)2': 1, 'P4/mcc': 2, 'Au3+': 17, 'Au-F': 6, 'Hg(AuF4)2': 1, 'NaPN2': 1, 'Na-N': 2, 'P5+': 2, 'PN4': 1, 'P-N': 1, 'CaGeN2': 1, 'GeN4': 1, 'Ge-N': 1, 'ZnCN2': 1, 'ZnN4': 1, '(2.03': 1, 'Zn-N': 1, 'C-N': 6, 'Pt2CuAl': 1, 'Pt2CdZn': 1, 'Pt2CuGa': 1, 'Li(RhSi)2': 1, 'P4/mbm': 1, 'Li-Si': 1, 'Rh+3.50+': 2, '(2.48': 3, 'NaBH4': 1, '2.42-2.55': 1, 'B-H': 5, 'K2PdF4': 1, '2.65-2.91': 1, 'K2CN2': 1, 'K-N': 1, '2.78-2.98': 1, '1.24': 1, 'Ba(BeN)2': 1, 'Be-N': 3, 'PdPbF4': 1, '1.99': 5, 'TlInSe2': 1, 'Tl-Se': 5, 'InSe4': 1, 'In-Se': 2, 'KHF2': 1, 'H-F': 5, '1.14': 5, 'KAuF4': 1, 'KAgF4': 1, 'Ag3+': 4, 'Ca(BeN)2': 1, '(1.60': 1, 'NaInTe2': 1, 'InTe4': 3, 'In-Te': 3, 'CsHF2': 1, 'CaCuF4': 1, 'AuAgF4': 1, 'KInTe2': 1, 'RbAuF4': 1, 'Rb-F': 1, 'NaAuF4': 1, '1.95': 1, 'Ho2BiO2': 1, 'Ho-O': 1, 'OHo4': 1, 'K(RhP)2': 1, 'K-P': 5, 'NpRu2Si2': 1, 'Np-Si': 1, 'Ru+2.50+': 28, 'RuSi4': 16, 'NaAlTe2': 1, 'AlTe4': 1, 'Al-Te': 1, 'Sr(BeN)2': 1, 'CuCdF4': 1, 'Ce2TeO2': 1, 'SrCuF4': 1, 'SrPdF4': 1, 'BaPdF4': 1, 'RbInTe2': 1, '3.82': 1, 'KBrF4': 1, 'Br3+': 2, 'Br-F': 1, 'SrCrF4': 1, '1.97': 3, 'NaAgF4': 1, '1.93': 2, 'LuRu2Si2': 1, 'ThRu2Si2': 1, 'Ru2+': 16, 'Li2CN2': 1, 'LiN4': 1, 'Li-N': 2, 'Tb(FeB)2': 1, 'FeB4': 2, 'EuRh2Si2': 1, 'RhSi4': 1, 'PrCo2P2': 1, 'CoP4': 3, 'CaFe2P2': 1, 'Ca-P': 1, 'FeP4': 6, 'NdCo2B2': 1, 'DyRu2Si2': 1, 'BaNi2As2': 1, 'Ba-As': 3, 'NiAs4': 2, 'Ni-As': 2, 'Cs(RhAs)2': 1, 'Cs-As': 5, '3.70': 1, 'Th2SbN2': 1, 'NTh4': 3, 'Sm2TeO2': 1, 'Sm-O': 1, 'OSm4': 1, 'BaRu2As2': 1, 'RuAs4': 3, 'Ru-As': 3, 'URu2Si2': 1, 'YRu2Si2': 1, 'Cs(RuAs)2': 1, '3.74': 2, 'La(OsSi)2': 1, 'Os+1.50-': 9, 'La-Os': 2, 'Eu(NiAs)2': 1, 'Y2BiO2': 1, 'Y-O': 1, 'OY4': 1, 'Na2UF8': 1, 'U-F': 1, 'U2O2Te': 1, 'U-Te': 2, 'Eu(OsP)2': 1, 'Eu-Os': 1, 'K(RhAs)2': 1, 'K-As': 5, 'Dy(FeB)2': 1, 'EuCo2As2': 1, 'CoAs4': 3, 'Co-As': 3, 'LaNi2P2': 1, 'NiP4': 2, 'Ni-P': 2, 'Pr2TeO2': 1, 'Pr-O': 2, 'OPr4': 1, 'Eu(RuP)2': 1, 'RuP4': 4, 'Nd2O2Te': 1, 'Nd-O': 1, 'ONd4': 1, 'EuRu2Si2': 1, 'GdCo2B2': 1, 'CoB4': 7, 'NdRu2Si2': 1, 'Ba(RuP)2': 1, 'Ba-P': 5, 'Ce(CoAs)2': 1, 'CeFe2P2': 1, '2.18': 4, 'LaRu2P2': 1, 'HoRu2Si2': 1, 'LaFe2P2': 1, 'Ba(OsP)2': 1, 'Ba-Os': 1, 'OsBa4P4': 1, 'CsFe2As2': 1, '3.60': 1, 'Fe+2.50+': 2, 'FeAs4': 1, 'SrRu2P2': 1, 'Sr-P': 3, 'BaFe2P2': 1, 'BaRh2As2': 1, 'Er(CoB)2': 1, 'Co+1.50+': 4, 'HoCo2B2': 1, 'Gd2TeO2': 1, 'Gd-Te': 1, 'Gd-O': 2, 'OGd4': 1, 'Dy2TeO2': 1, 'Dy-O': 3, 'ODy4': 2, 'LaCo2B2': 1, 'PrCo2B2': 1, 'U2N2Sb': 1, 'NdCo2P2': 1, 'Dy2BiO2': 1, '2.22': 2, 'Th2N2Te': 1, 'SrNi2Ge2': 1, 'NiGe4': 1, 'ErRu2Si2': 1, 'Bi2O2Se': 1, 'Bi3+': 11, 'Bi-Se': 2, 'Bi-O': 5, 'OBi4': 1, 'Ca(CoAs)2': 1, 'Ca-As': 1, 'SrRh2P2': 1, 'SrCo2Si2': 1, 'CoSi4': 1, 'TbCo2B2': 1, 'SrRu2As2': 1, 'Sr-As': 1, 'TmRu2Si2': 1, 'BaRh2P2': 1, 'BaNi2P2': 1, 'PuRu2Si2': 1, 'La2O2Te': 1, 'La-O': 1, 'OLa4': 1, 'Sr(OsP)2': 1, 'Sr-Os': 1, 'SrFe2P2': 1, 'TbRu2Si2': 1, 'Er2BiO2': 1, 'Er-O': 1, 'OEr4': 1, 'Tb2TeO2': 1, 'Tb-Te': 1, 'Tb-O': 2, 'OTb4': 1, 'EuFe2P2': 1, 'YCo2B2': 1, 'U2N2Te': 1, 'Eu(RhAs)2': 1, 'BaMn2P2': 1, 'MnP4': 1, 'Th2BiN2': 1, 'Th-Bi': 1, 'CeRu2Si2': 1, 'GdRu2Si2': 1, 'Gd-Si': 1, 'SmCo2P2': 1, 'SmRu2Si2': 1, 'SrNi2Sb2': 1, 'Sr-Sb': 1, 'NiSb4': 2, 'CsNO2': 1, '3.09-3.51': 1, 'N3+': 2, '1.27': 1, 'AuClO': 1, 'Au-O': 2, '2.00-2.07': 1, 'Au-Cl': 1, 'Tl6TeO6': 1, 'Tl-O': 2, '2.37-2.93': 1, 'Te6+': 2, 'Te-O': 1, 'RbO3Br': 1, '3.06-3.45': 1, 'Br5+': 2, 'O-Br': 1, '1.67': 1, 'Tl3AsSe3': 1, '(3.58': 1, 'As3+': 2, 'As-Se': 1, 'CsAu3Se2': 1, 'P̅3m1': 5, 'Cs-Se': 2, '3.86': 1, 'Au-Se': 2, 'CsCu3O2': 1, 'CsO6': 1, 'Cu-O': 6, 'Tl3SbS3': 1, 'Tl-S': 4, '3.04-3.59': 1, 'Sb3+': 2, 'Sb-S': 2, 'RbAu3Se2': 1, '3.72': 1, 'Tl2TiF6': 1, 'Tl-F': 1, '2.90-3.15': 1, 'TlCrTe2': 1, 'CrTe6': 1, 'Cr-Te': 1, 'Tl-Te': 1, 'Eu3B2O6': 1, '2.47-2.88': 1, '1.39': 2, 'Sr3B2O6': 1, '2.50-2.91': 1, 'HgBaO2': 1, 'OBa3Hg': 1, 'CaCN2': 1, 'CaN6': 1, 'NCa3C': 1, 'AgFeO2': 1, 'FeO6': 2, 'Fe-O': 3, 'OFe3Ag': 1, 'CoOOH': 1, 'CoO6': 3, 'H-O': 5, 'LuAgO2': 1, 'LuO6': 1, 'Lu-O': 1, 'OLu3Ag': 1, 'AgCrO2': 1, 'OCr3Ag': 1, 'LiHF2': 1, 'SrHgO2': 1, 'OSr3Hg': 1, 'CaHgO2': 1, 'OCa3Hg': 1, 'CuRhO2': 1, 'OCuRh3': 1, 'CdCN2': 1, 'CdN6': 1, 'Cd-N': 1, 'PtCoO2': 1, 'OCo3Pt': 1, 'NaHF2': 1, 'CuFeO2': 1, 'OFe3Cu': 1, 'Sr2NI': 1, 'Caswellsilverite': 1, 'Sr-I': 2, 'NSr6': 1, 'MgCN2': 1, 'MgN6': 1, 'Mg-N': 1, 'NMg3C': 1, 'PdCrO2': 1, 'OCr3Pd': 1, 'Tb(OH)3': 1, '(2.44': 2, '0.97': 4, 'Ba3CrN3': 1, '2.83-3.30': 1, 'Gd(OH)3': 1, 'Dy(OH)3': 1, '(2.40': 2, 'Pr(OH)3': 1, 'TaInS2': 1, 'TaS6': 2, 'Ta-S': 3, 'In-S': 2, 'NbInS2': 1, 'NbS6': 3, 'Nb-S': 4, 'TaInSe2': 1, 'TaSe6': 1, 'Ta-Se': 2, 'UCo3B2': 1, 'Co1+': 20, 'SmPd2Al3': 1, 'GdPd2Al3': 1, 'TbCo3B2': 1, 'Tb1+': 2, 'YCo3B2': 1, 'GdCo3B2': 1, 'CePd2Al3': 1, 'ScCo3B2': 1, 'Sc1+': 4, 'ErCo3B2': 1, 'CePd2Zn3': 1, 'LuCo3B2': 1, 'HoCo3B2': 1, 'DyCo3B2': 1, 'TmCo3B2': 1, 'Hg3S2Cl2': 1, 'Hg3Se2Cl2': 1, 'Zr3Ti2Ga3': 1, 'P63/mcm': 1, '2.77-3.01': 2, 'Ti-Ga': 2, 'MgAu2Ga': 1, 'YPd2Al': 1, 'Ti2GeC': 1, 'H-Phase': 7, 'C': 12, 'Ti-Ge': 1, 'NbPbS2': 1, 'Pb-S': 2, 'CaNi2Si': 1, 'SiCa6Ni6': 1, 'LaPd2In': 1, 'Pd-In': 9, 'KZnAs': 1, 'Zn-As': 1, 'V2GeC': 1, 'Ti2PbC': 1, 'Ti-Pb': 1, '2.15': 1, 'Ti2GaC': 1, 'TaPbS2': 1, 'Hf2PbC': 1, 'Hf-Pb': 1, 'KZnP': 1, 'Zn-P': 1, 'Na2LiAu3': 1, 'ZrNi2Sb': 1, 'Zr-Sb': 2, 'SbZr6Ni6': 1, 'Li2CuP': 1, 'Li-P': 1, 'Cu-P': 3, 'AgCoO2': 1, 'OCo3Ag': 1, 'Ca2NI': 1, 'Ca-I': 1, 'NCa6': 1, 'LiBC': 1, 'Li-C': 1, 'B-C': 1, '1.58': 1, 'SnNbS2': 1, 'Sn-S': 1, 'AgAlO2': 1, 'AlO6': 2, 'Al-O': 4, 'OAl3Ag': 1, 'Hf2SnC': 1, 'Hf-Sn': 1, 'CuAlO2': 1, 'OAl3Cu': 1, 'RhPSe': 1, 'Rh1+': 8, 'Rh-Se': 2, 'P-Se': 1, 'SePRh3': 1, 'EuPtSi': 1, 'RhBiSe': 1, 'Bi1+': 4, 'SeBiRh3': 1, 'EuPdSi': 1, 'Pd-Si': 2, 'RhBiS': 1, 'Rh-S': 1, 'Bi-S': 1, 'SBiRh3': 1, 'SrPdSi': 1, 'SrPtSi': 1, '(3.37': 2, 'Mn(NO3)2': 1, 'Mn-O': 1, 'N5+': 6, '1.26': 3, 'Sn(SeO3)2': 1, 'Se4+': 2, 'Se-O': 2, 'AgSbF6': 1, 'Ia̅3': 3, 'Sb5+': 8, 'Sb-F': 2, 'KBiF6': 1, 'Bi5+': 2, 'Bi-F': 1, 'KSbF6': 1, 'Pb(NO3)2': 1, 'PbO12': 1, 'Tl(BH)6': 1, 'Fm̅3': 4, 'forty-eight': 1, 'BH': 2, 'each': 2, 'cluster': 2, 'Rb(BH)6': 1, 'Cs(BH)6': 1, 'K(BH)6': 1, 'KH12': 1, 'Ni(NO3)2': 1, 'NbTl3S4': 2, 'Nb5+': 4, 'Tl3VS4': 2, 'V5+': 6, 'V-S': 1, 'Na3SbSe4': 1, 'Sb-Se': 1, 'Cu3La3Sb4': 1, '(3.38': 1, 'Cu-Sb': 10, 'Er3Cu3Sb4': 1, 'U3Co3Sb4': 1, 'Ce3Cu3Sb4': 1, 'Gd3Cu3Sb4': 1, 'Zr3Ni3Sb4': 1, 'Bi4Si3O12': 1, '1.63': 2, 'Bi4Ge3O12': 1, '1.76': 2, 'Nd3Cu3Sb4': 1, 'Ce3Pd3Bi4': 1, '(3.45': 2, 'Pd-Bi': 2, 'U3Rh3Sb4': 1, 'Pr3Cu3Sb4': 1, '(3.34': 2, 'La3Cu3Bi4': 1, '(3.52': 3, 'Cu-Bi': 1, 'Tb3Cu3Sb4': 1, 'Sm3Cu3Sb4': 1, 'Dy3Cu3Sb4': 1, 'Cu3Ho3Sb4': 1, 'DyNiBi': 1, 'half-Heusler': 5, 'NiBi4': 2, 'U3Ni3Sb4': 1, 'NbTl3Se4': 2, 'Nb-Se': 1, 'Tl3TaS4': 2, 'Ta5+': 4, 'Na3SbS4': 1, 'VTl3Se4': 2, 'V-Se': 1, 'Tl3TaSe4': 2, 'TmNiBi': 1, 'NiMnSb': 1, 'YPdBi': 1, 'Y1+': 6, 'PdBi4': 1, 'FeNbSb': 1, 'FeSb4': 1, 'TlClO4': 1, 'ReTeS': 1, 'Re4+': 3, 'Re-Te': 1, 'Re-S': 1, 'MoSBr': 1, 'MoS3Br3': 1, 'Mo-S': 1, 'Mo-Br': 1, 'RbAlO2': 1, 'AlO4': 2, 'NaAg3S2': 1, 'NaS6': 1, 'Ag-S': 1, 'CsFeO2': 1, 'FeO4': 1, 'CsAlO2': 1, 'Pd2MnSn': 1, 'Heusler': 65, 'Mn-Pd': 2, 'Pd2MnIn': 1, 'ScPd2In': 1, 'Co2MnAl': 1, 'Mn-Co': 1, 'Rh2MnSn': 1, 'Co2TiAl': 1, 'CeInAu2': 1, 'Ce-Au': 1, 'Mn2VAl': 1, 'Li2CdPb': 1, 'ScPd2Ga': 1, 'Fe2VAl': 1, 'ThAu2In': 1, 'TaCo2Al': 1, 'HoAu2In': 1, 'Co2ZrAl': 1, 'TbAu2In': 1, 'TmPd2In': 1, 'Li2MgIn': 1, 'Li-Mg': 1, 'Mn2VGa': 1, 'Rh2SnCu': 1, 'Rh-Cu': 1, 'ZrCu2Cd': 1, 'Zr-Cu': 2, 'Cu-Cd': 1, 'ScPt2In': 1, 'Co2VGa': 1, 'Au2MnAl': 1, 'ErAu2In': 1, 'ScAg2Al': 1, 'Ag-Al': 2, 'AlCu2Ti': 1, 'Ti-Cu': 2, 'Cu-Al': 3, 'Co2VAl': 1, 'TiFe2Al': 1, 'AlCu2Hf': 1, 'Hf-Cu': 1, 'Pd2HfAl': 1, 'Hf-Pd': 1, 'Co2FeGa': 1, 'Co2AlNb': 1, 'Nb-Co': 1, 'NdInAu2': 1, 'SmAu2In': 1, 'AlNi2Sc': 1, 'MgZn2Ce': 1, 'Mg-Zn': 1, 'Ce-Zn': 1, 'AlCu2Sc': 1, 'Ag2MgZn': 1, 'LiAlAg2': 1, 'LuPd2In': 1, 'DyAu2In': 1, 'AlNi2Zr': 1, 'Co2HfAl': 1, 'Pd2ZrAl': 1, 'YPd2In': 1, 'Au2GdIn': 1, 'ScPd2Al': 1, 'Ag2MgCd': 1, 'Ru2FeSi': 1, 'Ru-Fe': 1, 'Ni2MnAl': 1, 'Rh2MnAl': 1, 'ErPd2In': 1, 'TiCu2In': 1, 'Cu-In': 1, 'DyPd2In': 1, 'Au2PrIn': 1, 'Ni2AlHf': 1, 'ZrCu2Zn': 1, 'Fe2MnAl': 1, 'Mn-Fe': 1, 'Pd2GdIn': 1, 'Ni2AlTi': 1, 'Ti-Ni': 1, 'ScAu2Al': 1, 'Li2CdSn': 1, 'Li-Sn': 1, 'YAu2In': 1, 'NbRu2Al': 1, 'Ce2Ru2Al': 1, 'K2CuAs': 1, '3.40-3.53': 1, 'Cu-As': 2, 'YAlGe': 1, 'Al-Ge': 2, 'CsCuO2': 1, 'Cu3+': 4, 'ScAlGe': 1, 'Na2CuP': 1, 'Na-P': 1, '2.94-3.06': 1, 'RbCuO2': 1, 'K2CuP': 1, '3.34-3.48': 1, 'Na2CuAs': 1, 'Na-As': 1, '2.98-3.11': 1, 'K2AgP': 1, '3.35-3.51': 1, 'Ag-P': 1, 'AlSiY': 1, '2.92-3.03': 1, 'Al-Si': 1, 'K2AgAs': 1, '3.42-3.55': 1, 'Ag-As': 1, 'Ag2SeO4': 1, '2.34-2.70': 1, 'Se6+': 2, '1.66': 1, 'Sm(OsB)2': 1, 'Sm-Os': 1, '(2.08': 1, 'Gd(OsB)2': 1, 'Gd-Os': 1, 'Ca(HF2)2': 1, '(2.34': 1, 'NaNH2': 1, 'Ag2SO4': 1, '2.35-2.72': 1, 'S6+': 2, 'K2ZnO2': 1, 'Ibam': 20, '2.65-2.95': 1, 'ZnO4': 1, 'Zn-O': 1, 'K2MnS2': 1, '3.17-3.34': 1, 'MnS4': 3, 'Rb2MnS2': 1, '3.35-3.77': 1, 'K2GeAs2': 1, '3.42-3.59': 1, 'GeAs4': 1, 'Ge-As': 1, 'Rb2SnAs2': 1, 'Rb-As': 2, '3.57-3.95': 1, 'SnAs4': 2, 'Sn-As': 2, 'K2ZnTe2': 1, '3.56-3.75': 1, 'Rb2SiAs2': 1, '3.52-3.75': 1, 'SiAs4': 2, 'Si-As': 2, 'Rb2MnTe2': 1, '3.71-4.01': 1, 'MnTe4': 2, 'Cs2SiP2': 1, 'Cs-P': 1, '3.51-3.99': 1, 'SiP4': 2, 'Si-P': 2, 'Rb2PtS2': 1, 'K2MnTe2': 1, '3.54-3.93': 1, 'Ba2OBr2': 1, 'Ba-Br': 1, '3.36-3.61': 1, 'OBa4': 2, 'Cs2MnS2': 1, '3.56-3.87': 1, 'Ba2OI2': 1, 'Ba-I': 1, '3.63-3.76': 1, 'Cs2SiAs2': 1, '3.61-4.01': 1, 'K2MnSe2': 1, '3.30-3.80': 1, 'MnSe4': 3, 'Mn-Se': 3, 'K2PtTe2': 1, '(3.66': 1, 'Pt-Te': 2, 'Sr2OI2': 1, '3.41-3.69': 1, 'OSr4': 1, 'Eu2OI2': 1, 'Eu-I': 1, '3.33-3.66': 1, 'OEu4': 1, 'Cs2MnSe2': 1, '3.67-3.97': 1, 'K2SiP2': 1, '3.34-3.51': 1, 'Rb2MnSe2': 1, '3.48-3.86': 1, 'Cs2SnAs2': 1, '3.79-4.06': 1, 'K2PdO2': 1, 'K2PtSe2': 1, 'Pt-Se': 2, 'K2PtS2': 1, 'K2PdS2': 1, 'Pd-S': 1, 'Rb2PdTe2': 1, '(3.68': 1, '(3.76': 1, 'Pd-Te': 1, 'Rb2PtTe2': 1, '(3.65': 1, 'Ca2MgPd2': 1, 'Rb2PdSe2': 1, 'Ca2MgPt2': 1, '(3.09': 1, 'Rb2PtSe2': 1, 'K2PdSe2': 1, 'PbPdO2': 1, 'OPd2Pb2': 1, 'La(OsB)4': 1, 'P42/n': 1, 'B+1.50+': 2, 'BaMoO4': 1, 'Mo6+': 2, 'NaAlH4': 1, 'Zircon-like': 1, 'Li4NH': 1, 'TcAgO4': 1, 'Tc7+': 4, 'Tc-O': 2, 'KTcO4': 1, 'BaAu2O4': 1, 'OBa2Au2': 1, 'AgReO4': 1, 'Re7+': 6, 'BiVO4': 1, 'V-O': 1, '1.73': 1, 'RbReO4': 1, 'KReO4': 1, 'BiAsO4': 1, 'As5+': 2, 'As-O': 1}\n"
     ]
    }
   ],
   "source": [
    "word_count_dict = get_word_count_dict(data_tokenized)\n",
    "\n",
    "print(f'Частота встречаемости каждого токена в корпусе:\\n{word_count_dict}')"
   ]
  },
  {
   "cell_type": "markdown",
   "metadata": {},
   "source": [
    "Получим множество уникальных токенов. Это множество будет нашим `словарём`"
   ]
  },
  {
   "cell_type": "code",
   "execution_count": 10,
   "metadata": {},
   "outputs": [
    {
     "name": "stdout",
     "output_type": "stream",
     "text": [
      "Уникальные токены:\n",
      "{'Nd-Te', 'HfIr12', 'P-I', 'LuPt', 'ErPt12', 'Na2LiAu3', 'Li2Pt', 'OsP6', 'OBa2Au2', 'Tm-B', 'Pnma', 'PrGe', 'cuboctahedra', '2.89', 'Pb2Rh', 'Os2-', 'TcAl12', 'CV6', 'GdAu', 'PrP', 'Eu-Ag', 'Na2CuP', 'PtTb6Pt6', 'ClNa6', 'HoSe6', 'Ga3+', 'ReB2', 'RbHg2', 'GdIr3', 'Nb-S', 'Au2Zr', 'Fe+2.50+', 'Li(RhSi)2', 'LuB12', 'CeN6', '2.78', '(2.85', 'Eu-P', 'SnO6', 'Sm2+', 'TbPd12', 'Dy-B', 'SrGe', 'LaPt', 'AlCa6Al6', 'TmNiBi', 'PLa6', 'Dy-Pt', 'TbPd', '2.55-2.71', 'Er-Sb', 'CrAu12', 'ILi4', 'TeCe6', 'LaSn3', 'HoH2', 'NbB', 'Sr-Ge', 'KAuF4', 'Sn-O', 'Mg-Mg', 'YGe', 'SbTi12', 'MgS', 'Tl3SbS3', 'Ce-Ge', 'Tb-Pt', 'ThSi2', 'ThSe6', 'K-H', '(3.17', '1.88', 'Na-I', 'NbRu2Al', 'LuRh', '(3.26', '2.47-2.69', 'MnGe', 'TeZr6', 'HgY', 'Co-Ga', 'IrDy6Ir6', 'Pa', 'Zintl', '2.02', 'MgHg', 'Li-Al', '2.24', '2.25', 'NbAu12', 'NaTl4', 'NdPt2', 'BeSe4', '2.82', 'LaPd', '2.92', 'Zr-B', 'Th-Ru', 'NbIr8', 'K2AgP', 'Pr-S', 'Au2GdIn', 'LaB6', 'Sm-Os', 'NpCl4', 'EuS6', '2.96-3.13', 'RuTa', 'Y1+', 'BiCe6', 'BLi3B2', '2.67-2.88', 'Cs2SiAs2', '2.94', '1.71', 'ZrSi', 'RhBiSe', 'KI6', 'Ba2OI2', 'TbSe', 'PdZn', 'CU6', '(2.71', '3.13', 'CoSb3', 'PrCo2P2', 'Er-H', 'ScAu12', 'AuGa2', 'NiV3', 'Gd-Ge', 'PtSi6', 'Sr-Pb', 'TeCd4', 'Ca(HF2)2', '1.36', 'SrTe', 'P2_13', 'TbGe1', '2.42-2.61', 'CeTe', 'U3Rh3Sb4', 'AgF2', 'URh12', 'Tb-Pb', 'TaPd2', '43-60°', '1.24', 'BeCo', 'NdP6', 'GdPt12', 'Rb2PtS2', 'YPd3', 'ScB12', 'Fd̅3m', 'La-In', '3.53', 'DyPt3', 'NCr6', '2.96-3.20', 'H', 'Rh-Al', 'Fe-Te', 'SeSr6', 'N2-like', '(3.78', 'Tb-Ir', 'GdGe', 'Sr-Ga', 'PSc6', 'LuZn2', '(1.78', 'Cs-Se', 'SnAs4', 'SmPt12', 'Ac', 'Cr-Te', 'ZnSr', 'DyNiBi', 'Pd-Ge', 'PrTl', 'group', 'DySb6', 'SrO', 'NdB6', 'Tb2+', 'Ca-Pt', '2.23-2.33', '3.12', 'UN1', '2.93-3.07', 'Ce-S', 'MgCd', 'Gd-Cu', 'NTh6', 'NAl4', 'Nd-Se', '2.99-3.17', 'RhIn', 'SrHgO2', 'Ni4+', 'EuSn', 'Ru-P', '8°', 'U-Au', 'CoY6Co6', 'YTl', 'Ta-Sb', 'Th-Os', 'TlInSe2', 'Gd3+', 'ReO3', 'Nb3Sn', '3.39', 'SnTe', 'KInTe2', '3.44', 'YIr2', 'TbZn', 'ErAs6', 'Ag2Tb', 'Pu-Si', 'STm6', 'LaAg2', 'Rh', '(2.83', '64-65°', 'UCo3B2', 'HoS', '3.41', '(3.42', '2.99-3.27', '(1.72', '3.06-3.18', 'CeCl3', 'Co2MnAl', 'Nd-Sn', 'Cr2+', 'Th-Br', 'Sm-Sn', 'La-Au', 'In-F', 'Pr-Pd', '3.62', 'Tb3Cu3Sb4', 'TcTc12', '2.62-2.88', 'NaF6', 'BiLu6', 'Ac-H', 'ODy4', 'Ca-Ca', '3.18-3.27', 'NpAs6', 'ErTe6', 'CrN6', 'Cd-Te', 'UP6', 'Na3SbS4', 'Co2HfAl', 'ScPd12', 'AlTb6Al6', 'Sm-Te', 'Li-Li', 'GdSe6', 'ScTe', 'Ti-Ru', 'V3Ir', 'SC16', 'NpB12', 'Zr-Ag', 'Sm-Tl', 'Y2+', 'Rb-F', 'Lu-Au', 'Ni-As', '2.60-2.67', 'CTi6', 'RbCl', 'Rb-Br', '3.24-3.36', 'Lu-Se', '1.95-1.98', 'Bi3-', 'RbBr', 'Ag2O', 'C2/m', 'Os-Al', 'Pt-Bi', 'MgRh', '2.86-3.01', 'CsCuO2', 'PtS', 'Hg-Se', 'RbBr6', 'ThAu2', 'PaC6', 'Th-As', 'Ti-Au', 'Ti-Pt', 'YS6', '(1.65', '1.58', 'Sm-Ga', 'Mo-S', 'Calcium', '3.26', 'Hg-F', 'V-Os', 'ScPt2In', '(2.47', 'LuAu', 'PbSe', 'PV6', 'Ti3Pt', '2.16-2.22', 'AlLi4', 'PuSi2', '2.95-3.03', '(2.20', 'MoP6', 'RhHo6Rh6', 'ThN6', 'hexagonal', '3.34', '2.92-3.00', 'RbO2', '3.38', 'four', '2.92-3.06', 'SbSb6', 'Tb-Al', 'Ho-Pt', 'iridium', 'Te-Te', 'Eu-Cu', 'YRu2Si2', 'NaInTe2', 'CoSi2', 'RhF6', 'Li-Tl', 'tetrafluoride', '(2.04', 'AuSc', 'Nd-S', 'InAu4', 'MnTe6', 'SmPt3', 'LaRu2P2', 'In-S', 'EuPb', 'DyP', 'Dy-Ag', 'Ca-Ni', 'Zr-Zn', 'TmAs6', 'PtCu', 'Th-H', 'Fe6+', '3.00-3.15', 'NTm6', '2.88-3.10', '3.03', 'square', 'Nd-Cd', '2.87-3.02', 'Ho-Si', 'EuN', 'Ce-Ga', 'V-Co', 'Sc-N', 'CTh6', 'Sc-Si', '(1.76', 'La4Rh3', 'Er3Cu3Sb4', 'Sb', 'V3+', 'Re-O', 'TcAgO4', 'HfFe2', 'RhAs4', 'ErHg', 'SmS6', 'Mo-O', 'Mn3+', '2.61', 'EuPd2', '2.98-3.10', 'Mg2Si', 'OEu6', 'ZrTe', 'Rh-Zn', 'AlH6', 'Sm', 'US6', 'TiN6', 'NiH6', 'MoHf6Mo6', 'Mn2VGa', 'ScAs', 'lengths', 'Tm-Te', 'Ti-Ni', '2.93-3.06', 'Hf-Ir', 'V-Ge', 'Lu-Si', 'carbon', 'Ti-Tc', '2.45', 'Fe-P', 'Co3+', 'V-Se', 'BaRh2As2', '3.07', '(3.35', 'SmSn3', 'EuRh2', 'Ni-F', 'RhY', 'NdP', 'Pr-Cl', 'corner', 'Sr-S', 'Dy-Se', 'LuAgO2', 'Gd-Si', 'Th4+', 'Sr(OsP)2', '1.75', 'TiF6', 'PrSe6', 'Rh-As', 'Pt-Zn', 'RuSi4', 'Nb1+', 'NpCl3', 'AsIn4', 'PaN', 'Ho-Cd', 'GeAs4', 'Ge-F', '3.42-3.55', 'P1Y', 'CoSi4', 'Ti-O', 'Mo-Zn', 'HZr4', 'NpSe6', 'Ru-Se', 'Gd-Os', 'EuAu', 'W6+', 'BrRb6', '1-coordinate', 'Disilicide', 'PtIn2', 'Ir-O', 'BiDy6', 'N3-', 'AsEr6', 'Th2In', 'PdP2', 'PdF3', 'SmSn12', '2.74-3.11', 'Cs-Cl', 'V', 'H1-', 'SmSb6', 'FeAs6', 'MgTe2', 'ScSi', 'BaSe2', '(2.32', 'BaS8', 'Ba-I', 'MgN6', 'PPu6', 'EuS', 'TeHo6', '2.18', 'PtP2', 'LiTl', 'PaCl4', '1.48', 'Ta3Sn', 'Lu-Cu', 'ThAs6', 'EuCo2As2', 'Hf-Cu', 'O', 'PdO', 'NGa4', 'Eu-S', 'NiCa6Ni6', 'Tb-Cu', '2.66', 'CoV12', 'TmZn2', 'Li-Cl', 'IrIr12', 'IrV12', 'CrN', '2.46-2.65', 'Pbcm', 'HoRh2', '3.46-3.62', 'CsI6', 'FEu4', 'HoAs', 'Mn2+', 'Sm-Zn', 'PuSe6', 'Tm', 'TmRu2Si2', 'Zn-Cl', 'NaAg3S2', '3.71-4.01', 'Nb-B', 'Pd-Ga', 'Mg-Pd', 'Pn̅3m', 'Gd-Ag', 'NCa6', 'ThAl12', 'BaO6', '3.01-3.19', 'BaCd', 'Dy-Dy', 'ScPt12', 'Mn2N', 'HgTe4', 'CeRh2', 'P63', 'Pt+2.67+', 'NdPb3', 'Au2Lu', 'Cs(RuAs)2', 'Carbide', 'DyNi', 'PtHf', 'PdHg', 'ScIr3', '(3.62', 'In-As', 'HgS4', 'Li-Au', 'I4/mmm', 'TmS', 'MnP', 'ErCu2', 'La-C', 'Er-Si', 'Cs-Bi', 'ThCo', '1.64', 'CsAu3Se2', 'V-Ga', 'delta', 'CaO6', 'SU6', 'longer', '2.75', 'Sr-Sr', 'geometry', 'IrPr6Ir6', 'Sb5+', 'Cu-Br', 'MgPt', 'S-Cl', '3.48-3.68', '1.30', 'HRb6', 'RuSe6', 'OBa3Hg', 'Au1+', 'Tm-Cd', 'KB6', 'Pd-Sn', 'SbIn4', 'Sr-Se', '2.15', 'BaF2', 'Ru-Ru', 'TiH2', 'K2MnTe2', '2.86-2.98', 'SnPt4', '2.56-2.74', '(1.89', 'UIr12', 'Ho-Ir', '(3.59', 'CaTe', 'Pr2+', 'Tc-O', 'Ge(Li)', 'Hg1+', 'ReCl6', 'SbSm6', '3.01', 'NbGe2', 'Zr3Ni3Sb4', 'Th-B', 'ClSr4', 'Np-Rh', 'CaSn12', 'CePb3', 'AuEr3', 'Lu-Pt', 'LaH2', 'Tm-As', 'NiHo6Ni6', 'SePu6', '(1.94', 'Y-Fe', 'Mg-H', 'O-O', 'Nb-Ge', '1.29', 'TaPd10', 'NpS6', 'Al-Si', 'TeCa6', 'SmBi6', 'q6', 'RuO2', 'Au2S', 'OsSb6', '2.54-2.85', 'Li2Se', 'Sr-F', 'RhO2', 'InP4', 'K2O', 'CaCl2', 'ThRh12', 'Ta2+', 'PN4', 'Mo2+', 'TaC', 'PtNi', 'S-O', 'La-Br', 'TbCo2B2', '3.15', 'Os-Te', 'Pu-Ga', 'ThAs', 'TbRu2Si2', 'Vanadium', 'Ba-Se', 'YN', 'Re-B', 'TaB12', 'AgCl', 'AuTa12', '2.99-3.13', 'OCa6', 'LiF6', '3.41-3.69', 'Hf-Ga', 'Rb2PdTe2', 'Ir-Sb', 'La-Cu', 'LaHg3', 'Pt2W', 'BaRh2P2', 'ThCu12', 'TaSi2', 'GaSb4', 'HgI', 'NiGe', 'Eu-Tl', 'BaFe2P2', 'VTc', 'ThAu', '46-60°', 'LaPt2', 'Hg-I', 'Lu-As', 'PuSi', '(2.79', 'HTa4', 'Ti-Hg', 'CeAs', '3.48', '8-coordinate', 'HfN', 'FePt', 'YSe', 'BaIn2', 'PuSe', 'Ac-Br', 'boron-derived', '2.11', 'SrB6', 'V-H', 'Pt4+', 'omega', 'TmSe', 'PtSc', 'NdSb6', 'Na3SbSe4', 'Rhenium', '2.17-2.30', '3.27', 'L-shaped', '3.05', 'SDy6', 'PrSn3', '3.11', '2.58-2.77', 'Pd2B', 'Pd2MnIn', 'Be-Se', 'RbI6', 'CoAl', 'ErSe', 'Th-Bi', 'PuSi12', 'PtSn', '0.97', 'Tb2TeO2', '(2.46', 'Gd-Zn', 'K-N', 'NdTl', '2.87-3.06', 'Hg2+', 'Ba-Ge', 'HLa4', '3.12-3.40', 'Fe2VAl', 'ErPt3', 'Rb-O', '2.56-2.76', 'atoms', 'Hydrophilite-like', 'Er-Fe', 'CaCuF4', 'Gd2TeO2', 'SbGd6', 'Sr2+', 'Pt2Si', 'GdGa12', 'Tl-Tl', 'Cr-As', 'AlRh', 'Gd-Te', '(3.31', 'Ba-Cd', 'Pd2HfAl', 'TbCu', 'CoNp6Co6', 'Ba-Si', 'Tb-N', 'EuTe', 'YSb6', 'MgO', '(3.45', 'PtCo8Pt4', 'LiF', 'Cmce', 'LuFe2', 'Pyrite-like', '2.26', 'Hf-Fe', 'CuCu12', 'TmGa2', '(1.95', 'RhSi6', 'PdSr6Pd6', 'Cs1+', 'PrCu', 'OCo4', '1.17', 'Au-Cu', 'Sr-Au', 'V3Si', 'Mg-Sn', '(2.42', 'Li2CdPb', '2.76-2.88', 'CeRh3', 'Rh2SnCu', 'RhGa', 'LuAs', 'ScSe', 'PdPbF4', 'PtBa6Pt6', 'STh6', 'Sr-Sn', '2.38-2.70', 'SrCuF4', 'IrGa', 'Sm-H', '2.79-3.30', 'CaO', 'MnAs', 'Ce3Sn', '3.17', 'Pt+0.67-', 'Tb-Tb', 'Ti4+', 'GaN', 'NaSe4', 'Nd-Ni', 'CaZn2', 'Br3+', 'Lu-Bi', '2.60-2.78', 'PtV', 'Tm3+', 'PdSb6', 'NdAg', 'Th-Ge', 'Te6+', 'Np-S', 'Lu-Ni', 'Rh2MnAl', 'Å)', 'ThN', '3.05-3.22', '1.63', 'ScAg2Al', 'Lu-Cd', 'Zn-F', 'SmTl', 'Si-As', 'Upper', 'pyramids', 'Sm-S', 'HoB2', '(3.25', '3.06-3.16', 'Ti', 'Sc-Sc', 'V-F', 'B-I', '(1.96', 'FeY6Fe6', 'Pt3O4', 'Titanium', '2.92-3.13', 'TeZn4', 'BaS', 'HCl', 'Cd2Gd', 'U-F', 'HoSi', 'AlAu4', '2.86-3.36', 'YPd2In', 'Au-S', 'NiGe6', 'Eu-B', 'BaB6', '3.17-3.27', 'Ga-N', 'NSm6', 'DyPd3', 'MnSe4', 'PuPb12', 'Li2CuP', 'PuPt', 'Ta1+', '2.54-2.72', 'NdTe6', '65°', 'Å', 'AsTh6', '3.42-3.59', 'Im̅3m', 'Rb-Hg', 'IRb6', 'Ce-As', '(3.33', '2.67-2.70', 'Pd-Tl', 'Sc-Ni', 'Ce-B', 'GdAu2', '2.23', 'La-Sb', '3.25', 'GdPd', 'H-I', 'Ca-F', 'LiBO2', 'HSc4', 'HgBa', '(2.55', 'I1-', '2.46', 'Bi2Cs', 'HfHf12', 'SiMo12', '2.42-2.69', 'SiCa6Ni6', '2.91-3.12', 'ScF6', 'LaIr2', '(3.61', 'Ge4+', 'NaHF2', '(3.36', 'Sc-Al', 'YSb', 'C-C', 'U3+', 'PTa6', 'CeTe6', '2.80-3.30', 'CaSe', 'Eu-Ge', 'Np-Ni', 'Nb-O', 'B-O', 'Au1-', 'Pt-Hg', 'HoAu2In', 'Ca-Pb', 'TmCo2', '3.84-4.10', 'Zr-Si', 'Pr-Ga', '52-53°', 'GdCl3', '(3.65', '2.85-3.01', 'OsSe6', 'NaF', '1.81', 'Eu3B2O6', 'Nb-Au', '3.00', 'Bi-O', 'RhSm6Rh6', 'HoAs6', 'HfTc', 'La-Os', 'K-Br', 'Bi3+', 'Si-Br', 'Salt', '11-coordinate', 'Fe-Pt', 'Y-Sb', 'TeDy6', 'Tb-H', '2.35-2.55', 'Ni1+', 'NNd6', 'Na-Au', 'InF6', 'K2O2', '(3.48', '2.74', 'Hg-In', 'Tb(OH)3', 'Th-Co', '2.74-3.17', 'Ca-Tl', 'PrAu', 'Ag-In', 'Be-N', 'TbAs', '3.29-3.51', 'MgNd', 'NdAs6', 'CeRu2', '2.60', 'HoRh', 'Pd-Bi', '1.27', 'BaMoO4', 'BaNi2P2', 'K2Se', '2.20', 'KBr6', 'Imma', 'Zn-Zn', 'CeSn3', 'UAs', 'CuCl', '2.69', 'Cd(AuF4)2', 'LaPb3', 'Ge4-', 'Sr-Tl', 'CeFe2P2', 'K(BH)6', '3.64', 'Ta-S', '49-57°', '1.78', '1°', 'Tm-Pt', 'CdO', 'diamond', 'Y-Pt', 'Ti-Ir', 'Rb(BH)6', 'Ta', 'Ta-Ru', 'CuF2', 'N2-', '3.51-3.99', 'Pu-P', 'TcB2', 'GdPd12', 'Rb2PtSe2', 'Ca-S', '3.60', 'MnS4', 'Pb', 'NFe6', 'IrSi6', 'ScCu', 'Ce2C3', 'Cl1-', 'PuGa12', '3.01-3.22', 'NpSe', '2.47-2.88', 'TlTl12', 'AlAs4', 'LiS4', 'Sr-Al', 'HoCo3B2', 'Re-S', 'Ta-Co', 'I4_122', 'Ag2Sc', 'Pu-Pt', 'Mg-Dy', 'PbTe', '3.07-3.31', 'HEr4', 'Ho-Cu', 'AlN', 'K-Bi', 'ScTe6', 'Cr-Si', 'Mg-Er', 'RuSe2', 'Y-Pd', 'BaAu12', '3.54-3.93', '2.49-2.75', 'GdGa2', 'ErZn', 'SrO2', 'Nb3+', 'ThBr4', 'Sr-In', 'K2MnSe2', 'Th2Ga', 'gold', 'LaRh', 'Dy-Hg', '2.71-2.82', '2.93-3.28', '1.33', 'Ir3+', 'Sc-Ir', 'Gd-Gd', '(1.68', 'CePb12', 'Pa-Br', '(2.90', 'CePt2', 'Co2VAl', '2.65-2.95', 'OsBa4P4', 'Si4-', 'Fluorite-like', 'Au-Cl', 'Tl1+', 'RhSb6', '1.50', 'CeB6', 'HfCo', '2.92-3.03', 'Al12Mn', 'Y-Cd', 'ranging', 'FeSb2', 'Pb-Pb', '(3.07', 'AsGd6', 'FeSi', 'Au-Au', 'CoF6', 'Eu-Cd', 'TmCo3B2', 'NbAs', 'FeLu6Fe6', 'Sc-Se', '14-coordinate', 'K-Pt', 'Ti-Cu', 'YSe6', 'Ni-O', 'Hg-Te', 'Ba-N', 'vanadium', 'Lu-N', 'CCe6C', 'Nd-As', 'Eu2OI2', 'LaAg', 'crystallizes', '2.70-2.88', '(2.52', 'SrAg2', 'TmPb3', 'STb6', 'CdAs4', 'FSr4', 'Mg-Ge', 'LaGa2', 'UAu2', 'Pt2Ta', 'ScNi', 'LiAu3', 'Cs(BH)6', 'NaPN2', 'GdBi', 'Os-Sb', 'PaBr4', '2.25-2.47', 'SrHg12', '(2.13', '(2.84', 'Hg-O', 'SbSc6', 'Pd-Cu', 'DyRh2', '3.16-3.28', 'BCl3', 'space', '3.30-3.83', 'As1-', 'V3Pd', '3.00-3.10', 'InAs4', 'HfSi', '(3.19', '2.09-2.58', 'Pr-Zn', '2.95-3.05', 'PDy6', 'Tl6TeO6', '1.45', 'DyGa2', 'Os-As', 'Pr-Sb', '59°', 'Dy(FeB)2', 'GdTl', 'Th-P', 'CsAlO2', 'HgHgI5', 'GdHg12', '2.87-3.00', '(3.79', 'Ni-Si', 'OCr3Pd', 'Fe-Si', 'NaTl', 'Sr-Pt', '3.20', '2.37-2.78', 'ScHg12', 'PtGa', '1.93', 'TlNa4', 'Cd-F', 'OPd2Pb2', 'TiFe2Al', 'PbPb12', 'ZrH', 'La(OsB)4', 'Dy-Ga', '3.72-3.92', '1.83', 'Eu2+', '3.57-3.94', 'DyGa', 'Ce4+', 'Khatyrkite', 'SnTa12', 'Rutile', 'ClLi6', 'trioxide-like', 'Nd-Sb', 'Zr-Ir', '2.81-3.30', 'Th-Si', 'MoSBr', '(2.33', 'UP1', 'TiRh', '3.32', 'HoGa12', 'HgCl', 'cuboctahedral', '(2.17', '2.44-2.97', 'SrF2', 'one', 'PB4', 'CU4C', 'U4+', 'TbS6', 'Cuprite', 'K2PdSe2', 'NiAl', 'Y-Co', 'Ce2Ru2Al', 'RbH', 'Nd-B', 'HoPd3', 'SeY6', 'RuAl2', 'YB12', 'Zr-Co', 'PdPd12', 'AsPa6', 'Sc-Te', 'Li-S', 'Gd-Se', 'Dy-Au', 'SePr6', 'FeN4', 'SmSe', 'Ni-Al', 'U', 'Np-N', 'ErBi6', 'Dy-Cu', 'SmRh2', 'TmHg12', 'Cu3Ti-like', 'TiS', 'Tm-Tm', 'alpha', 'Co-Te', 'NpP6', 'NTh4', 'AgCd', 'Pu-Pb', 'ZrZr12', 'ErH2', 'NdCd', '2.75-3.05', 'Zr-Au', 'LiSe4', 'Pt-Pb', 'Tm-Cu', 'UPt', 'SmCu2', 'Sr-Cl', 'TiAu12', 'PtV12', 'SrRh2P2', 'BePd', 'CdCa', 'BiPr6', 'ZrNi', 'LuIr2', '2.99', 'Th-Cu', 'DyPt12', 'NdInAu2', '(1.63', 'Li2MgIn', '2.74-2.84', 'R3m', 'Au-Ga', '2.03', 'TlSr', 'Th-Th', 'BaTe2', 'EuN6', '55°', 'Cs2MnSe2', 'ErFe2', '2.84-3.29', '3.10-3.34', 'I̅42m', 'U2+', 'CdAs2', 'Li-Sn', '2.05', 'PtPr6Pt6', 'La3Sn', 'TiSb', '(2.99', 'Li-Rh', 'EuEu12', 'Np-Ir', 'La-Rh', 'In3+', 'CeGa', 'USi3', 'BaPb1', '2.46-2.67', 'DyCu', 'AgSbF6', 'HI1', '2.47-2.56', 'Ce-Te', 'Ho-Sb', 'Tb-B', 'Rb2SnAs2', 'HV6', 'La-O', 'PdEu6Pd6', 'MgAu2Ga', 'in', '2.80-2.93', 'Ni-Sb', 'NNp6', 'Nb5+', 'Li', 'ZnSb', 'Nd-C', 'TbAu2In', 'NiNi12', 'Pr3Cu3Sb4', 'Ce-C', '7-coordinate', 'Ho-In', '(2.21', '3.10-3.37', 'Ba-P', 'IrEu6Ir6', 'DyMg', 'NdZn2', '2.49-2.90', 'Pr-Tl', 'Pr-B', 'PrNi', 'NHf6', 'ErCo2', '3.21-3.51', 'PrZn', '2.54-2.87', 'SmPd', 'GaSm', 'TbCo2', 'stable', 'LaN6', 'WO2', 'HoPt', 'Dy-Sb', 'NdGe', 'N3+', 'BiGd6', 'RhTm6Rh6', 'Mo', 'SeSc6', 'PMo6', 'Ir3Hf', '2.80', 'AsCe6', 'RbH6', 'OCo3Pt', 'AlNd12', 'FeRh', 'ThIr', 'Ba-Br', '3.34-3.48', 'CeNi', 'LuS', 'PdCrO2', 'Pr-C', 'gamma', 'Ir3Zr', 'NiSb6', 'octahedra', 'RhP4', 'EuPb12', 'LuRu', 'SrCo2Si2', '2.49-3.01', 'EuPb3', '3.12-3.28', 'SrSr12', 'SrPt2', 'LuPd', 'Ca2+', 'TaInS2', 'Cu-Ga', 'O1-', 'Mg-Sc', 'NbRh8', 'Nb-Os', 'B-P', 'YY12', 'YFe2', '1.87', 'BiCs6Bi6', '1.49', 'AuMg', 'PrPb3', 'FeF6', 'ScNi2', 'Pbcn', 'Re-Al', 'MgB12', 'Ho-Ho', 'bipyramids', 'LiHg3', 'Pt-Pt', 'consists', 'Tm-Au', 'Au2Y', 'ZrRh', 'TiAu4', 'PdSc', 'ErGa12', 'Sm-Sb', 'La-Hg', 'Er-P', 'AlNi2Sc', 'P63mc', 'Pu-S', 'Rh-Hg', '2.77-2.98', 'Ir-Si', 'SrRu2P2', 'GdPd2Al3', 'Ho-Se', '1.74', '2.91-3.06', 'Sn3+', 'Er3+', 'SbV12', 'NdCu2', 'CoOOH', 'ErAu4', 'PtLi12Pt2', 'TaB2', 'PtNa6Pt6', 'Ni-H', 'Nd-H', 'LiBC', 'GeMo12', 'FeP4', 'SrS6', 'SiAs4', 'TeEr6', 'Fe-Sb', 'Ca-O', 'Si', 'Sc1+', 'NpSb', 'AgSc', 'ScSe6', 'NaH', 'Er-Ni', 'TmH2', 'TmIr2', 'Hg', '3.46', 'SLa6', 'Zr3Hg', 'Sn-Te', 'V4+', 'HoGa', 'Nb', 'CrO6', 'SmNi', 'Np-Co', 'Ba-Os', 'NaI6', 'Sm-Ge', 'SmBi', 'K2PtS2', 'LiH', 'Zr-Pt', 'RbO3Br', 'Lu-Sb', 'Ru(P)', 'shorter', 'CeO2', 'Eu-Au', '2.18-2.34', 'Np-O', 'Hf2SnC', 'LiTe4', 'Ca-Te', 'AuBe', 'ZrTe6', 'F-F', 'TbHg3', '2.60-2.63', 'U-O', 'Na2Au', '2.19', '2.68', '(3.03', 'Co-O', 'Ce-O', '43°', 'RhPr6Rh6', '2.96-3.11', 'NiEr6Ni6', 'URu3', 'Ta-Ni', 'MgB2', '(2.09', 'ThSe', 'NpH2', 'Mo-Si', 'EuSe', '2.65-2.91', 'Lu-Pd', 'Nd-Ga', 'HNa6', 'Sc-Co', '2.07-2.13', 'TbCo3B2', 'SeHo6', 'Pu-Ge', '48°', 'Pd-O', 'Ho', 'Zr-Hg', 'NbO', 'Nd-Cl', 'V3Co', 'RhBa6Rh6', 'Zn-N', '(3.34', 'SrRu2As2', 'EuAs6', 'InSb', 'P4/mbm', '2.94-3.24', '3.08-3.16', 'LuH2', '(2.03', '3.29-3.37', 'RhV12', 'DyPb3', 'InTe4', 'Rh-O', 'PuPt3', 'Ho3+', 'TmAu4', 'Ga-Te', 'NiSe2', 'K-Hg', 'RhSi', 'TbN', 'Gd2C3', 'Pu-N', 'CeGe', 'Mg-Tm', 'SPt4', 'Li-Pt', 'Ta3Sb', 'I̅43d', 'Ag3+', 'PdGe6', '3.74', 'AuAu12', 'BO4', 'PtSi', '2.90', 'FeCe6Fe6', 'Gd-As', 'Ba-S', 'In', '2.16', 'Na-As', 'TiBr4', 'Ta-Pd', 'NpSb6', 'GdHg', '3.08', 'PrTe', 'ZnZr', 'IrV', 'GdB6', 'RbReO4', '(2.66', 'LiBi', 'AuClO', 'Gd-S', 'Nb-Sn', 'Pr', 'Ru-Al', 'BiY6', 'In-Se', 'N-O', 'SeGd6', '3.14-3.45', 'Mn-Au', 'Li-Pd', 'HoP6', 'SAu4', 'Rb-Te', 'PrPd', 'OEr4', 'Pm̅3n', 'SmMg', 'Ni-Bi', 'ScGa', 'HfRu', 'RuAs4', 'NbRu', 'Pt', 'AsNb6', '3.12-3.19', 'GeGe4', 'Br1-', '2.63', 'Ag-S', 'KF', 'InNa4', 'SZr', 'SeZn4', 'LuGa2', 'S1+', 'Mo-F', '50-51°', 'SrPdF4', 'MoB', 'SmPt2', 'ScCu2', 'PtSm6Pt6', 'Mg-Lu', 'NbS6', 'OsSi', 'Lu3+', 'TmNi2', '18°', 'LuSe6', 'F', 'XeF4', 'Ho-Ni', 'Se4+', 'The', '2.33-2.55', 'Ba2+', '(1.98', 'Zn-Sb', 'NbSb4', 'SeSm6', 'Ca-P', '1.76', '2.96', '2.54-2.73', 'OAl3Cu', 'Th2Au', 'AuNa6Au6', 'CrB', 'Tb(FeB)2', 'Eu-F', 'Ga-Ga', 'ScCd', 'SmGe', 'Np3+', 'W-B', 'Y-N', 'Pr-Ni', 'SNp6', 'Tl2TiF6', 'W-W', '(3.15', 'Pt-P', 'Nb-Ir', 'InLi4', 'Sr-N', '2.52-2.85', 'Zn2+', 'PaC', 'Ce-Bi', '(3.76', 'STi6', 'SEr6', 'Co-Si', 'SBr', 'Ho-Ag', '2.23-2.32', 'Fe2B', 'PrB6', 'B-H', 'Tm-In', 'PdBi4', 'ClK6', 'Cu1+', 'Ru3+', 'CeRu2Si2', 'WC1', 'RbAuF4', 'a', 'Cr-B', 'Ba(BeN)2', 'Co2+', 'SeLa6', '1.96', 'Tm-N', 'GdAs6', 'Xe-F', 'Nb3Pt', 'Zr4+', '2.82-3.00', 'YRh2', 'Rock', '3.71', 'Ag2MgZn', 'Cs2O2', 'IrHo6Ir6', 'ThZn12', 'TbS', 'RuSb6', 'Pr3+', 'U-S', 'Mg-Ag', 'PbO2', 'Au3+', 'SrCl2', 'RbNH2', 'Mg-Cd', 'SSm6', 'Hf', 'LaBi', 'T-shaped', 'NiH', 'Eu3+', 'MgSn4', '(1.64', 'InNb12', 'CeO', 'USe', 'CeIr2', 'UN6', 'Ca-Hg', '2.98', 'AuTi12', 'Tm-Pb', 'BiTb', 'EuTl2', 'Ta-Si', '3.48-3.99', 'Sm-Si', 'Dy-Rh', 'ThGe6', 'MgEr', '3.03-3.14', 'SmAu2In', 'Re7+', 'HoAu2', 'K-Te', 'AgCrO2', 'Ag-F', 'TeSr6', 'Ba-Cl', 'Ho-O', 'DyZn2', 'Tm-Se', '3.72', '2.69-2.91', 'Ti-Ge', 'HgS', 'LaAu2', 'TaH2', 'MnAu12', 'CoLu6Co6', 'H-Phase', 'DyPd12', 'Mn-Ga', 'CuBr4', 'Ca-Pd', 'Pt-Al', 'LiI', '(3.67', 'orthorhombic', 'RbSe4', 'HgBr', '3.04-3.27', 'P63/mmc', 'TaSb4', 'Tl3TaS4', 'MgY', '1.22', 'AuZr12', '1.25', 'HfC', 'Eu-O', '16°', 'Tm-Sb', 'RhHg2', 'SmPd3', 'EuO6', 'Ce-Ce', 'PuGa3', 'As', 'MoF6', 'NiSb', 'FeP', 'Pu4+', 'Fe-N', '1.91-2.28', 'Ag2SO4', 'TbP', 'La-As', '2.89-3.18', 'NO2', '(2.10', 'SnP3', '2.50-2.65', 'HoSe', '1.70', 'AlAl12', 'Cr-Ga', '3.02-3.15', 'RhCe6Rh6', 'Se', 'VH2', 'Tm-Tl', 'V3Ge', 'Fe-Se', '2.50-2.91', 'Lu-Ru', 'La-Al', 'Pu-Pd', '2.72-2.85', 'TmPd3', 'CdSb4', 'La-Pt', '2.83-3.12', 'SrO6', '(3.40', 'CuBr', 'Ca-Al', '3.06-3.45', 'Sm-As', 'OPa4', 'NiTb6Ni6', '2.48', 'TmPd2In', 'Eu-Hg', 'VP1', 'CsCu3O2', '(2.74', 'ThTh12', 'V-S', 'Ti-Fe', 'Ca-B', 'C-N', 'ErGa', 'Sm3Cu3Sb4', 'DyP6', '2.42-2.55', 'Ac3+', 'DyAs6', 'TePu6', '3.19', 'CrSb6', 'CoTb6Co6', '(2.45', 'Im̅3', 'Ba-Pb', 'I41/a', 'La2O2Te', 'FBa4', 'MgGe4', 'I4/mcm', 'BiEr6', 'NiTm6Ni6', 'Mg-Pr', 'Magnesium', 'RhNd6Rh6', 'Rh-P', 'Tm-Cl', '(1.77', '1.84', 'Ir4+', 'Mg-Zn', 'Sm-Pt', 'Pt-Te', 'ErCd', 'Mo-Ga', '1.95', 'NbN', 'K-O', 'AlMo12', 'Pd2Sr', 'Y-In', 'Tc2Al', 'SCe6', '2.70-2.84', 'LuPd12', 'Rh-Se', 'Sm-C', 'C4+', '(3.21', 'Modderite', 'Pu-Co', 'Ca-Zn', 'AgBr6', 'PrAs6', 'Sr-Hg', '2.90-3.15', 'K2PtTe2', 'Ti2PbC', 'SnLa12', 'Li-H', 'H2S', 'BiNa8', 'ErRh', 'V2H', 'In-In', 'Ca-As', 'ErSi', 'InSb4', 'SrAu2', 'Nd2C3', 'Ru4+', 'NdSb', 'LaSn12', 'Sn-P', 'As1+', 'Dy-S', 'Te', 'IrGe', 'CMo6', 'LiH6', 'TmB12', 'ErGe', 'MgSc', 'Gd-P', 'EuP6', 'GdCd', '3.30-3.80', 'Ni3Si', 'Sr-Rh', 'RuV', 'TmAg2', 'MgMg12', 'SHo6', 'OsAs2', 'Nd-Ir', 'TmSb', 'SPr6', 'Sc-Pd', 'Th-Pb', 'CrAs6', 'NZr6', 'EuPd', 'IrNb8', '3.09-3.18', 'tetrahedral', 'FeTe6', 'Hf-C', 'Er(CoB)2', 'DyAs', '2.58-2.85', 'GaN4', '2.49-2.65', '3.13-3.21', 'Y-Se', 'NaBi8', '2.01', 'ScGa12', 'GdCo2B2', 'Cr-Au', 'LaP', 'Ho-Zn', 'TeBe4', 'Ba-Pd', 'LaS6', 'In1+', 'Cd-Cd', 'Cmc21', '2.49-2.76', 'CaN6', 'AgZr', 'HoTl', 'Cs-S', 'FeS2', 'Cd-O', 'Nd2+', 'SbPr6', 'SmPd2Al3', 'Re-Te', 'TmPb12', '3.52-3.75', 'Au+0.50-', '(3.69', 'AgAlO2', 'ThZn2', 'Rh2MnSn', 'SmSi', 'TlBr', 'LaTe', 'GdP', 'Tb-Ag', 'Dy-Fe', 'H-Cl', 'CoCe6Co6', '3.46-3.68', '2.34', '2.91-3.16', 'RhCa6Rh6', '2.73', 'TmZn', 'PrPt2', 'AlCu2Sc', '45-57°', '(1.67', 'SrCd', 'ErNi', 'NaI', 'P63/mcm', 'Sb1+', 'bent', 'Hf2+', 'CeFe2', 'ThPb3', 'PuS6', '(3.60', 'Eu-Te', 'HoS6', 'Ce-Pd', 'CsTe', 'P̅6m2', 'Dy(OH)3', 'GdCd12', '3.86', 'OsOs12', '56°', 'Na-Pb', 'Ta5+', 'HgPd8', 'V-Fe', 'Cr-Sb', 'Ta-As', 'Na-Br', 'CoP', '2.80-2.90', 'LaBr3', 'EuO', 'Sc-Cd', '3.59-3.86', 'Pd4+', '1.82', 'EuCd2', 'Ca(BeN)2', 'Ag2Nd', 'TmHg', 'Li2CN2', 'Au-Se', 'NbAu2', 'CeS', 'Tb', '2.81', 'Y-Ni', 'SY1', 'Ti-N', 'Ho-Co', 'CePd2Al3', 'Tm-Ir', '2.91', 'FeTe2', 'Ag2SeO4', 'Dy2BiO2', 'Li-Bi', 'B3+', '3.90-4.01', 'TbTl', 'SNd6', 'IrF6', '2.29', 'La-P', 'Ibam', 'CoDy6Co6', '3.05-3.17', 'DyNi2', 'AcCl3', 'LaPd12', 'BaRh2', '2.58-2.91', '(2.72', 'SnTe6', 'HoCu2', 'CeO6', 'Tb-As', '3-coordinate', 'Xe', 'NiDy6Ni6', 'Th2C3', 'NaTe4', 'CuAlO2', '3.57-3.86', 'OsAl2', 'AuSm', 'O2', 'Na2UF8', 'Nb-Se', 'ZnSb4', 'SbEr6', 'CdMg8', 'P2-', 'Cs', 'Mn2VAl', 'P', '46°', 'SbLu6', 'CoSe6', '(3.27', 'P1+', 'EuIr2', '2.95-3.13', '1.66', 'SmCo2P2', 'AlMo3', '1.14', 'BeSe', 'HoCo2', 'Na-Ag', 'RbTe', 'SiNi12', 'Mo-P', 'Ce3Cu3Sb4', 'MnSb', 'GeTh6', 'CaCa12', 'AgF6', 'ScGe', 'Cs-I', 'As-Se', '(2.68', 'EuHg12', 'SmP6', 'CeHg2', 'EuZn2', 'NiBi4', 'Sn-As', 'IrLa6Ir6', 'YBi', 'ScF3', 'TmBi6', 'Tc3-', 'ErSe6', 'IrTh6Ir6', 'UCo', '2.56-2.90', 'Ir-F', 'SrNi2Ge2', 'SEu6', 'Er-Cu', 'R̅3m', 'CaIr2', 'AgZn', 'Sb-Se', 'PuTe', '2.77-2.95', 'Lu-B', 'GdIr12', 'Cs-Cs', 'O-Cl', 'PrSi', 'DyTl', 'Gd-Hg', 'NdN6', 'SrRh2', 'HoGa2', 'TmTe6', 'TbRh2', 'NiZn', 'N-H', 'half-Heusler', 'YGa2', 'Th-Rh', 'Tb-O', 'Np-H', 'ErB2', 'Eu(RuP)2', 'ThC', '2.52', 'P1-', 'FeN', 'TaSe6', 'Co2TiAl', 'AcH2', 'YH2', 'SiEu', 'NdGa12', 'FeAs2', 'ZrC', 'S1-', 'Y-S', 'CaN2', 'Mn-Te', '2.96-3.09', 'Pr2C3', 'Be-Au', 'SmB6', '2.66-3.15', 'OTh4', 'FCs6', 'BaS6', 'Er-Ga', 'Sm3+', 'Ta-Tc', 'ONd4', 'Au2Dy', 'Si4+', 'KBi2', 'ThPd', 'TiB12', 'DyH2', 'Tl-F', 'YAlGe', 'RbAlO2', '3.67-3.97', 'TmCu', 'TlClO4', 'CeP', 'Ta-H', 'LuCo2', 'PtSb6', 'LiAg', 'Sb-Sb', 'Er-Pt', 'RhZn', '2.60-2.83', 'OPu4', 'Rb', '3.31', 'carbide-like', '2.70-2.92', 'Er-Bi', '2.09', 'KTcO4', '3.57-3.95', 'O-Br', 'Tl-S', 'LaN', 'Tb-S', 'Tb-Si', 'Sc-Ga', 'Mn-Pd', 'SrN2', '1.72', 'CoTm6Co6', 'I41/amd', 'alpha-derived', 'Mg-Si', 'Pyrite', 'Mn-As', 'Ag2Lu', 'MnP6', 'Ge', 'FeB', 'SrPdSi', 'Si2-', 'CaPd2', 'SrCd2', '3.00-3.18', '3.16-3.29', 'ThSb6', 'LaAs', 'YAu2In', 'B-Br', 'Sr-As', '3.08-3.26', 'Mn-P', 'IrSr6Ir6', 'TmRh2', 'TmAu2', 'HDy4', 'SeBa6', 'TeEu6', 'TbHg12', 'AsTa6', '(3.68', 'Ho-H', 'Y-Ga', 'LuS6', 'Mo6+', 'Eu', 'NdAs', 'mixture', 'Ni', '(2.73', 'Mg-Cu', 'FLi6', 'CaNi2', '2.08', '(3.01', '3.11-3.28', 'LiI4', 'Gd-C', 'BiLu', 'TbSb6', 'US', 'HfH2', 'Bi', 'GdCu2', 'UIr3', '3.09', 'PtZn', 'B-B', 'Np-Cl', 'NDy6', 'Ti-Sb', 'Dy-O', 'LaIn', 'Cr4+', 'Molybdenum', 'NiMn', 'Hf-Sn', 'Sr-Ag', 'RhSn', 'Sb2-', 'NiBe', 'NdS6', 'CsFeO2', 'CuGa2', 'K2ZnTe2', 'NiY', 'CeHg3', 'Ti2GeC', 'NpGe3', 'FeTi', 'Ni-Zn', 'Dy-Ge', 'PrAg', 'NU6', 'LiHF2', 'Nb-N', 'CaAu', 'LuIr', 'PuAs6', 'ThH2', 'CsAu', 'Ca', '(2.54', 'W-O', 'B', 'from', '2.90-3.05', 'Pa-Cl', 'NiLu6Ni6', 'La-Sn', '2.92-3.14', 'Sr', 'CrAs', 'Tc7+', 'ZnO4', 'OsO6', '3.22-3.39', 'Dy-Cd', '(2.64', 'Rh-In', 'Nb2+', 'Pbam', 'CoF2', 'LuSb', 'Ca-Si', 'U3Ni3Sb4', 'Eu-Se', 'Pb3Sr', 'RuAl', 'NNb6', '(1.71', 'Mn(NO3)2', 'Gd-H', '(1.69', 'Tm-Co', 'NpCo2', 'AlP4', 'Pu-Cl', 'Np4+', 'SSc6', 'Pt-Ni', 'Tb-Co', 'Ga2+', '(2.95', '(4.30', 'GaP4', 'P-P', 'SmH2', 'Sn-S', 'Cs-H', 'HHo4', 'RhEr6Rh6', '2.63-2.93', 'AlPt4', 'BaSe', 'IrY', 'PuPd3', 'CPa6', '3.42-3.49', 'ErP', 'IrP4Ir6', 'OSr6', 'Nb-Ru', '(2.36', 'Er-Hg', 'Ce(CoAs)2', 'I̅42d', 'Cs-As', 'BaPdF4', 'nitride-like', 'CeSn12', 'Zn', '27°', '5.58', 'PuN', 'PtEu6Pt6', 'HgBaO2', 'Sc-Zn', 'Li-Ge', 'Nb3Sb', 'AlRe2', 'TiF3', 'Tm-Zn', 'CaB6', 'TbSb', 'BaAu2O4', '3.15-3.42', '19-25°', '1.98-2.46', 'Rh-Sn', 'Pb-Se', 'TaP', 'Np6+', 'PuCo2', 'NdPd', '(2.02', 'GeV12', 'Cd-Sb', 'two', 'Gd-Bi', 'LuCo3B2', 'Ta-Se', 'OGd4', 'Au4Cr', 'PrIr2', 'Cu2+', '2.39', 'YAl', 'LaAl2', 'PEr6', 'cadmium', 'N2', 'Er-Ge', 'FeAs4', 'CdY', 'PtFe8Pt4', 'Fe-O', 'Ho-Au', 'TmPd12', 'AsU6', 'Co2ZrAl', 'Pa-As', 'P6_322', 'ZrGa', 'PuRh3', 'LiAu12', 'BaTe6', 'KBrF4', 'AgBr', 'Ru-Sb', 'Y-Y', 'S-S', 'CuZn', 'ZrB2', 'AlN4', 'Silicon', 'MgF2', 'W4+', 'form', 'SmNi2', 'Rb-I', 'Hf-Pb', 'Ir-Ga', 'SbTm6', 'U-P', 'SbNd6', 'S2-', 'Co-P', 'SmSb', 'CoSi', 'FeSb6', 'Ce-Co', 'CdCN2', 'PuN6', '1.37', 'ClBa4', 'YAs6', 'U6+', 'Ce-Zn', 'Zircon-like', 'CoP6', 'Nd-Rh', 'Co-Co', 'PtY6Pt6', 'IrSb3', 'TePb6', 'Au-Al', 'PLu', 'GaMo12', 'RuRu12', 'ErP6', 'ThNi12', 'PaAs', '1.34', 'V-V', 'Zr1+', 'FeNbSb', 'TbHg', 'Tc4+', '(2.18', 'BP4', 'HfW2', 'DyHg2', '2.60-2.73', 'CePd3', 'OsO2', '2.31', 'W-Pt', '3.12-3.32', 'Os-O', '(1.90', 'AlH3', 'CrTe6', '(3.30', 'K-Se', 'ScP', 'distances', 'DyTe', '2.78-2.94', 'Pd-P', 'BaAg', 'GdHg3', 'Pt-O', 'Sc-S', '(1.75', 'Hf-Ge', 'EuGa12', 'FeV12', 'Phase-like', 'NdSn12', 'Ce-Br', 'Sc-Ru', 'CaGa', 'PtO2', 'Ag-P', 'GdAg2', 'Eu(OsP)2', 'AuSb6', 'Cr3+', 'Tb-Pd', 'CsI', '2.62', 'CaCl6', 'DyFe2', 'Si-O', 'Hf-Ni', 'Mg-Pb', 'ScSb6', 'Mg-Nd', 'tetrahedra', 'Hf-Mo', 'Nd3+', 'BiHo6', 'OEu4', 'CaTl', 'Ti2GaC', 'NaPb12', 'ThB6', '(2.67', 'SeTh6', '1.55', 'carbide', 'K1+', 'Eu-Pt', 'MoS3Br3', 'CaBr6', 'Ca(CoAs)2', 'PbCe12', '1.02', 'PrS', 'GaV12', '(1.66', 'TmCl6', 'three', 'PrS6', 'CaPt2', 'Ru2FeSi', 'Pd-In', 'PtCoO2', 'RhBiS', '2.37', 'U2N2Sb', 'Dy-Pd', 'AlCu2Hf', 'Fluorite', 'Fe-As', 'Cu3+', 'Pb-F', 'ZnLi4', '3.82', 'Cs-Hg', 'USi2', 'HoSb', '45°', 'GdGd12', 'NaAlTe2', 'TiRe', 'Zr-Sn', 'monoxide-like', 'HgTi3', 'BiTm6', '3.06-3.23', 'ThP6', 'NpP', 'IrSn2', '(1.97', 'PdSn', 'FCd4', 'SrGa2', 'PtSr6Pt6', 'TeNd6', 'HgO6', 'CaCN2', 'Mo3Ge', 'Gd-Sb', '(2.89', '2.92-3.09', 'Mo-Mo', 'OCd6', 'ThRu2Si2', '25°', 'ScRh3', 'SrBi3', 'Ni-B', 'Tb-Bi', 'PbO12', '2.34-2.70', 'CsF6', 'Mg-Se', 'LuN6', 'AlO4', 'GaSb', '3.14-3.79', '(3.43', '(2.56', 'RbAu3Se2', 'AlSb', 'Cs(RhAs)2', 'Ga', '3.25-3.46', 'PdHg8', 'CeRh', 'Be', 'Au2Ti', 'Np', 'PdCa6Pd6', 'SmN6', 'ErGa2', 'TeTm6', 'Rb-As', 'Tb1+', 'BrK6', 'Disilicide-like', 'Ni2AlTi', 'Gd-Ir', '1.79', 'Zr3Ti2Ga3', '1.51', 'HoHg', 'NdSn3', 'Li-Si', 'SmCd', 'ScPd2Al', 'PuPb3', 'CaFe2P2', 'R̅3', 'La3+', 'Pt-In', 'CaSi', 'Al-Te', 'MoZr6Mo6', 'Nd-Cu', 'LiZn4', 'Au-Zn', 'VAu12', 'BiSm6', 'ScCo1', 'VTl3Se4', 'Cr-P', '(2.94', 'CeP6', 'Mo-Al', 'HNi6', 'ZrNi2Sb', 'NdH2', 'ZrN', 'SbY6', 'Pt-As', 'BI3', 'As5+', 'PdAl', '(1.93', 'EuSn3', 'Sm4Sn3', 'Pr-P', 'Ba', '2.94-3.50', '2.70', '2.51', 'SbTh6', 'PrGe6', '2.40', 'S4+', 'NdN', 'Ni2AlHf', 'W-C', 'Sb-F', 'MgH6', 'ThCu2', 'YBi6', 'Pr-Pt', 'Rh-F', 'Mn-O', '150', '3.03-3.23', 'NdTe', '3.18', 'V-O', '2.90-3.32', 'ErAg', 'LuPt12', 'Th-In', 'CsCl', 'Rb-Au', 'TmPt3', 'V3Ga', '3.63', 'Cu-Bi', '2.44', 'CaF2', 'LaGa12', 'EuIn2', 'AsAl4', 'Th2Zn', 'Pr2TeO2', 'NiSe6', 'Au2Sc', 'ZnCN2', 'Nb-Rh', 'FeO4', 'Th-Ga', 'Rb-Bi', 'Cr-N', 'CoB', 'PtPb4', '3.20-3.38', 'CO2', 'ErPd3', 'PuPd12', 'HgSe6', 'LiHg12', 'Tm-Bi', 'Np-Pt', 'SiV12', 'IrCe6Ir6', '4.05', 'Mn-Fe', '3.17-3.25', '3.47', 'DyCo3B2', 'CeCo2', 'Ce-P', '2.54-2.86', 'Sc', 'NdSe6', 'seven', 'CsCs12', 'PtCe6Pt6', 'NdCu', 'HNd4', 'MoSi2', 'Pd-Zn', 'PrP6', 'YPt2', 'Nd3Al', 'Pr-Cu', 'DyS', 'H-O', 'HoRu2Si2', '(3.50', 'Pr4+', '2.46-2.56', 'FeAl', '(3.09', 'ThOs2', 'Al', 'Rh2P', 'eight', 'Ru-B', 'GdP6', '(2.70', 'Si-P', 'NpRh12', 'Rb2Te', 'ZrW2', 'NaBr6', '1.26', 'PtAs2', 'Chalcopyrite', 'OBi4', 'Hg-Cl', 'zero-dimensional', 'Cl-Cl', 'TmHg3', 'Mn-Pt', 'Sc-Pt', 'Ce-Pb', '2.38-2.67', 'AgIn2', '3.19-3.31', '1.98', 'Th2Ge', 'BaBi12', 'Pt-Cu', 'Ce-Cu', 'AsY6', 'NiO6', '1.44', 'PU6', 'Ti2Zn', 'ZrN6', 'Mg-Tl', 'Al-Al', 'YCo2B2', 'OCuRh3', 'DySb', 'HfRh12', '1.03', 'PtSb2', 'PrCu2', 'Sb+0.50+', 'K2ZnO2', 'ScN', '2.43', 'RhSb', 'V3Au', 'Al-F', 'ScSb', '(3.10', 'H-H', 'Tb-Hg', 'K-B', 'Dy-Ir', 'OCe4', 'Y-Si', '5-coordinate', 'Tb-Cd', 'AsV12', 'GaAu4', 'Co1+', 'Li1+', 'AuZr3', 'Pd-F', 'HoPb3', 'Dy-As', 'Th3+', '3.07-3.12', 'Au-Sn', 'V-Rh', '3.88-4.19', '2.32', 'ScH2', 'length', '(2.91', '(3.29', 'La-H', 'Nb-As', 'ScGa2', 'MAX', 'H2', 'NiSb4', 'LuN', '49°', 'Ti-Br', 'ErTl', 'UB2', 'Os-Si', 'ErIr', 'OLu3Ag', '2.21', 'AsSc6', 'Ac-Cl', 'Zr-Ga', 'NpO2', 'V-Pt', 'Dy', 'Hg-S', 'Ce2TeO2', 'IK1', 'LaHg12', 'Indium-like', 'SBa6', 'OsB2', '3.10', 'CaS6', 'Hf-N', 'MnP4', 'N-N', 'Ta-C', '1.90', 'MgCd8', 'TbCd', 'TiSb2', 'TbB2', 'Ru-Si', 'TiB', '(3.06', 'La-Se', 'PtCd', 'Gd-Pb', 'BiSc6', 'Nb3Ir', 'Ti-Ga', 'Au-Tl', 'Ni+1.33+', 'Ni-Ni', 'Fe3+', 'PuGe12', 'Gd3Cu3Sb4', 'Er2BiO2', 'ThGe', 'UC2', 'RhNb8', '3.57', 'Pr-Te', 'Sc-Ag', 'Ti-Ti', '3.03-3.22', 'RhPu6Rh6', 'NCe6', '5GPa', 'NaCl6', 'Hf2PbC', 'HoAu12', 'NdPb12', 'SPu6', 'V3Al', '3.04', 'CaSn', '3.70-3.99', '(3.56', 'SbGa4', 'Dy-Bi', 'Ba-Au', 'Tb-Zn', 'DyN', 'SeTm6', 'Fddd', 'ScRh', 'TePr6', 'Ho-Bi', '3.30-3.41', 'NMn6', 'Na-P', 'NaS4', '2.25-2.39', 'Na2Te', 'face-sharing', 'SeNp6', 'Fdd2', 'PrRh2', 'CeHg12', 'P3-', 'PNp6', 'SbZr6Ni6', 'Au2Er', 'GdRh2', 'Ni-P', '(1.91', 'Tm-Ni', '2.53-2.86', 'ReO6', 'SnO2', 'Dy-Co', 'HoGe', 'Ti-Si', '3.98', '(2.50', 'PSm', 'Cr3Si', '2.71-2.80', 'I4/m', 'Marcasite', 'C1-', 'AlV12', '2.95-3.20', 'Ni(NO3)2', 'Hf-Rh', 'SmSe6', 'Ce-N', 'Sr-I', 'MgSe4', 'spread', '2.48-2.60', 'OsSe2', 'FeSe2', 'Ta2Si', 'HTh4', 'Pu-O', 'Gd2+', 'S-Br', 'NSc6', 'Li-B', 'EuPtSi', 'Pd2MnSn', 'SbCe6', 'Th-Se', 'Halite', '3.29', 'BeC4', 'AuLa', 'SnP6', 'Er-Tl', 'Np-B', 'PdO2', 'Ga2Te5', 'GdAg', 'Zn-P', 'Ba-Te', 'MnF2', 'Mn-S', 'GdPd3', 'Wurtzite', 'SBiRh3', 'BaGe', 'V3Rh', 'DyB12', 'OsSb2', '63°', 'ZrRh12', 'MnGa4', 'GdZn2', 'MnTe2', 'FeCo', 'CeNi2', '1.77', 'AlO6', 'Au4Mn', 'InSe4', 'U-U', 'CoP4', 'KBr', 'F2', 'BeTe', 'Ge-Ge', 'WP', 'Ru2+', 'Eu-Rh', 'Ce-Au', 'Ba-Ga', 'TbAl2', 'Pt3Sc', 'As3+', 'Ho-S', 'C2/c', 'Be-Be', 'LaC2', 'Be-Te', 'NFe4', 'bond', 'ErPd2In', 'NaAu2', 'TbIr2', 'EuSe6', 'WO6', 'V3As', 'LiAlAg2', 'BBr3', 'IrNp6Ir6', '3.29-3.38', '3.04-3.09', '1.94', 'Nd-Nd', 'FeV3', 'InIn12', 'Th-Au', 'U-Cl', 'FNa6', 'Na-S', 'SCs', 'Nd-Si', 'Pd2+', 'UO6', 'GdBi6', 'Ge-O', 'NbRh', 'Na-Te', 'SeEr6', '2.63-2.85', 'KSbF6', 'Hf-Pd', 'EuFe2P2', 'LaS', 'Cd', '(1.79', 'single-bond', 'Ga-F', '2.41-2.56', 'CaZn', 'HoSb6', 'TcSi', 'DyPd2In', 'Mn-Ge', 'Sc-F', 'Lu-Fe', 'Tungsten', 'Pu-Rh', 'S', 'ThHg3', 'RhO6', 'Caswellsilverite', 'I41md', 'HgCe', 'NaH6', 'NpRu2Si2', '3.07-3.15', 'oxygen', 'Pr-Ir', 'Re4+', 'NpN', 'WZr6W6', 'Ba2OBr2', 'Cu-O', 'PuO2', 'OHo4', '3.09-3.25', 'Cs2SiP2', 'Zr', '(2.11', 'YAs', 'Os-Os', 'La2+', '2.48-2.70', 'WC6', 'ThNi2', 'GaNd', 'ErCu', 'GdSb', 'Ho-Pb', 'cubic', 'SbLa6', 'AuTm3', '(2.97', 'Ba-As', 'OSr3Hg', 'ErRu2Si2', 'Th-N', 'DyIn', 'AlSb4', 'SiO2', 'P4/nmm', 'ErCd12', '3.25-3.32', 'TbAg', 'LaBi6', '2.36', 'Y-Hg', 'Co2FeGa', 'distorted', 'BiVO4', 'ScSc12', 'IrCa6Ir6', 'Pd2ZrAl', 'LiAl4', 'HK6', 'Pa3+', 'Ag-Zn', 'RhGd6Rh6', 'RhF3', 'P4/mcc', 'Ru-As', 'TmAu', 'RbCuO2', 'Lu-S', 'Boride-like', 'La', 'Rh-B', 'Rb-Cl', 'Mo2C', 'Er', 'LaRh2', 'K-As', '(2.59', 'RhY6Rh6', 'Pd3+', 'Ta-B', '2.88-3.01', 'TbPb12', 'Zr-W', '2.33', 'AuDy', '(3.58', 'PuGa2', 'Mg-Pt', 'Pd4Se', '2.05-2.94', 'ThS6', 'CrF6', 'Cr-O', 'quartz', 'Cu-Sb', 'Eu-Bi', 'Mg-Au', 'DyDy12', 'TiCu2In', 'Te1-', 'Cl', 'PHo6', 'OCa3Hg', 'Phase', 'CoCo12', 'Fe2+', 'Cyanogen', 'CsHF2', 'PdTl2', 'URu12', 'Ir-Ge', 'Mg2Pt', 'Ce3+', 'K-S', 'Na2S', 'PtTi12', 'NiSi6', 'Th-Sb', 'Ho-As', 'K2CuP', 'TbPt3', 'Tb-Fe', 'BaCd2', 'BrCu4', 'Pt-Si', 'BaSi', 'OTb4', 'CoHo6Co6', '53°', 'monoclinic', '3.09-3.23', 'EuRu2Si2', 'Eu-Eu', 'Gd-Pd', 'OsP2', 'HGd4', 'Fm̅3', 'TmTe', 'Hg3Se2Cl2', 'Lu-Ag', 'U2C3', 'TmAu12', 'Cu-Cd', 'Mg2+', '1.99', 'AlLa6Al6', 'Pr-O', 'LuO6', 'equivalent', 'PtCa6Pt6', 'CoB4', 'Ba-Ba', 'Pu-As', 'Li-Ir', 'OAg4', 'BaAu', 'Zn-O', '2.53', 'ScRu', 'P21/m', 'tilt', '12°', 'SrSi', 'PrSb6', 'BH', 'TeLa6', 'Gd-Ni', 'LaP6', 'CeAs6', 'Copper', 'BaGa12', 'MnF6', 'UC1', '3.23', 'Sm(OsB)2', 'ClAg6', 'IrSi', 'Pt-Ga', 'SrIn2', '2.90-3.16', 'FeHf6Fe6', 'TbBi6', 'Sm2TeO2', 'Uranium', '3.30', 'Au-F', 'NbN6', 'Tm-Pd', '3.00-3.28', 'not', 'SLu6', 'Li-Te', 'HgZr8', 'CuTi', 'SmRh', 'FCa4', 'Mg-F', 'NPa6', 'Ia̅3', 'IrTm6Ir6', 'Li-C', '3.91', '(3.12', 'Eu-Pb', 'Pr-Cd', 'RhSr6Rh6', 'RuCe6Ru6', 'HPu4', 'Pa-N', 'Sn-Sn', 'TmPt12', 'Na-O', '(3.08', 'SbHo6', 'Bi2Rb', 'KCl6', 'Cu-P', 'Tm-Si', '(3.39', 'Er-Se', '3.31-3.53', 'Sb1-', 'PtEr', 'ZrC6', 'VB1', 'DyRh', '3.00-3.11', 'TiTc', 'Zr-Sb', 'MnAs6', 'FPb4', 'PLu6', '2.93', '3.56', 'PtGa2', '2.30', 'Nd-Pt', 'Fe-Al', 'Y-H', 'Ce-Cl', '(2.63', 'HLi6', 'Sr2OI2', 'SrBi12', '3.56-3.87', 'NTi6', 'Hf-Pt', '3.03-3.18', 'Eu4Bi3', 'YSi', 'P̅3m1', '3.68', 'CsNO2', 'phosphide', 'YPd12', 'AgFeO2', 'Zr-Os', 'TaPbS2', '1.32', 'Immm', 'trioxide', '1.20', 'PuCl3', 'Eu-Ga', 'AsNd6', 'LaZn2', 'VOs', 'Th-S', 'V-P', 'K2S', 'Ti-H', 'ScPd2Ga', '2.41', 'TbGa12', '2.97-3.16', '51°', 'AsTb6', 'As3-', '2.55-2.88', 'CoPu6Co6', 'Os', '(2.39', 'Pd2GdIn', 'Eu-Sn', 'K2PdF4', 'ScAlGe', '2.44-2.59', '(2.07', 'BeBe12', '2.95-3.10', '(2.34', 'Mn-Rh', 'DySi', 'SrNi2Sb2', 'Cs-Te', '2.72-2.99', 'PbSe6', 'P3_221', 'TmTm12', 'EuGa2', 'Co2VGa', 'Li-F', '3.48-3.86', 'TmAs', 'CaIn2', 'PaO2', 'Ag2+', 'Mo-C', 'Ta4+', 'Pt2CuGa', 'Te-O', 'Tb-Ni', 'Bainite', 'ScHg', 'Th-Ni', '52°', 'LaCd', 'AuSb2', 'YPdBi', 'Ho2+', '3.34-3.52', 'NaBr', '3.17-3.24', '2.67-3.06', 'NaPt2', 'ErCo3B2', 'OY4', '(2.19', 'SrTe6', '3.09-3.51', '3.22', 'Np-Sb', 'Ce-Se', 'Au2Hf', 'structured', 'Cs-Br', 'Sr3B2O6', '(2.82', '(2.80', 'P21/c', 'Be-Rh', 'PtBi', 'RuP6', 'EuHg', 'ZnF2', 'cluster', 'OsHf', 'SbTa12', '3.37', 'PGa4', 'Sn', 'BaO', 'RbAu', 'TaCo2Al', 'BeTe4', '2.76', 'Pr-Sn', 'IrNd6Ir6', 'LuSb6', 'Ba-Pt', 'Dy-N', 'Sc2+', 'AuBi6Au6', 'Os6+', 'Rh-S', 'Dy2TeO2', 'Ag-Al', 'Ca-Rh', 'Li-Hg', 'TbPt12', 'P2_12_121', 'thirty-two', 'Hydrophilite', 'Tb-Au', 'Sm-Cu', 'V5+', 'NEu6', '(alpha)', 'Rb2SiAs2', 'co-planar', 'LuNi', 'PtPt12', 'SmPd12', 'Sm2C3', 'ThSb', 'Li-Se', 'ten', 'TmFe2', 'La-Tl', 'DyCu2', 'MgHo', 'CSm6C', 'LuNi2', 'Re-Cl', 'Iron', 'BW1', 'SiBr4', 'ScIr12', 'ONi6', 'TiO2', 'P-Se', 'AgCoO2', 'AuGa', 'PtNp', 'CeInAu2', 'NaCl', 'Li2Te', '2.64-2.75', 'K-F', 'Se+1.50-', 'Rh-Si', 'SiO4', 'AlTe4', 'VB2', 'BaSe6', 'MoO6', 'hexaboride', 'BrNa6', 'Rb2MnTe2', '64°', 'Hf-H', 'BaS2', 'NiAs4', 'Hf-Co', 'MgSi4', '3.79-4.06', 'Cs-F', 'HoIr2', 'LuHg', 'ErSb', 'RbI', 'Sc-B', 'TbZn2', 'Skutterudite', 'CeN', 'V-Al', '45-59°', 'nine', 'TbGa2', 'Rh3+', 'Cs-Au', 'ScS', 'AuAgF4', 'Np-Se', '2.66-2.82', 'Cu-Cu', 'Hf-W', 'SmIn', 'Zr2Ni', 'PrCl3', '2.48-2.68', 'ScP6', 'Mg2Pb', 'BaBi3', 'ThAl2', 'ScBi', 'EuCu2', 'GaTe4', 'Lu-Co', 'HoZn2', 'CuRhO2', 'IrNb12', 'omega-like', 'LaFe2P2', 'PdSb', 'Pt-S', 'TmNi', 'U-Pt', 'CaHg', 'Ho-Hg', '3.27-3.37', 'PtBa', '2.40-2.56', '2.36-2.59', 'V-Ir', 'Ge2-', 'KBiF6', '3.33', 'V-Tc', 'Ce-Ni', 'Np-Si', 'OCr3Ag', 'KS4', 'Ta-P', 'LiZn', 'SeU6', 'NdSi', 'Si-I', 'ErPb3', 'Pu-Se', 'TiOs', 'All', 'Bi4Si3O12', 'YHg12', 'LuBi6', 'Rb2MnS2', 'Pu-Te', 'ScPd2In', 'Nb3Os', '(2.92', 'Fe2MnAl', 'PPr6', 'Hg-Br', 'CaGa2', 'Li-Cd', 'MgGa', 'NbPbS2', '3.36-3.61', 'TmRh', '3.24', 'CeCu2', '2.85-2.98', '1.80', 'F1-', 'Er-Rh', '(2.76', 'Y-Au', 'RhNb12', 'Sm-Ni', 'WSi2', 'Al-Ge', 'are', '2.73-2.96', '3.69', 'Sc-H', 'Pr(In)', 'PdBa6Pd6', 'Mo-Pt', 'MgH2', 'MgCu2', '2.77-3.16', 'Mg-Gd', 'OCs6O', 'V2GeC', 'Li-Pb', 'Ce-Sn', 'Li-O', 'Tc-Al', 'WP6', 'ClRb6', 'NGd6', 'BeRh', 'BaPt2', 'LuGa', 'Calaverite-like', 'EuAg2', 'Y-As', 'Rb-H', 'Dy-Ni', 'XeF2', 'OBa6', '3.45', 'Gd-B', 'Eu+2.25+', 'Zr-Mo', '(2.49', 'Er-Pb', '(3.23', 'Hf2Si', 'W-P', 'TbAs6', 'NdPd3', 'PuAs', 'Sm-O', 'AsPr6', 'DySe', 'PrSb', 'Cs-O', 'Eu4Ir', '3.52', 'Gd-In', 'AgCa', 'Gd-N', 'RhLa6Rh6', 'NdBi6', 'ONp4', '42-63°', 'GdPb12', 'Zn-As', 'P̅421c', 'LiCl', 'NdGa2', 'PTh', 'ErCd2', 'TmIn', 'La-Ni', 'Pd-Si', 'In-Te', 'AgMg', 'MgF6', 'beta-prime', 'PaN6', 'Th-C', 'DyAg', 'Ho-Rh', 'GdNi2', 'ErB12', 'HgTi12', 'URu2Si2', 'Zr-N', 'ZnTe4', 'CsFe2As2', 'PtAl2', 'V3Pt', 'V3Sb', 'Ru+2.50+', 'K2Pt', 'BiAsO4', 'P42/mnm', 'beta', 'CeBi6', 'SeBiRh3', 'PrPb12', 'GeO6', 'Tb-Ga', 'GdSe', '(2.69', 'NaAgF4', 'Sm-N', 'GdH2', 'AsLa6', '(3.51', 'PdCu', 'SrS', '2.51-3.46', 'AlP', 'Er-Zn', '(2.12', 'Mg2Sn', 'Ca-Au', 'Se-Se', 'N', 'Pbca', 'Ta-Au', 'PEu', 'TaB', '2.94-3.06', 'Pt-Ge', 'PbPdO2', 'Na-Bi', 'USb', 'Ga-Sb', 'V-Sn', 'Al-Sb', '2.46-2.62', 'PtMo5Pt7', 'Hf-Tc', 'Ni2B', 'There', '(2.53', '2.67', 'TiH', '2.98-3.11', '2.71-3.00', 'Si-Si', 'CrF3', '2.84-3.00', '(3.18', 'RuSb2', 'Be-Ni', 'Np-As', 'Be2+', 'V-Ru', 'Sm-Au', '120', 'P1', 'ZnSe', 'EuAu2', 'P4/nbm', 'Pu', 'Cu-F', 'Plutonium', 'Ce-Sb', '(2.00', 'LuB2', 'Ce2+', 'Tb4+', 'PuRu2Si2', '(3.14', 'NiSi2', 'La-Te', 'Rh3Zr', 'He', 'GdNi', 'Co2AlNb', 'PuRh2', 'each', '3.12-3.29', 'Pd-Al', '3.43', 'EuPt2', 'P4/mmm', 'N1-', 'BaCl2', 'SMn6', 'ScS6', 'LaSb6', 'PtSi4', 'CsHg2', 'LaSe', 'HoPb12', 'Zr-Ni', 'Co-Al', '3.48-3.54', '0.74', '(3.00', '(3.66', 'SrIr2', 'Pm̅3m', 'Se2-', 'and', 'Hf4+', 'TiSi', '4.37-4.41', 'Co4+', 'ScN6', 'Mg-Tb', '(2.14', 'Zincblende', 'BaAu2', 'UB12', '2.97', 'RuB2', 'NaS6', 'Zr2Ga', 'NdPd12', 'ErRh2', 'Sr-O', 'GaLi4', 'HfNi', 'SeLu6', 'P42/n', 'EuHg2', 'WHf6W6', 'Nd-Zn', 'PrMg', 'PbLi', '3.04-3.17', '(2.51', 'PrN', 'NTb6', '(2.77', 'Er-Ir', 'CuEu', 'KO4', 'Ti-Pb', 'Rh2As', 'ZnN4', 'K(RhP)2', 'HfMo2', 'SrHg2', 'YPd2Al', 'As-O', 'ScAs6', '2.64-2.77', 'Au-O', '(2.60', 'Sc-Bi', 'Ti3+', '(2.05', 'Th2SbN2', 'MgCN2', 'OsZr', 'BeS4', 'Ag-Cl', 'Na-Tl', 'U-Se', '2.27', 'RbCl6', 'Fe-Rh', 'of', 'Al-H', '2.42', 'ZnF6', 'ErAu2In', 'PrZn2', 'YCo2', 'PrGa', 'Bi-Se', 'Ho-Ga', '3.31-3.52', 'IrSb6', 'AsDy6', 'ZrCu2Cd', '3.06-3.33', 'Zn-Te', '57°', 'Sr-Bi', 'Pd-Pd', 'PtHg4', 'Ag2Er', 'Be2C', 'PrCd', 'CaAu2', 'Rh-Cu', '3.35-3.77', 'IK6', 'VMn', 'Nd-P', 'MgSe', 'Eu(RhAs)2', 'Mo3Si', 'TiB2', 'Zr-Zr', 'CeRh12', 'HfN6', 'FK6', 'CsF', '3.27-3.42', 'CaSe6', 'MnRh', 'OCe6', 'ThC6', 'PrAu2', 'Pr-As', 'Rh1+', 'ErZn2', '43-57°', '(3.64', 'Co-Se', '2.52-2.87', 'Ta3+', '(2.78', 'Re', 'Ba-Rh', 'Fe-Fe', 'AgCl6', 'NpBr3', 'AgNa6Ag6', 'Dy-P', 'Lu-Zn', 'Cs-P', 'Ce-Rh', 'Fm̅3m', 'CuF6', 'Nd-Ag', 'AgF', 'CsO6', 'Na-F', 'PSm6', 'Au-Sb', 'TbAu2', 'PtO6', 'BaN2', 'TmPd', 'HoNi2', 'PrBi6', 'GdRu2Si2', 'Sr2NI', 'La-Pb', 'Eu-In', '2.30-2.40', '(3.70', 'PAl4', 'Pb4+', 'Ti-C', 'SePb6', 'Ir-Sn', '1.91', 'Hg(AuF4)2', 'Er-As', 'PrPd3', 'ZrCu2Zn', 'Pt3Y', 'La-Pd', 'PrSe', '(3.13', 'trigonal', '3.36-3.55', 'Dy3+', 'PuPt12', 'TbMg', 'Ba-In', 'Li2CdSn', 'DyGa12', 'PbTe6', '2.37-2.93', '(3.37', 'Th2BiN2', 'Sc-Ge', 'Th-Cd', 'Zr3O', 'K-Cl', 'FeF2', 'Y-Tl', 'DyAu2In', 'PNb6', 'HoAu4', 'Al-As', '40°', 'NbTl3Se4', 'NdCo2P2', 'ZrIr12', 'P5+', 'Nd-Pd', '(3.02', 'Sr-B', 'NpNi2', 'TaAs6', '2.55-2.89', 'VAs6', 'HTi4', 'Pb2+', '58°', 'LaTe6', 'HoPd12', '2.72', 'BaTe', '3.01-3.17', 'MgTe6', 'Na-Pt', 'P3+', 'ErS6', 'ErN6', 'VSi2', '2.65', 'LiCd', 'Ho-Pd', 'LuSe', 'Pt2CuAl', 'TmSb6', 'PuH2', '3.21', 'La-Bi', 'U-As', 'TaP6', 'I̅4m2', 'Cd2+', '2.78-3.05', '(2.40', '2.90-3.08', 'Ce-Hg', 'PdF6', 'NLa6', 'SmPt', 'INa6', 'ErSb6', 'edge-sharing', 'CrF2', 'Ho-Tl', 'K2Te', 'PuTe6', '3.04-3.59', 'Nd-Al', 'TaS6', 'Sr-Ir', '38°', 'linear', 'ThRu', 'C-O', '2.83-2.98', 'Zr-Pd', 'LaTl', 'Boride', 'tetragonal', 'PdV12', 'B-Cl', 'LuRu2Si2', 'SePRh3', 'CoTe6', 'RhB', 'ThHg12', '2.83-3.30', 'TaC6', 'six', 'Au', 'AlF6', '(3.41', 'Au2Mn', 'NbAs6', 'Gd', 'V-As', '2.41-2.51', 'BaRu2As2', '(1.82', 'ScB2', 'TmTl', 'MoZn6', 'Tl-Se', 'OU4', 'ZnZn12', '3.46-3.63', 'Ag2Ho', 'Na-H', 'Ca-Se', '2.94-3.07', 'Fe-S', '3.30-3.51', 'Tetraauricupride', 'Ag2Dy', 'PrRh', 'Ca-Cl', 'Bi-S', '2.92-3.17', 'Mg-Ga', 'NaPb3', 'OLa4', 'Cr-F', 'Ca2MgPd2', 'Ru-Ga', '3.04-3.16', 'Th-Ir', '2.61-2.90', 'Hf2Ge', 'Cl7+', 'HgO', '6-coordinate', 'Th-Al', '3.36', '2.32-2.49', 'Tm2+', '(3.05', '(3.38', 'MnS6', 'Rb-S', 'Dy-H', 'Ir', 'Eu(NiAs)2', 'Ir-Al', '(2.98', 'CePt', 'OMg6', '(3.46', 'HoNi', 'Tl', 'NpAs', 'CaPb12', 'Tc-B', 'Tb-Tl', 'Hf-Hf', 'Pt2Mo', 'Y-Bi', 'Li2O', 'AsGa4', 'K2PtSe2', 'Fe-B', 'PbO6', '3.51', '1.97', 'Nd-Pb', 'Cu', 'LuAs6', '2.15-2.18', 'PrGa2', 'V-C', 'TbNi2', 'PdGe', '3.28', 'Pa-O', 'DyN6', 'LiO4', '46-56°', 'Sr-Pd', 'Mg-N', '3.17-3.34', 'LiCl6', '1.67', 'NLu6', 'ErPb12', 'CeS6', 'V-Si', '2.14-2.26', 'Lu-O', 'HoPt12', 'OFe3Ag', '2.86', 'AgEu', 'Hf2Ga', 'PEu6', 'U-Te', 'is', 'SeDy6', 'PPu', '(2.23', 'DyCd', 'PrH2', 'SmS', 'Hf-Si', '3.14', '3.49', 'NdRu2Si2', 'KZnP', 'Ba-B', 'BiK6Bi6', 'EuTe6', 'DyGe', 'Tm-Fe', 'LiGa', 'CdO6', 'Er-Pd', 'GdPb3', 'PrBr3', 'CoEr6Co6', 'rectangular', 'Al2Ca', '2.04', 'NiMnSb', 'NdZn', 'La3Cu3Bi4', 'LuCu2', 'Mg-O', 'PdLi', 'Zr2+', 'Pa4+', 'Cmcm', 'NdAu', 'Y-Ge', 'KCl', 'FeDy6Fe6', 'HfRh', 'LiCd4', 'CeBr3', '(3.49', 'PtY', 'Fe1+', 'USe6', '2.27-2.39', 'OPr4', 'CePd12', 'AlNi2Zr', 'face', 'Cu-Zn', 'Lu-Hg', 'SmAg', 'GaPt4', 'NdS', 'TbN6', 'Mn-N', 'Al3+', 'Ti-Zn', 'Ce', 'Ba-Bi', 'Tm-Ge', 'Pd-Hg', 'LaSe6', '24-coordinate', 'SrPb12', 'U2N2Te', 'Zr3+', 'EuSn12', 'Mn-B', 'RhGe', 'GaAs', 'DyRu2Si2', '3.02-3.05', 'CTa6', 'HoAu', 'Ti-Re', 'Th-Pd', 'Mn-F', 'Er-O', 'Pu-B', 'SeCa6', 'Mo2Zr', 'Bi1+', 'HY4', 'Ag1+', 'TeSn6', 'PuRh12', '50°', 'Gd-Rh', 'SrZn2', 'HNb4', 'Å.', 'CaNi2Si', '2.57', 'DyS6', 'LuSi', 'Bi5+', 'WCl6', '2.87-3.04', 'CePt12', 'PI3', 'TmCd', 'Co-Pt', 'LaCo2B2', 'Eu-Si', 'RhV', 'CdSb', 'CGd6C', 'ErS', '2.84-3.14', 'AuIn2', 'H1+', 'corner-sharing', 'KH6', 'Sphalerite', 'Nd3Cu3Sb4', 'Bi-Bi', 'La(OsSi)2', 'SnSn4', '2.79-3.03', 'Ba(OsP)2', '54°', 'FeSe6', '2-coordinate', 'CoPt', 'Mg-B', 'NdSe', 'W', 'Hf-Ru', 'HoTe', 'Zn-Se', 'Sn2+', 'Eu-Ir', 'BaO2', 'PdY', 'Al-P', 'CrP', 'Nb-In', 'AuTb', 'Eu-As', 'SeBe4', 'BaGa2', 'PbF2', 'water-like', 'Mn-Se', 'La-Cd', 'Rb2Se', 'Rb2PtTe2', 'NdPt', 'NiF2', 'DyIr2', 'Os-B', 'Ho-Te', '3.26-3.59', 'V-Mn', 'ScCo2', 'LaAs6', 'Niobium', 'Si+1.33-', 'BaNi2As2', '2.00-2.07', 'GeF4', 'Ge2+', 'AuCu', 'Ce3Pb', 'YAu', 'Na1+', 'Ag2Pr', 'NpN6', '2.94-3.15', 'Mg-S', 'RbS4', '(2.93', 'EuB6', 'Sr-Sb', 'Pt2-', 'NdNi', '3.12-3.35', 'PuGe3', 'ErBi', 'La-S', '3.02', 'Pmma', '2.61-2.78', 'Ho2BiO2', 'TiO6', 'BaPd2', '2.55-2.83', 'ErTe', 'AlSc', 'see-saw-like', 'Ba-F', 'SnNb12', 'Lu', 'Np-P', '2.93-3.12', 'NaAuF4', 'PtTh', 'Eu-I', 'TbFe2', 'Nb-P', 'NiV12', '(2.96', 'RhLi6', 'Ti-Rh', 'InPt4', 'Y-Ir', 'B3-', 'TmAg', 'ErAs', 'Rh-Pb', 'Pd-Cd', 'GaAs4', 'Nd-Hg', '2.87-3.03', '1.23', '2.88-3.04', 'Na-Cl', 'Er-N', 'octahedral', 'Lu-Ir', 'LaCl3', 'Sb-S', 'Ca-Cd', 'pentagonal', '(1.88', 'U-Ti', 'ThCd2', 'Tm-Ag', 'U-Si', 'HCs', 'Ca-Ge', 'Y-B', 'SGd6', 'Dy3Cu3Sb4', '(2.88', 'Rb2O2', 'Au2PrIn', 'TiC', 'SmTe6', 'ZrHg8', 'Bainite-like', 'Rh+3.50+', '2.83', 'Os-Se', 'TeHg4', 'Sr-P', 'CoGa', 'W-Br', '3.75', 'Dy-Tl', 'ZrPd', 'Silicide', 'K2CN2', 'SmTe', 'Sm-In', 'BeTa2', 'Ga(La)', 'Li-N', 'LuAu4', 'Se6+', 'PaAs6', 'LiRh6', 'P63/m', 'La4Pb3', 'Ca-Ir', '3.54', 'U-Rh', 'La-Ag', 'AcBr3', 'SHg4', '1.57', 'ThS', 'CaSn3', 'Au2Bi', 'CePd2Zn3', 'Hf-Os', 'Mg-Te', '2.12', '3.40', 'BP', '2.41-2.65', 'BiEu8', 'HoCo2B2', 'Nb-Nb', '2.56', 'Os+1.50-', 'PtPt7W5', 'MoF3', 'PP2Pd2', 'Pd-S', 'TbSi', 'Pr-Rh', '3.42-3.61', '10-coordinate', 'U-C', 'Heusler', 'q4', 'PrSn12', 'RhTb6Rh6', '(3.24', 'ErN', 'Chloride-derived', '60°', 'As-As', 'FeP2', 'RuP4', 'KHF2', 'HgZr12', '2.97-3.14', 'Y-Zn', 'Au-Bi', 'Sm-Pd', 'ZrGe', '3.34-3.51', 'twelve', '2.71', 'SiP4', 'Li4NH', '2.74-2.89', 'CaHgO2', '2.42-2.67', 'YP6', 'LiGa4', 'AuTa3', 'DyBi', 'AgClO4', 'HTb4', 'GdSb6', 'VAu4', 'Zr2Si', 'SrAl2', 'Sc-Hg', 'ZrSn2', 'Cs2SnAs2', 'NaAlH4', 'Ce-Si', 'InAs', 'PCe6', 'Fe', '1.52', '2.81-2.90', 'EuPdSi', 'I̅43m', 'K2MnS2', 'Gd-Cl', 'angles', 'C2-', 'zeta', 'CeSe', 'CrO2', '2.95', 'Mo-Ge', 'Bi(Nd)', 'SbAl4', 'TbH2', 'Tb3+', 'Th-Zn', 'RuTi', 'Tl-Te', 'Cl2', '2.96-3.16', 'AsV', 'K-P', '2.58-2.92', 'LaNi2P2', 'In(Hg)', 'FeS6', 'V-Ni', 'InF3', 'Gd-O', 'ThTe', 'IrTi', 'I2_13', '2.87', 'Tm-Hg', 'VB12', 'DyPb12', '3.35', 'ZrHg', 'La2C3', 'Pr-Bi', 'triclinic', 'PtNd6Pt6', 'MgZn2Ce', '2.82-3.10', 'CsH6', 'Mn', 'HoPt3', '1.39', 'MnAu', 'Rh-Rh', 'Mn-Co', 'Pd-Sb', 'Ho-Fe', 'LuAu12', 'Th2N2Te', 'ThAu2In', '2.74-2.77', 'PtNb12', '2.55', 'RhPSe', 'TcTa', '2.29-2.41', 'SeNd6', 'AuZn', 'KTe4', 'V3Sn', 'La-B', 'TmMg', '2.82-2.91', 'CrP6', 'Cu-Al', 'NdRh2', 'Y2BiO2', 'SiF4', '3.06', 'Al12Re', 'Pmmn', 'OCo3Ag', 'CeCe12', 'Mg2Ge', 'Br5+', 'FeHo6Fe6', 'Eu4As3', 'Pr-Se', 'YPt12', 'Sc-Cu', 'pyrite', 'Na-In', 'ScHg3', 'Ce-Pt', 'Pr-H', 'Cu-As', '1.11', 'ReTeS', '1.35', 'SrSe', '3.14-3.21', 'PtGd6Pt6', 'K2PdS2', 'Mg-Hg', 'CePd', 'Rh3Hf', '3.40-3.53', 'planar', 'NbTl3S4', 'MoO2', 'Ce-Ir', 'GaP', '(2.81', 'Be-Ta', 'OSr4', 'ErNi2', 'GdAs', 'SrHg', 'Zr-Rh', 'N5+', 'FAg6', 'SnNbS2', '2.07', 'Ti2C', 'AsPu6', 'TmN', 'V-B', 'CoAs4', 'LaCu12', '3.18-3.32', '2.66-2.96', 'GdPt', 'F̅43m', 'TbRh', '2.56-2.65', 'TmSe6', 'GdN6', 'NaBi', 'CuFeO2', '(2.44', 'PdCd', 'CoSe2', 'ZnCl2', 'NiSc6Ni6', 'PdO6', 'GeO2', 'CoSc6Co6', 'P6_222', 'NMg3C', 'Gd-Ga', 'NiCe6Ni6', 'LuZn', 'Li-Ga', 'DyB2', 'Fe-F', 'Rb2S', '2.60-2.86', 'LuP6', 'Si-F', 'forty-eight', 'Pt2Tb', 'Na2O', '(2.62', 'HoCd', 'IrTi12', 'AuAl2', 'Os-P', 'RbInTe2', 'Sm-Ag', '39°', 'SiSi6Ni4', 'NaNH2', 'BaMn2P2', 'SnCe12', 'Er-Au', 'Zr-O', 'PtV8Pt4', 'Pa-Pa', 'RhDy6Rh6', 'LiAl', 'CeSe6', 'CdTe', 'Ca2NI', '3.12-3.23', 'Mn-Ni', 'LaNi', 'SrPtSi', 'TbPt', '(3.16', 'PuP6', 'Br-F', 'Pd-Te', '3.25-3.48', 'Y', '2.31-2.51', '2.50', 'LuPd3', '9-coordinate', 'Pr-Hg', 'P3_121', 'LiPt', 'NiO', 'SSr6', 'TiSb6', 'Ba(RuP)2', 'ErIr2', 'Na', 'PtGe', '(3.28', 'Ta-Ta', 'Ti-Os', 'MnB', 'ThRh', 'In2La', 'U-N', 'FeEr6Fe6', 'MnSb6', 'Sn4+', 'CeSb', '2.16-2.27', '3.70', 'BiLa6', 'PY6', 'KAgF4', '3.23-3.55', '(1.99', 'AlF3', 'Pa-C', 'Np-Br', 'LaPd2In', 'Rb2MnSe2', '2.80-2.96', 'NiNp6Ni6', '3.66-3.77', 'EuRh2Si2', 'Cr', 'FeTb6Fe6', 'DyTe6', 'HAc4', 'GaY', 'Pt2+', 'Co+1.50+', '2.99-3.22', 'Sc4C3', '2.00', 'FHg4', 'K2SiP2', '2.65-2.80', 'U-Ir', 'HgF2', 'SrSn', 'VF2', 'Th2Hg', '2.85', 'Li-I', 'SMg6', 'Pd-B', 'Pr-Si', '2.47', 'Ti3Au', 'K2PdO2', 'Ag2Y', 'NaO4', 'Protactinium-derived', 'IrSc', 'Nb3In', 'Pnnm', 'SmZn', 'ScAu2Al', 'HoFe2', 'PtLa6Pt6', 'SeCe6', 'ThAu12', 'LaHg', 'Mn-Sb', 'Zr-Te', '4-coordinate', '47-61°', 'HoZn', 'TbB12', 'NaIn', 'Ca-N', 'Nb-Pt', 'CePt3', 'W2B', 'Zr-Ge', 'AlAs', 'TiC6', 'LaPb12', 'KO2', 'TmIr', 'CsBr', 'NY6', 'HoHo12', 'SnIr4', 'CdN6', 'Nd', 'Ru-O', 'Pb(NO3)2', 'Bi4Ge3O12', 'Ga-As', '(2.38', 'Ammonia', 'VF6', '12-coordinate', 'Bi-F', 'Ca-Sn', 'Gd(OH)3', 'UAs6', 'Th-Te', 'PrBi', 'Nd-O', '3.03-3.21', 'C', 'Cu-In', 'Ag-O', 'P42/mmc', 'MoZn12', 'Sn(SeO3)2', 'Pu3+', 'iron', 'Eu-Pd', 'OsTe2', '(2.75', 'YZn', 'IrNb', 'P6_422', 'PrPd12', 'Mg-Rh', 'CaS', '2.88', 'AuHf', 'GdPt3', 'KSe4', 'ZrPt', 'Hg3S2Cl2', '2.06', 'Eu-Zn', 'B+0.50-', 'Sr-Cd', 'Mg', 'Cd-As', 'OZr6', 'Tl3VS4', 'CuMg6Cu6', 'Y-Al', 'SrPb', 'DyBi6', 'SrSe6', 'Ce-Fe', 'SiSi4', 'K(RhAs)2', '(2.08', '2.79', 'TbP6', 'Be-C', '(1.62', '(2.61', 'NpIr2', 'LiIn', '(3.04', 'AsHo6', 'Nd-Bi', 'Ti2+', 'CaHg2', 'S6+', 'Pt-Tl', 'HCs6', 'KF6', '(3.57', 'Tb-Te', 'Tl3TaSe4', 'ScRh12', 'FeSb4', 'HK1', 'Gd(OsB)2', 'PrHg', 'to', 'MgLu', 'Ti-F', 'Sc-Au', 'Co-F', 'KHg2', 'Both', '2.59', 'PGd6', 'Tc6+', 'ThSi12', 'Ho-Ge', 'HNp4', 'LiN4', 'ThRh3', 'LaCu', 'KReO4', 'five', 'Y3+', 'CaGe', 'Li-P', '3.04-3.07', 'AlSiY', 'HoIr', 'V2+', 'Th-Hg', 'MoP', 'Zr-S', 'AuTl2', 'CaHg12', 'U-Ru', '(3.22', 'Sr-Te', 'Er-Ag', 'Er-S', 'PrN6', 'Y-P', '2.35', 'NH3', 'La-Cl', 'Mn-Al', 'Eu-Os', 'LaSb', 'Sb3-', 'Sr-Si', 'UAu12', '2.74-2.87', 'SeEu6', 'GaF6', '3.56-3.75', 'Ca2MgPt2', 'Tc-Si', 'CeSb6', 'Ti-B', 'UCl4', 'Tb-Ge', 'NiGe4', '2.78-2.98', 'Pd', 'Hf-Au', 'NdCo2B2', 'PtCu6Pt6', 'HoB12', 'Dy2+', 'U2O2Te', 'RhRh12', '(3.71', 'IrEr6Ir6', 'PtP6', 'TiS6', '2.77', 'K2GeAs2', '44-59°', 'Dy-Si', 'CdLi4', 'Th-Pt', 'B2-', 'IrGe6', '3.35-3.51', 'AuLu3', '(2.57', '2.77-3.01', 'Sc3+', 'Mo4+', 'AgReO4', 'DyHg12', '2.17', 'SbDy6', 'Tl3AsSe3', 'U-B', 'Ni3+', 'Nb-Co', 'GdCo3B2', 'Nb-H', 'body-centered', '3.16', 'PdGa', 'Ru6+', 'K2CuAs', 'MgO6', '3.94', 'NiSm6Ni6', 'Er-In', 'YIn', 'EuCd', '17-23°', 'OAl3Ag', 'Ar', 'CoSm6Co6', 'Nd2O2Te', 'GdS6', 'Pr-Ge', 'NiF6', '1.41', '2.32-2.48', 'Ce3Pd3Bi4', 'Aea2', 'SY6', 'ZrCo', 'Cinnabar', 'Sc-P', 'UN2', 'AlCu2Ti', '3.43-3.67', 'Te2-', '2.10', 'B1-', 'Sc-As', '47-58°', 'Y-Rh', '2.58', 'CaGeN2', '3.00-3.23', '3.08-3.18', 'GdMg', 'Sm-P', 'CdF2', 'HPr4', 'Ti-S', 'Tm-Rh', 'Er-Co', '3.33-3.66', '(1.60', 'Hg-Hg', 'Sm-Se', 'ErIn', 'TmCu2', 'CoO', 'Rh-Ge', 'ICs6', 'TbGa', 'La-Ga', '2.04-2.13', 'SO2', 'Ru', 'CoSb6', 'EuGe', 'EuF2', 'CrSb2', 'Lu-Rh', 'FeB4', 'LaZn', 'Dy-Zn', 'Rh4+', 'LaCu2', '2.72-2.81', 'NCa3C', 'SbTb6', 'RuGa2', '3.61-4.01', 'Rh-Ga', '2.54', '2.74-2.91', '3.47-3.69', 'NiGd6Ni6', 'NPu6', 'LuPd2In', 'Fe-Co', 'SeTb6', 'CaCd2', 'O2-', 'Dy-Te', 'MgPb4', 'Sm-Rh', 'LiIn4', 'Au4Sc', 'AsNp6', 'Na2CuAs', 'SmN', 'Zr-H', 'BiTb6', 'Gd-Pt', 'YHg2', 'Ba-O', 'BrAg6', 'Ag2Ca', '3.42', 'USi12', 'K', 'Tl-O', 'Th-O', 'NbP', 'Tl-Br', 'TiN', '(3.20', 'DyPd', 'Sm-Cd', 'V2C', 'the', 'Na-N', 'InP', 'RbTe4', 'URh3', 'IrO6', '49-69°', 'ErPd12', 'AsSm6', 'TlHg12', 'B+1.50+', 'Ho-P', 'AsCr6', '(2.25', 'Gd-Cd', 'HoAg', 'CaTe6', 'NdIr2', '3.19-3.29', 'Gd-Au', 'Tb-Sb', '3.50', 'PrPt', 'P-N', 'Tm-H', 'AuV3', 'Se-O', 'Pr4Ge3', 'LuCd', 'Ni-Se', 'FeP6', 'BiRb6Bi6', 'SiI4', 'Pt2CdZn', '(1.61', 'Sc-Sb', 'PrGa12', 'Np-Ge', '2.52-2.71', 'PtNi8', 'NbH2', 'Sr-Zn', 'Hg-Tl', '1.92', 'Rb-N', 'LiB', 'Fe3N', 'La-Zn', 'BaZn2', 'bonded', 'PdTa5', '3.10-3.17', 'CoTe2', 'KPt4', 'ZnCl4', 'HoPd', '20-48°', 'Ba-Zn', 'Ge-As', 'AuV12', 'Ag-Ag', 'OPd4', 'ThPb12', 'degrees', 'NaIn4', 'edge', 'Pr-N', 'VP6', 'GdN', 'structure', '2.75-2.77', 'Tl(BH)6', 'non-coplanar', '(1.70', 'Ca-In', '(3.11', 'Tm-S', 'Na-Se', 'Pb-Te', 'Y-Ag', '2.28', 'Rb2PdSe2', 'Pb-S', '(4.31', 'CZr6', 'SnV12', 'WBr6', '(2.43', 'HoCu', 'NiP4', '2.58-2.89', 'Pr-In', 'Re6+', '2.66-2.91', '3.03-3.11', 'HTm4', '2.57-2.72', 'HgTe', 'OBa4', 'Co', 'GdPt2', '3.28-3.46', 'SiCo4', 'TlCrTe2', 'CaBr2', '3.30-3.82', 'Tb-Se', 'Ir-P', 'LaAu12', 'B-C', 'Ga-P', 'TbSe6', 'Pa̅3', '1.86', 'Tc-Tc', 'BPd6', 'PtMn', 'AsTm6', 'Pd-Se', 'Ti2N', 'HoIn', 'Nb3Rh', 'Sm-Bi', 'Pr-Ag', 'UO2', 'TbPb3', 'TmGe', 'CeSi', '2.49-2.52', 'IrF3', 'AsSm', 'HgSe', 'YGa12', 'Ta-Sn', 'CdCd12', 'PrTe6', 'Ru-Fe', 'Cd-N', 'UC6', 'Ir-Ir', 'HoBi', 'NU4', 'PuS', '2.80-2.86', 'Gd-Tl', 'NaBH4', 'OsTe6', 'SrCrF4', 'Ir2P', 'Er-B', 'TeSm6', 'an', 'ThC2', 'YAg', 'YN6', 'Pb3Ca', 'PNd6', 'GdIn', 'Li-In', '47°', 'structure-like', 'AuHo3', '(3.52', 'CoO6', 'LiRh', 'Mo3Ga', 'HHf4', 'ZnSe4', 'DyZn', '(2.06', 'NbInS2', 'Hg3Tl', 'NaNa12', 'Sc-C', 'H-S', 'NaAg2', 'NpGe12', 'Au2MnAl', 'SiI3', 'PrAs', 'Ta2Co', 'TbPd3', '3.02-3.19', 'NpS', 'Y-O', 'LaPd3', 'Nd-Ge', 'PtTl2', 'Ni2MnAl', 'Sr(BeN)2', 'SmZn2', 'Ti3Sb', 'PtAs6', 'Y-Cu', 'KH12', 'V-Pd', 'EuZn1', 'ZnTe', 'DyHg', 'Zr-C', 'H-F', 'Ag-Cd', 'DyCo2', 'Ba3CrN3', 'UO3', 'TeBa6', '2.64', 'Zr-Cu', 'Mg-Sm', 'framework', 'In-P', 'Tb-Rh', 'NdHg', 'TmSi', 'Ag', 'ZrH2', 'Au+0.33-', 'TeSc6', 'RhSi4', 'FeTm6Fe6', 'ZrB12', 'Be-Co', 'SmAs6', '3.01-3.14', 'PTh6', 'Er-Te', 'Cubic', 'W3+', 'Tm-Ga', 'Ba-Hg', 'Co-Sb', 'Be-Pd', 'ThO2', 'range', 'IrY6Ir6', 'Li2S', 'HoP', 'NiSi', 'W-Cl', '3.59', 'HLu4', 'Li-Zn', 'HfC6', 'Be-S', 'Sr-Os', 'PtSn2', 'PtTi', 'Er-Cd', 'DyPt', 'Sb3+', '3.63-3.76', 'SiCr12', 'ThHg2', 'Ge-N', 'Ba-Sn', 'La-Ir', 'Ca-I', 'NSr6', 'ThSi', '2.35-2.72', 'ErAu12', 'TmGa', 'Ag-As', 'GdZn', 'Zr-Ru', 'Nb-Sb', 'K2AgAs', 'SrGa12', 'PIn4', 'TaInSe2', 'Ta2Ni', 'NEr6', '3.01-3.13', 'Eu-N', '(2.48', 'TbTb12', 'HSm4', 'SbNp6', 'Sm-Co', '3.22-3.52', 'KZnAs', 'Mo-Br', '50-53°', 'Lu-Ga', 'GdS', 'IrLi6', 'BiNd6', '(3.80', 'NdCl3', 'twenty-four', 'Rb-Se', 'Ba-Ag', 'TmS6', 'IrLu6Ir6', 'Ho-B', 'LiIr', 'ScBi6', 'PuB12', 'Au-In', 'ErAu', 'La-N', '(3.47', 'Ag-Br', 'NPr6', 'Pu-H', 'Dy-Pb', 'CaPb', '2.97-3.07', 'Si3+', '2.93-3.19', 'NdRh', 'Li-Ag', '2.95-3.17', 'Na-Na', 'SmCu', 'AuCr3', 'LuPt3', 'Sm-B', '2.76-3.04', 'SrFe2P2', 'Laves', 'ScZn', 'TmBi', 'Protactinium', 'K-I', 'CHf6', 'U2Ti', 'Ti-Co', '2.84', 'OsTh6Os6', 'clusters', 'W-Si', 'SCl', 'MnTe4', 'Tc', 'V-Sb', '(2.58', '1.89', 'PTb6', 'Pr-Au', 'AuSn', 'NbP6', '2.98-3.12', 'SrPd', 'Pt-Se', 'Mo-B', '2.38', 'Ti3Ir', '2.97-3.29', '49-50°', 'BaSe8', 'R̅3c', 'Th', 'PrCo2B2', '2.22', 'Ni2+', 'AsLu6', 'Cmmm', 'TmCl3', 'LiHg', 'CeBi', 'YB2', 'ScCo3B2', 'RuO6', 'Al-N', 'Ta-Pt', '(3.32', 'SeMg4', 'Co-As', 'RuSi', 'ErPd', 'C4-', 'atom', 'DySe6', 'CW6', 'MgS6', 'Ni-Ge', 'Cs2MnS2', '(2.26', 'Th2Al', 'Co-B', 'P6/mmm', 'Pu6+', 'Ca-Ag', '(2.01', 'RhEu6Rh6', 'Os4+', 'OFe3Cu', '(2.86', 'SBe4', 'SmRu2Si2', 'CuCdF4', '3.23-3.47', 'GdGa', 'HoTe6', '(3.44', 'U-Sb', 'tilted', 'GdRh', 'OSm4', 'Pt-Sn', 'IrTb6Ir6', 'Rb1+', 'Na2Se', 'Cu3La3Sb4', 'Pr(OH)3', 'MgPd', 'ThCl4', 'NiBi', 'MgTl', 'YCu2', 'Cu3Ho3Sb4', 'BeS', 'V-Au', '22-47°', 'SmCo2', 'Ca-Ga', 'BaSn', 'Pt-Cd', 'Pb-O', 'NpRh3', 'MnS', 'Mo3+', 'Rh-Sb', '2.49', 'Ag2MgCd', 'TmN6', 'OsNb12', '(2.65', 'OsAs6', 'PtAl', 'Re-Re', '(2.87', 'ScPd3', 'Li-Mg', '3.55', 'Lu-H', 'SbNb12', 'Ammonia-like', 'TbCu2', 'RuZr', 'SCa6', 'Ca-Br', 'In-Sb', 'LuRh2', 'HV4', '2.94-3.09', 'IrAl', 'Lu-P', '(2.22', '3.09-3.30', 'DyHg3', 'Pr-Br', 'ThIr2', '1.73', 'Mg-Ho', 'Mg-Y', 'CrGa4', 'Cr-Cr', 'IrO2', 'Bi2+', 'Pt-Sb', 'HoBi6', 'Nd-Au', 'Nd-N', 'Al-O', 'CaRh2', 'YCo3B2', 'Ce-Ru', 'TaAs', 'Bi2O2Se', 'GeN4', 'Tb-P', 'CdTe4', 'Sc-Rh', 'Carbide-like', 'GaF3', 'S+1.50-', 'Th-Cl', 'LiIr6', 'U3Co3Sb4', 'Se1-', 'Pr-Pb', 'CoO4', 'Dy-In', 'at', 'U-Co', 'FeO6', 'RhLu6Rh6', 'Nd-Tl', 'Ne', 'CoTi'}\n",
      "\n",
      "Количество уникальных токенов в корпусе:\n",
      "5620\n"
     ]
    }
   ],
   "source": [
    "vocabulary = set(word_count_dict.keys())\n",
    "\n",
    "print(f'Уникальные токены:\\n{vocabulary}\\n')\n",
    "\n",
    "print(f'Количество уникальных токенов в корпусе:\\n{len(vocabulary)}')"
   ]
  },
  {
   "cell_type": "markdown",
   "metadata": {},
   "source": [
    "Индексируем наш словарь:"
   ]
  },
  {
   "cell_type": "code",
   "execution_count": 11,
   "metadata": {},
   "outputs": [],
   "source": [
    "word_to_index = {word: index for index, word in enumerate(vocabulary)}\n",
    "index_to_word = {index: word for word, index in word_to_index.items()}"
   ]
  },
  {
   "cell_type": "markdown",
   "metadata": {},
   "source": [
    "## Создание пар `(слово, контекст)`"
   ]
  },
  {
   "cell_type": "markdown",
   "metadata": {},
   "source": [
    "Для построения пар `(слово, контекст)` нам необходимо пройтись скользящим окном по всем описаниям в нашем корпусе."
   ]
  },
  {
   "cell_type": "markdown",
   "metadata": {},
   "source": [
    "Ниже задана ширина окна контекста Skipgram модели."
   ]
  },
  {
   "cell_type": "code",
   "execution_count": 12,
   "metadata": {},
   "outputs": [],
   "source": [
    "window_radius = 9"
   ]
  },
  {
   "cell_type": "markdown",
   "metadata": {},
   "source": [
    "Пары `(слово, контекст)` на основе доступного датасета сгенерированы ниже."
   ]
  },
  {
   "cell_type": "code",
   "execution_count": 13,
   "metadata": {},
   "outputs": [
    {
     "name": "stdout",
     "output_type": "stream",
     "text": [
      "Количество пар (слово, контекст): 1629128\n"
     ]
    }
   ],
   "source": [
    "context_pairs = get_context_pairs(data_tokenized, word_to_index, window_radius)\n",
    "\n",
    "print(f\"Количество пар (слово, контекст): {len(context_pairs)}\")"
   ]
  },
  {
   "cell_type": "markdown",
   "metadata": {},
   "source": [
    "## Подзадача №1: subsampling\n",
    "Для того, чтобы сгладить разницу в частоте встречаемсости слов, необходимо реализовать механизм subsampling'а.\n",
    "Для этого вам необходимо реализовать функцию ниже.\n",
    "\n",
    "Вероятность **исключить** слово из обучения (на фиксированном шаге) вычисляется как\n",
    "$$\n",
    "P_\\text{drop}(w_i)=1 - \\sqrt{\\frac{t}{f(w_i)}},\n",
    "$$\n",
    "где $f(w_i)$ – нормированная частота встречаемости слова, а $t$ – заданный порог (threshold)."
   ]
  },
  {
   "cell_type": "code",
   "execution_count": 14,
   "metadata": {},
   "outputs": [],
   "source": [
    "def subsample_frequent_words(word_count_dict, threshold=1e-5):\n",
    "    \"\"\"\n",
    "    Calculates the subsampling probabilities for words based on their frequencies.\n",
    "\n",
    "    This function is used to determine the probability of keeping a word in the dataset\n",
    "    when subsampling frequent words. The method used is inspired by the subsampling approach\n",
    "    in Word2Vec, where each word's frequency affects its probability of being kept.\n",
    "\n",
    "    Parameters:\n",
    "    - word_count_dict (dict): A dictionary where keys are words and values are the counts of those words.\n",
    "    - threshold (float, optional): A threshold parameter used to adjust the frequency of word subsampling.\n",
    "                                   Defaults to 1e-5.\n",
    "\n",
    "    Returns:\n",
    "    - dict: A dictionary where keys are words and values are the probabilities of keeping each word.\n",
    "\n",
    "    Example:\n",
    "    >>> word_counts = {'the': 5000, 'is': 1000, 'apple': 50}\n",
    "    >>> subsample_frequent_words(word_counts)\n",
    "    {'the': 0.028, 'is': 0.223, 'apple': 1.0}\n",
    "    \"\"\"\n",
    "\n",
    "    words_count = sum(word_count_dict.values())\n",
    "\n",
    "    keep_prob_dict = {}  \n",
    "\n",
    "    for word, count in word_count_dict.items():\n",
    "\n",
    "        freq_norm = count / words_count\n",
    "        include_prob = (threshold / freq_norm) ** 0.5 if freq_norm > threshold else 0\n",
    "        keep_prob_dict[word] = include_prob\n",
    "        \n",
    "    return keep_prob_dict"
   ]
  },
  {
   "cell_type": "markdown",
   "metadata": {},
   "source": [
    "## Подзадача №2: negative sampling\n",
    "Для более эффективного обучения необходимо не только предсказывать высокие вероятности для слов из контекста, но и предсказывать низкие для слов, не встреченных в контексте. Для этого вам необходимо вычислить вероятность использовать слово в качестве negative sample, реализовав функцию ниже.\n",
    "\n",
    "`ВНИМАНИЕ: этот код вам нужно написать самостоятельно`\n",
    "\n",
    "В оригинальной статье предлагается оценивать вероятность слов выступать в качестве negative sample согласно распределению $P_n(w)$\n",
    "$$\n",
    "P_n(w) = \\frac{U(w)^{3/4}}{Z},\n",
    "$$\n",
    "\n",
    "где $U(w)$ распределение слов по частоте (или, как его еще называют, по униграммам), а $Z$ – нормировочная константа, чтобы общая мера была равна $1$.\n",
    "\n",
    "`ПОДСКАЗКА`: распределение слов по частоте есть ничто иное как частота встречаемости слова в корпусе"
   ]
  },
  {
   "cell_type": "code",
   "execution_count": 15,
   "metadata": {},
   "outputs": [],
   "source": [
    "def get_negative_sampling_prob(word_count_dict):\n",
    "    \"\"\"\n",
    "    Calculates the negative sampling probabilities for words based on their frequencies.\n",
    "\n",
    "    This function adjusts the frequency of each word raised to the power of 0.75, which is\n",
    "    commonly used in algorithms like Word2Vec to moderate the influence of very frequent words.\n",
    "    It then normalizes these adjusted frequencies to ensure they sum to 1, forming a probability\n",
    "    distribution used for negative sampling.\n",
    "\n",
    "    Parameters:\n",
    "    - word_count_dict (dict): A dictionary where keys are words and values are the counts of those words.\n",
    "\n",
    "    Returns:\n",
    "    - dict: A dictionary where keys are words and values are the probabilities of selecting each word\n",
    "            for negative sampling.\n",
    "\n",
    "    Example:\n",
    "    >>> word_counts = {'the': 5000, 'is': 1000, 'apple': 50}\n",
    "    >>> get_negative_sampling_prob(word_counts)\n",
    "    {'the': 0.298, 'is': 0.160, 'apple': 0.042}\n",
    "    \"\"\"\n",
    "\n",
    "    ### YOUR CODE HERE\n",
    "\n",
    "    adjusted_freqs = {word: count ** (3/4) for word, count in word_count_dict.items()}\n",
    "    Z = sum(adjusted_freqs.values())\n",
    "    negative_sampling_prob_dict = {word: freq / Z for word, freq in adjusted_freqs.items()}\n",
    "\n",
    "    return negative_sampling_prob_dict"
   ]
  },
  {
   "cell_type": "markdown",
   "metadata": {},
   "source": [
    "Применим функции `subsample_frequent_words` для расчета вероятностей слов быть отобранными в обучающую выборку и `get_negative_sampling_prob` для расчета вероятностей слов быть отобранными в выборку negative_sampling.<p>\n",
    "Для удобства, преобразуем полученные словари в массивы (т.к. все слова все равно уже пронумерованы)."
   ]
  },
  {
   "cell_type": "code",
   "execution_count": 16,
   "metadata": {},
   "outputs": [],
   "source": [
    "keep_prob_dict = subsample_frequent_words(word_count_dict)\n",
    "assert keep_prob_dict.keys() == word_count_dict.keys()\n",
    "\n",
    "keep_prob_array = keep_prob_to_array(keep_prob_dict, index_to_word, word_to_index)"
   ]
  },
  {
   "cell_type": "code",
   "execution_count": 17,
   "metadata": {},
   "outputs": [],
   "source": [
    "negative_sampling_prob_dict = get_negative_sampling_prob(word_count_dict)\n",
    "assert np.allclose(sum(negative_sampling_prob_dict.values()), 1)\n",
    "\n",
    "negative_sampling_prob_array = negative_sampling_prob_to_array(negative_sampling_prob_dict, index_to_word, word_to_index)"
   ]
  },
  {
   "cell_type": "markdown",
   "metadata": {},
   "source": [
    "### Реализация модели Skipgram"
   ]
  },
  {
   "cell_type": "markdown",
   "metadata": {},
   "source": [
    "Наконец, время реализовать модель!\n",
    "\n",
    "Напомним, что в случае negative sampling решается задача максимизации следующего функционала:\n",
    "\n",
    "$$\n",
    "\\mathcal{L} = \\log \\sigma({\\mathbf{v}'_{w_O}}^\\top \\mathbf{v}_{w_I}) + \\sum_{i=1}^{k} \\mathbb{E}_{w_i \\sim P_n(w)} \\left[ \\log \\sigma({-\\mathbf{v}'_{w_i}}^\\top \\mathbf{v}_{w_I}) \\right],\n",
    "$$\n",
    "\n",
    "где:\n",
    "- $\\mathbf{v}_{w_I}$ – вектор центрального слова $w_I$,\n",
    "- $\\mathbf{v}'_{w_O}$ – вектор слова из контекста $w_O$,\n",
    "- $k$ – число negative samples,\n",
    "- $P_n(w)$ – распределение negative samples, заданное выше,\n",
    "- $\\sigma$ – сигмоида."
   ]
  },
  {
   "cell_type": "code",
   "execution_count": 18,
   "metadata": {},
   "outputs": [],
   "source": [
    "class SkipGramModelWithNegSampling(nn.Module):\n",
    "    def __init__(self, vocab_size, embedding_dim):\n",
    "        super().__init__()\n",
    "        self.center_embeddings = nn.Embedding(vocab_size, embedding_dim)\n",
    "        self.context_embeddings = nn.Embedding(vocab_size, embedding_dim)\n",
    "\n",
    "    def forward(self, center_words, pos_context_words, neg_context_words):\n",
    "\n",
    "        center_embeddings = self.center_embeddings(center_words)\n",
    "        pos_context_embeddings = self.context_embeddings(pos_context_words)\n",
    "        neg_context_embeddings = self.context_embeddings(neg_context_words)\n",
    "\n",
    "        pos_scores = torch.sum(center_embeddings * pos_context_embeddings, dim=1)\n",
    "        neg_scores = torch.sum((center_embeddings.unsqueeze(1) * neg_context_embeddings), dim = 2)\n",
    "\n",
    "        return pos_scores, neg_scores"
   ]
  },
  {
   "cell_type": "markdown",
   "metadata": {},
   "source": [
    "## Обучаем модель"
   ]
  },
  {
   "cell_type": "markdown",
   "metadata": {},
   "source": [
    "Инициализируем модель. Не забываем инициализировать её перед каждым обучением!"
   ]
  },
  {
   "cell_type": "code",
   "execution_count": 19,
   "metadata": {},
   "outputs": [],
   "source": [
    "device = torch.device(\"cpu\")\n",
    "\n",
    "vocab_size = len(word_to_index)\n",
    "embedding_dim = 32\n",
    "num_negatives = 15\n",
    "\n",
    "model = SkipGramModelWithNegSampling(vocab_size, embedding_dim).to(device)\n",
    "optimizer = optim.Adam(model.parameters(), lr=0.05)\n",
    "lr_scheduler = ReduceLROnPlateau(optimizer, factor=0.5, patience=150)\n",
    "criterion = nn.BCEWithLogitsLoss()\n",
    "\n",
    "params_counter = 0\n",
    "for weights in model.parameters():\n",
    "    params_counter += weights.shape.numel()\n",
    "assert params_counter == len(word_to_index) * embedding_dim * 2"
   ]
  },
  {
   "cell_type": "markdown",
   "metadata": {},
   "source": [
    "Запускаем обучение:"
   ]
  },
  {
   "cell_type": "code",
   "execution_count": null,
   "metadata": {},
   "outputs": [],
   "source": [
    "steps = 2500\n",
    "batch_size = 1024\n",
    "\n",
    "train_skipgram_with_neg_sampling(\n",
    "    model,\n",
    "    context_pairs,\n",
    "    keep_prob_array,\n",
    "    word_to_index,\n",
    "    batch_size,\n",
    "    num_negatives,\n",
    "    negative_sampling_prob_array,\n",
    "    steps,\n",
    "    optimizer=optimizer,\n",
    "    lr_scheduler=lr_scheduler,\n",
    "    device=device,\n",
    ")"
   ]
  },
  {
   "cell_type": "markdown",
   "metadata": {},
   "source": [
    "Сохраняем состояние обученной модельки:"
   ]
  },
  {
   "cell_type": "code",
   "execution_count": 24,
   "metadata": {},
   "outputs": [],
   "source": [
    "#torch.save(model.state_dict(), 'my_model_100_test.pth')"
   ]
  },
  {
   "cell_type": "markdown",
   "metadata": {},
   "source": [
    "## Тестируем модель"
   ]
  },
  {
   "cell_type": "markdown",
   "metadata": {},
   "source": [
    "Оценим Accuracy модели:"
   ]
  },
  {
   "cell_type": "code",
   "execution_count": 21,
   "metadata": {},
   "outputs": [
    {
     "name": "stderr",
     "output_type": "stream",
     "text": [
      "Evaluating: 100%|██████████| 25456/25456 [00:02<00:00, 11601.96it/s]\n"
     ]
    },
    {
     "name": "stdout",
     "output_type": "stream",
     "text": [
      "Accuracy: 0.6834\n"
     ]
    }
   ],
   "source": [
    "accuracy = evaluate_model(model, context_pairs, device)"
   ]
  },
  {
   "cell_type": "markdown",
   "metadata": {},
   "source": [
    "Наконец, взглянем на ближайшие по косинусной мере слова:"
   ]
  },
  {
   "cell_type": "code",
   "execution_count": 22,
   "metadata": {},
   "outputs": [
    {
     "data": {
      "text/plain": [
       "[('RhHo6Rh6', 0.47442108392715454),\n",
       " ('C4+', 0.4749743342399597),\n",
       " ('Å)', 0.4750446081161499),\n",
       " ('YRu2Si2', 0.4798634648323059),\n",
       " ('(3.14', 0.4859497547149658),\n",
       " ('Rb(BH)6', 0.48756512999534607),\n",
       " ('La-Os', 0.48966145515441895),\n",
       " ('Co2TiAl', 0.4932682514190674),\n",
       " ('3.50', 0.49957871437072754),\n",
       " ('GdPd', 0.4997093081474304),\n",
       " ('KBrF4', 0.4998997449874878),\n",
       " ('MgMg12', 0.5043226480484009),\n",
       " ('V-As', 0.507789671421051),\n",
       " ('PDy6', 0.5102002024650574),\n",
       " ('ZnSe', 0.5113644599914551),\n",
       " ('47°', 0.5219210982322693),\n",
       " ('HoS', 0.5503510236740112),\n",
       " ('N3+', 0.5535392165184021),\n",
       " ('(2.20', 0.5754271149635315),\n",
       " ('He', 0.9999998807907104)]"
      ]
     },
     "execution_count": 22,
     "metadata": {},
     "output_type": "execute_result"
    }
   ],
   "source": [
    "central_word = \"He\"\n",
    "n_neighbours = 20\n",
    "\n",
    "find_nearest(model, central_word, word_to_index, index_to_word, n_neighbours)"
   ]
  },
  {
   "cell_type": "markdown",
   "metadata": {},
   "source": [
    "## Визуализация результатов"
   ]
  },
  {
   "cell_type": "markdown",
   "metadata": {},
   "source": [
    "Для начала нам необходимо из всего списка слов отобрать те, которые мы хотим визуализировать. \n",
    "<p>Мы хотим визуализировать формулы кристаллов, отберем их: "
   ]
  },
  {
   "cell_type": "code",
   "execution_count": 23,
   "metadata": {},
   "outputs": [],
   "source": [
    "list_of_formules = [description[0] for description in data_tokenized]"
   ]
  },
  {
   "cell_type": "markdown",
   "metadata": {},
   "source": [
    "Получаем эмбеддинги для отобранных слов:"
   ]
  },
  {
   "cell_type": "code",
   "execution_count": 24,
   "metadata": {},
   "outputs": [],
   "source": [
    "word_embeddings = get_word_embeddings(model, word_to_index, list_of_formules)"
   ]
  },
  {
   "cell_type": "markdown",
   "metadata": {},
   "source": [
    "Наши эмбеддинги имеют размерность 32, а мы хотим визуализировать их на интерактивном 3D-графике. Для этого необходимо понизить размерность эмбеддингов с помощью редьюсеров. Мы будем использовать `umap`."
   ]
  },
  {
   "cell_type": "code",
   "execution_count": 25,
   "metadata": {},
   "outputs": [],
   "source": [
    "umap_model = umap.UMAP(n_components=3, n_neighbors=5)\n",
    "\n",
    "embeddings_3d = umap_model.fit_transform(word_embeddings)"
   ]
  },
  {
   "cell_type": "markdown",
   "metadata": {},
   "source": [
    "Строим интерактивные 3D-графики.\n",
    "Ниже вы можете ввести название файла, в который будет сохранен интерактивный график. Открыть его можно на локальном компьютере в браузере. Все остальные переменные лучше не трогать, но если хочется настроить график под себя, можно исправить функции в файле `skipgram_model_functions.py`"
   ]
  },
  {
   "cell_type": "code",
   "execution_count": 37,
   "metadata": {},
   "outputs": [],
   "source": [
    "output_filename = \"3D_plot_by_structure_types_70_tokens.html\"\n",
    "\n",
    "properties_filename = 'robocrys_exp_stable_70_tokens.csv'\n",
    "get_3D_plot_by_structure_types(list_of_formules, embeddings_3d, accuracy, output_filename, properties_filename)"
   ]
  },
  {
   "cell_type": "code",
   "execution_count": 39,
   "metadata": {},
   "outputs": [],
   "source": [
    "output_filename = \"3D_plot_by_crystal_system_70_tokens.html\"\n",
    "\n",
    "properties_filename = 'robocrys_exp_stable_70_tokens.csv'\n",
    "get_3D_plot_by_crystal_system(list_of_formules, embeddings_3d, accuracy, output_filename, properties_filename)"
   ]
  },
  {
   "cell_type": "markdown",
   "metadata": {},
   "source": [
    "### Над чем стоит подумать?"
   ]
  },
  {
   "cell_type": "markdown",
   "metadata": {},
   "source": [
    "<li> Как повысить accuracy?\n",
    "<li> Возможно, вы заметили в токенизации некоторые баги. Подумайте, с помощью каких инструментов от них удобнее всего избавиться.\n",
    "<li> Как ширина контекстного окна Skipgram модели влияет на результат? Что изменится, если его уменьшить/увеличить?\n",
    "<li> Если получилось отметить явно выраженные кластеры на 3D-графиках, подумать, какая закономерность в том, что эмбединги структур, находящихся в кластере, схожи."
   ]
  }
 ],
 "metadata": {
  "kernelspec": {
   "display_name": "crystallm_venv",
   "language": "python",
   "name": "python3"
  },
  "language_info": {
   "codemirror_mode": {
    "name": "ipython",
    "version": 3
   },
   "file_extension": ".py",
   "mimetype": "text/x-python",
   "name": "python",
   "nbconvert_exporter": "python",
   "pygments_lexer": "ipython3",
   "version": "3.10.15"
  }
 },
 "nbformat": 4,
 "nbformat_minor": 2
}
